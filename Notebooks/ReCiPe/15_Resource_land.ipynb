{
 "cells": [
  {
   "cell_type": "code",
   "execution_count": 1,
   "id": "3c957a0b",
   "metadata": {},
   "outputs": [],
   "source": [
    "import pickle\n",
    "import pandas as pd\n",
    "import os           \n",
    "import numpy as np\n",
    "import re\n",
    "import itertools\n",
    "import plotly.express as px\n",
    "#import brightway2 as bw \n",
    "import random \n",
    "import string"
   ]
  },
  {
   "cell_type": "code",
   "execution_count": 2,
   "id": "b3b94023",
   "metadata": {},
   "outputs": [],
   "source": [
    "import sys\n",
    "sys.path.append('../../Module')  #two levels up & then down to Module folder\n",
    "#from recipe_mod import *\n",
    "from recipe_mod_resIC import *"
   ]
  },
  {
   "cell_type": "markdown",
   "id": "8295d0b7",
   "metadata": {},
   "source": [
    "<h3> raw RIVM and BW2 seperate land use to land transformation and land occupation  </h3>\n",
    "<li> land transformation   </li>\n",
    "<li> land occupation </li>\n",
    "<font color = 'red'> read in seperately then combine to land use, as SP and oLCA have final land use (incl. LT and LO) </font>"
   ]
  },
  {
   "cell_type": "code",
   "execution_count": 3,
   "id": "96024c35",
   "metadata": {},
   "outputs": [],
   "source": [
    "lcia_name = \"Land use\"\n",
    "SP_name = \"Land use\"\n",
    "olca_filepathname = \"../../Data_rawCFs/olca_recipe_LU_saved.dat\"\n",
    "rivm_name_LT = \"Land transformation\"\n",
    "rivm_name_LO = \"Land occupation\"\n",
    "bw2_filepathname_LT = \"../../Data_rawCFs/BW2_recipe_Land transformation.dat\"\n",
    "bw2_filepathname_LO = \"../../Data_rawCFs/BW2_recipe_Land occupation.dat\" \n",
    "\n",
    "# used in final calculation to create dict names\n",
    "pairwise_name = [\"SPvsRIVM\", \"SPvsBW2\", \"SPvsopenLCA\", \"openLCAvsBW2\", \"openLCAvsRIVM\", \"BW2vsRIVM\"]"
   ]
  },
  {
   "cell_type": "markdown",
   "id": "e4bd6ce6",
   "metadata": {},
   "source": [
    "### read in SP LCIA"
   ]
  },
  {
   "cell_type": "code",
   "execution_count": 4,
   "id": "fb3ab6d0",
   "metadata": {},
   "outputs": [
    {
     "name": "stdout",
     "output_type": "stream",
     "text": [
      "91\n"
     ]
    },
    {
     "data": {
      "text/plain": [
       "Index(['Compartment', 'Subcompartment', 'Substance', 'CAS', 'Factor', 'Unit'], dtype='object')"
      ]
     },
     "execution_count": 4,
     "metadata": {},
     "output_type": "execute_result"
    }
   ],
   "source": [
    "SP_recipe = pd.read_excel(\"../../Data_rawCFs/SP_ReCiPe.xlsx\", sheet_name=SP_name, \n",
    "                                  header=[0], converters={'CAS':str})\n",
    "\n",
    "print(len(SP_recipe))\n",
    "SP_recipe.fillna(''.join(random.choice(string.ascii_uppercase + string.digits) for _ in range(9)), inplace=True)\n",
    "#to assign a random string_num to CAS with NA, so that they're not the \"SAME\" CAS when compared to other sources:\n",
    "#print ([x for x in SP_recipe[\"CAS\"] if '-' not in x ] [0]) \n",
    "SP_recipe.columns"
   ]
  },
  {
   "cell_type": "code",
   "execution_count": 5,
   "id": "a9e0a4f0",
   "metadata": {},
   "outputs": [
    {
     "data": {
      "text/html": [
       "<div>\n",
       "<style scoped>\n",
       "    .dataframe tbody tr th:only-of-type {\n",
       "        vertical-align: middle;\n",
       "    }\n",
       "\n",
       "    .dataframe tbody tr th {\n",
       "        vertical-align: top;\n",
       "    }\n",
       "\n",
       "    .dataframe thead th {\n",
       "        text-align: right;\n",
       "    }\n",
       "</style>\n",
       "<table border=\"1\" class=\"dataframe\">\n",
       "  <thead>\n",
       "    <tr style=\"text-align: right;\">\n",
       "      <th></th>\n",
       "      <th>category</th>\n",
       "      <th>subcategory</th>\n",
       "      <th>flow</th>\n",
       "      <th>cas_number</th>\n",
       "      <th>value</th>\n",
       "      <th>unit</th>\n",
       "    </tr>\n",
       "  </thead>\n",
       "  <tbody>\n",
       "    <tr>\n",
       "      <th>0</th>\n",
       "      <td>Raw</td>\n",
       "      <td>(unspecified)</td>\n",
       "      <td>occupation, agriculture</td>\n",
       "      <td>QC4CGTTL5</td>\n",
       "      <td>1.0</td>\n",
       "      <td>m2a crop eq / m2a</td>\n",
       "    </tr>\n",
       "    <tr>\n",
       "      <th>1</th>\n",
       "      <td>Raw</td>\n",
       "      <td>(unspecified)</td>\n",
       "      <td>occupation, agriculture, mosaic</td>\n",
       "      <td>QC4CGTTL5</td>\n",
       "      <td>1.0</td>\n",
       "      <td>m2a crop eq / m2a</td>\n",
       "    </tr>\n",
       "    <tr>\n",
       "      <th>2</th>\n",
       "      <td>Raw</td>\n",
       "      <td>(unspecified)</td>\n",
       "      <td>occupation, annual crop</td>\n",
       "      <td>QC4CGTTL5</td>\n",
       "      <td>1.0</td>\n",
       "      <td>m2a crop eq / m2a</td>\n",
       "    </tr>\n",
       "    <tr>\n",
       "      <th>3</th>\n",
       "      <td>Raw</td>\n",
       "      <td>(unspecified)</td>\n",
       "      <td>occupation, annual crop, conservation tillage</td>\n",
       "      <td>QC4CGTTL5</td>\n",
       "      <td>1.0</td>\n",
       "      <td>m2a crop eq / m2a</td>\n",
       "    </tr>\n",
       "    <tr>\n",
       "      <th>4</th>\n",
       "      <td>Raw</td>\n",
       "      <td>(unspecified)</td>\n",
       "      <td>occupation, annual crop, conventional tillage</td>\n",
       "      <td>QC4CGTTL5</td>\n",
       "      <td>1.0</td>\n",
       "      <td>m2a crop eq / m2a</td>\n",
       "    </tr>\n",
       "  </tbody>\n",
       "</table>\n",
       "</div>"
      ],
      "text/plain": [
       "  category    subcategory                                           flow  \\\n",
       "0      Raw  (unspecified)                        occupation, agriculture   \n",
       "1      Raw  (unspecified)                occupation, agriculture, mosaic   \n",
       "2      Raw  (unspecified)                        occupation, annual crop   \n",
       "3      Raw  (unspecified)  occupation, annual crop, conservation tillage   \n",
       "4      Raw  (unspecified)  occupation, annual crop, conventional tillage   \n",
       "\n",
       "  cas_number  value               unit  \n",
       "0  QC4CGTTL5    1.0  m2a crop eq / m2a  \n",
       "1  QC4CGTTL5    1.0  m2a crop eq / m2a  \n",
       "2  QC4CGTTL5    1.0  m2a crop eq / m2a  \n",
       "3  QC4CGTTL5    1.0  m2a crop eq / m2a  \n",
       "4  QC4CGTTL5    1.0  m2a crop eq / m2a  "
      ]
     },
     "execution_count": 5,
     "metadata": {},
     "output_type": "execute_result"
    }
   ],
   "source": [
    "SP_recipe = SP_recipe.rename(columns={\"Compartment\": \"category\", \"Subcompartment\": \"subcategory\", \n",
    "                               \"Substance\": \"flow\", \"Factor\":\"value\", \"CAS\": \"cas_number\" })\n",
    "SP_recipe = SP_recipe.rename(str.lower, axis='columns')\n",
    "SP_recipe['flow'] = SP_recipe[\"flow\"].str.lower()\n",
    "SP_recipe.head()"
   ]
  },
  {
   "cell_type": "markdown",
   "id": "4d964866",
   "metadata": {},
   "source": [
    "### read in openlca LCIA"
   ]
  },
  {
   "cell_type": "code",
   "execution_count": 6,
   "id": "a97005c5",
   "metadata": {},
   "outputs": [
    {
     "name": "stdout",
     "output_type": "stream",
     "text": [
      "160\n"
     ]
    }
   ],
   "source": [
    "olca_recipe = unpickle_data(olca_filepathname)\n",
    "olca_recipe.fillna(''.join(random.choice(string.ascii_uppercase + string.digits) for _ in range(9)), inplace=True)\n",
    "#print ([x for x in olca_recipe[\"CAS_NUMBER\"] if '-' not in x ] [0]) \n",
    "print(len(olca_recipe))\n",
    "olca_recipe = olca_recipe.rename(str.lower, axis='columns')"
   ]
  },
  {
   "cell_type": "code",
   "execution_count": 7,
   "id": "72b87684",
   "metadata": {},
   "outputs": [
    {
     "data": {
      "text/html": [
       "<div>\n",
       "<style scoped>\n",
       "    .dataframe tbody tr th:only-of-type {\n",
       "        vertical-align: middle;\n",
       "    }\n",
       "\n",
       "    .dataframe tbody tr th {\n",
       "        vertical-align: top;\n",
       "    }\n",
       "\n",
       "    .dataframe thead th {\n",
       "        text-align: right;\n",
       "    }\n",
       "</style>\n",
       "<table border=\"1\" class=\"dataframe\">\n",
       "  <thead>\n",
       "    <tr style=\"text-align: right;\">\n",
       "      <th></th>\n",
       "      <th>impact_method</th>\n",
       "      <th>impact_category_uuid</th>\n",
       "      <th>impact_category</th>\n",
       "      <th>reference_unit</th>\n",
       "      <th>flow_uuid</th>\n",
       "      <th>flow</th>\n",
       "      <th>cas_number</th>\n",
       "      <th>subcategory</th>\n",
       "      <th>category</th>\n",
       "      <th>unit</th>\n",
       "      <th>value</th>\n",
       "    </tr>\n",
       "  </thead>\n",
       "  <tbody>\n",
       "    <tr>\n",
       "      <th>0</th>\n",
       "      <td>ReCiPe 2016 Midpoint (H)</td>\n",
       "      <td>f7c097c5-71c7-322c-a610-5dee0a39fd6b</td>\n",
       "      <td>Land use</td>\n",
       "      <td>m2a crop eq</td>\n",
       "      <td>70c4c6d8-ed81-4763-ae6d-39e54ef0b1fa</td>\n",
       "      <td>occupation, seabed, drilling and mining</td>\n",
       "      <td>GO7V5LUOO</td>\n",
       "      <td>land</td>\n",
       "      <td>Resource</td>\n",
       "      <td>m2*a</td>\n",
       "      <td>0.0</td>\n",
       "    </tr>\n",
       "    <tr>\n",
       "      <th>1</th>\n",
       "      <td>ReCiPe 2016 Midpoint (H)</td>\n",
       "      <td>f7c097c5-71c7-322c-a610-5dee0a39fd6b</td>\n",
       "      <td>Land use</td>\n",
       "      <td>m2a crop eq</td>\n",
       "      <td>9db06277-b6d9-4c48-8cfb-de342e928a50</td>\n",
       "      <td>occupation, seabed, infrastructure</td>\n",
       "      <td>GO7V5LUOO</td>\n",
       "      <td>land</td>\n",
       "      <td>Resource</td>\n",
       "      <td>m2*a</td>\n",
       "      <td>0.0</td>\n",
       "    </tr>\n",
       "    <tr>\n",
       "      <th>2</th>\n",
       "      <td>ReCiPe 2016 Midpoint (H)</td>\n",
       "      <td>f7c097c5-71c7-322c-a610-5dee0a39fd6b</td>\n",
       "      <td>Land use</td>\n",
       "      <td>m2a crop eq</td>\n",
       "      <td>d903114a-8c2c-3649-ab5b-22f404fc4646</td>\n",
       "      <td>occupation, annual crop, reduced tillage</td>\n",
       "      <td>GO7V5LUOO</td>\n",
       "      <td>land</td>\n",
       "      <td>Resource</td>\n",
       "      <td>m2*a</td>\n",
       "      <td>1.0</td>\n",
       "    </tr>\n",
       "    <tr>\n",
       "      <th>3</th>\n",
       "      <td>ReCiPe 2016 Midpoint (H)</td>\n",
       "      <td>f7c097c5-71c7-322c-a610-5dee0a39fd6b</td>\n",
       "      <td>Land use</td>\n",
       "      <td>m2a crop eq</td>\n",
       "      <td>ded8e6ec-41f4-3417-8fee-a44d8a35bd77</td>\n",
       "      <td>occupation, annual crop, conventional tillage</td>\n",
       "      <td>GO7V5LUOO</td>\n",
       "      <td>land</td>\n",
       "      <td>Resource</td>\n",
       "      <td>m2*a</td>\n",
       "      <td>1.0</td>\n",
       "    </tr>\n",
       "    <tr>\n",
       "      <th>4</th>\n",
       "      <td>ReCiPe 2016 Midpoint (H)</td>\n",
       "      <td>f7c097c5-71c7-322c-a610-5dee0a39fd6b</td>\n",
       "      <td>Land use</td>\n",
       "      <td>m2a crop eq</td>\n",
       "      <td>dbc67ab5-f891-33ff-b1f2-eed940a1205b</td>\n",
       "      <td>occupation, annual crop, conservation tillage</td>\n",
       "      <td>GO7V5LUOO</td>\n",
       "      <td>land</td>\n",
       "      <td>Resource</td>\n",
       "      <td>m2*a</td>\n",
       "      <td>1.0</td>\n",
       "    </tr>\n",
       "  </tbody>\n",
       "</table>\n",
       "</div>"
      ],
      "text/plain": [
       "              impact_method                  impact_category_uuid  \\\n",
       "0  ReCiPe 2016 Midpoint (H)  f7c097c5-71c7-322c-a610-5dee0a39fd6b   \n",
       "1  ReCiPe 2016 Midpoint (H)  f7c097c5-71c7-322c-a610-5dee0a39fd6b   \n",
       "2  ReCiPe 2016 Midpoint (H)  f7c097c5-71c7-322c-a610-5dee0a39fd6b   \n",
       "3  ReCiPe 2016 Midpoint (H)  f7c097c5-71c7-322c-a610-5dee0a39fd6b   \n",
       "4  ReCiPe 2016 Midpoint (H)  f7c097c5-71c7-322c-a610-5dee0a39fd6b   \n",
       "\n",
       "  impact_category reference_unit                             flow_uuid  \\\n",
       "0        Land use    m2a crop eq  70c4c6d8-ed81-4763-ae6d-39e54ef0b1fa   \n",
       "1        Land use    m2a crop eq  9db06277-b6d9-4c48-8cfb-de342e928a50   \n",
       "2        Land use    m2a crop eq  d903114a-8c2c-3649-ab5b-22f404fc4646   \n",
       "3        Land use    m2a crop eq  ded8e6ec-41f4-3417-8fee-a44d8a35bd77   \n",
       "4        Land use    m2a crop eq  dbc67ab5-f891-33ff-b1f2-eed940a1205b   \n",
       "\n",
       "                                            flow cas_number subcategory  \\\n",
       "0        occupation, seabed, drilling and mining  GO7V5LUOO        land   \n",
       "1             occupation, seabed, infrastructure  GO7V5LUOO        land   \n",
       "2       occupation, annual crop, reduced tillage  GO7V5LUOO        land   \n",
       "3  occupation, annual crop, conventional tillage  GO7V5LUOO        land   \n",
       "4  occupation, annual crop, conservation tillage  GO7V5LUOO        land   \n",
       "\n",
       "   category  unit  value  \n",
       "0  Resource  m2*a    0.0  \n",
       "1  Resource  m2*a    0.0  \n",
       "2  Resource  m2*a    1.0  \n",
       "3  Resource  m2*a    1.0  \n",
       "4  Resource  m2*a    1.0  "
      ]
     },
     "execution_count": 7,
     "metadata": {},
     "output_type": "execute_result"
    }
   ],
   "source": [
    "olca_recipe['flow'] = olca_recipe[\"flow\"].str.lower()\n",
    "olca_recipe.head()"
   ]
  },
  {
   "cell_type": "markdown",
   "id": "a994383f",
   "metadata": {},
   "source": [
    "### read in BW2 LCIA_LT and LO"
   ]
  },
  {
   "cell_type": "code",
   "execution_count": 8,
   "id": "3f658ff7",
   "metadata": {},
   "outputs": [
    {
     "name": "stdout",
     "output_type": "stream",
     "text": [
      "9\n"
     ]
    },
    {
     "data": {
      "text/html": [
       "<div>\n",
       "<style scoped>\n",
       "    .dataframe tbody tr th:only-of-type {\n",
       "        vertical-align: middle;\n",
       "    }\n",
       "\n",
       "    .dataframe tbody tr th {\n",
       "        vertical-align: top;\n",
       "    }\n",
       "\n",
       "    .dataframe thead th {\n",
       "        text-align: right;\n",
       "    }\n",
       "</style>\n",
       "<table border=\"1\" class=\"dataframe\">\n",
       "  <thead>\n",
       "    <tr style=\"text-align: right;\">\n",
       "      <th></th>\n",
       "      <th>cas_number</th>\n",
       "      <th>flow</th>\n",
       "      <th>flow_uuid</th>\n",
       "      <th>type</th>\n",
       "      <th>category</th>\n",
       "      <th>subcategory</th>\n",
       "      <th>unit</th>\n",
       "      <th>value</th>\n",
       "    </tr>\n",
       "  </thead>\n",
       "  <tbody>\n",
       "    <tr>\n",
       "      <th>0</th>\n",
       "      <td>D1RVQHAAY</td>\n",
       "      <td>transformation, from grassland, natural (non-use)</td>\n",
       "      <td>b905c2e0-a0db-4e66-80d2-8bdfc93c6218</td>\n",
       "      <td>natural resource</td>\n",
       "      <td>natural resource</td>\n",
       "      <td>land</td>\n",
       "      <td>square meter</td>\n",
       "      <td>3.75</td>\n",
       "    </tr>\n",
       "    <tr>\n",
       "      <th>1</th>\n",
       "      <td>D1RVQHAAY</td>\n",
       "      <td>transformation, from forest, primary (non-use)</td>\n",
       "      <td>9d136389-8670-45ae-ad1d-a06848a1fd1d</td>\n",
       "      <td>natural resource</td>\n",
       "      <td>natural resource</td>\n",
       "      <td>land</td>\n",
       "      <td>square meter</td>\n",
       "      <td>36.75</td>\n",
       "    </tr>\n",
       "    <tr>\n",
       "      <th>2</th>\n",
       "      <td>D1RVQHAAY</td>\n",
       "      <td>transformation, from forest, secondary (non-use)</td>\n",
       "      <td>9cc80820-fcf9-4ea9-8e67-0aa423eba6a4</td>\n",
       "      <td>natural resource</td>\n",
       "      <td>natural resource</td>\n",
       "      <td>land</td>\n",
       "      <td>square meter</td>\n",
       "      <td>36.75</td>\n",
       "    </tr>\n",
       "    <tr>\n",
       "      <th>3</th>\n",
       "      <td>D1RVQHAAY</td>\n",
       "      <td>transformation, from shrub land, sclerophyllous</td>\n",
       "      <td>17a5a406-333f-4b9e-8852-c2de50bc9585</td>\n",
       "      <td>natural resource</td>\n",
       "      <td>natural resource</td>\n",
       "      <td>land</td>\n",
       "      <td>square meter</td>\n",
       "      <td>3.75</td>\n",
       "    </tr>\n",
       "    <tr>\n",
       "      <th>4</th>\n",
       "      <td>D1RVQHAAY</td>\n",
       "      <td>transformation, from wetland, inland (non-use)</td>\n",
       "      <td>0782d8ff-80e5-47a7-a2ba-3ba40ab60b60</td>\n",
       "      <td>natural resource</td>\n",
       "      <td>natural resource</td>\n",
       "      <td>land</td>\n",
       "      <td>square meter</td>\n",
       "      <td>3.75</td>\n",
       "    </tr>\n",
       "  </tbody>\n",
       "</table>\n",
       "</div>"
      ],
      "text/plain": [
       "  cas_number                                               flow  \\\n",
       "0  D1RVQHAAY  transformation, from grassland, natural (non-use)   \n",
       "1  D1RVQHAAY     transformation, from forest, primary (non-use)   \n",
       "2  D1RVQHAAY   transformation, from forest, secondary (non-use)   \n",
       "3  D1RVQHAAY    transformation, from shrub land, sclerophyllous   \n",
       "4  D1RVQHAAY     transformation, from wetland, inland (non-use)   \n",
       "\n",
       "                              flow_uuid              type          category  \\\n",
       "0  b905c2e0-a0db-4e66-80d2-8bdfc93c6218  natural resource  natural resource   \n",
       "1  9d136389-8670-45ae-ad1d-a06848a1fd1d  natural resource  natural resource   \n",
       "2  9cc80820-fcf9-4ea9-8e67-0aa423eba6a4  natural resource  natural resource   \n",
       "3  17a5a406-333f-4b9e-8852-c2de50bc9585  natural resource  natural resource   \n",
       "4  0782d8ff-80e5-47a7-a2ba-3ba40ab60b60  natural resource  natural resource   \n",
       "\n",
       "  subcategory          unit  value  \n",
       "0        land  square meter   3.75  \n",
       "1        land  square meter  36.75  \n",
       "2        land  square meter  36.75  \n",
       "3        land  square meter   3.75  \n",
       "4        land  square meter   3.75  "
      ]
     },
     "execution_count": 8,
     "metadata": {},
     "output_type": "execute_result"
    }
   ],
   "source": [
    "bw_recipe_LT = unpickle_data(bw2_filepathname_LT)\n",
    "bw_recipe_LT.fillna(''.join(random.choice(string.ascii_uppercase + string.digits) for _ in range(9)), inplace=True)\n",
    "print(len(bw_recipe_LT))\n",
    "bw_recipe_LT['flow'] = bw_recipe_LT[\"flow\"].str.lower()\n",
    "bw_recipe_LT.head()"
   ]
  },
  {
   "cell_type": "code",
   "execution_count": 9,
   "id": "c65f21ea",
   "metadata": {},
   "outputs": [
    {
     "name": "stdout",
     "output_type": "stream",
     "text": [
      "41\n"
     ]
    },
    {
     "data": {
      "text/html": [
       "<div>\n",
       "<style scoped>\n",
       "    .dataframe tbody tr th:only-of-type {\n",
       "        vertical-align: middle;\n",
       "    }\n",
       "\n",
       "    .dataframe tbody tr th {\n",
       "        vertical-align: top;\n",
       "    }\n",
       "\n",
       "    .dataframe thead th {\n",
       "        text-align: right;\n",
       "    }\n",
       "</style>\n",
       "<table border=\"1\" class=\"dataframe\">\n",
       "  <thead>\n",
       "    <tr style=\"text-align: right;\">\n",
       "      <th></th>\n",
       "      <th>cas_number</th>\n",
       "      <th>flow</th>\n",
       "      <th>flow_uuid</th>\n",
       "      <th>type</th>\n",
       "      <th>category</th>\n",
       "      <th>subcategory</th>\n",
       "      <th>unit</th>\n",
       "      <th>value</th>\n",
       "    </tr>\n",
       "  </thead>\n",
       "  <tbody>\n",
       "    <tr>\n",
       "      <th>0</th>\n",
       "      <td>5FNTYPKRJ</td>\n",
       "      <td>occupation, pasture, man made, intensive</td>\n",
       "      <td>98b723d4-3362-4b38-8b1e-1bedacfd5e27</td>\n",
       "      <td>natural resource</td>\n",
       "      <td>natural resource</td>\n",
       "      <td>land</td>\n",
       "      <td>square meter-year</td>\n",
       "      <td>0.55</td>\n",
       "    </tr>\n",
       "    <tr>\n",
       "      <th>1</th>\n",
       "      <td>5FNTYPKRJ</td>\n",
       "      <td>occupation, permanent crop, non-irrigated, int...</td>\n",
       "      <td>c9461a73-d00a-4fc7-a890-a9eda6af3185</td>\n",
       "      <td>natural resource</td>\n",
       "      <td>natural resource</td>\n",
       "      <td>land</td>\n",
       "      <td>square meter-year</td>\n",
       "      <td>0.70</td>\n",
       "    </tr>\n",
       "    <tr>\n",
       "      <th>2</th>\n",
       "      <td>5FNTYPKRJ</td>\n",
       "      <td>occupation, mineral extraction site</td>\n",
       "      <td>379ba5c9-5c3a-43d0-8e2d-605ad9c39e46</td>\n",
       "      <td>natural resource</td>\n",
       "      <td>natural resource</td>\n",
       "      <td>land</td>\n",
       "      <td>square meter-year</td>\n",
       "      <td>0.73</td>\n",
       "    </tr>\n",
       "    <tr>\n",
       "      <th>3</th>\n",
       "      <td>5FNTYPKRJ</td>\n",
       "      <td>occupation, annual crop, greenhouse</td>\n",
       "      <td>9e80f7cd-47fa-4c7f-8f2c-bdb9731b3196</td>\n",
       "      <td>natural resource</td>\n",
       "      <td>natural resource</td>\n",
       "      <td>land</td>\n",
       "      <td>square meter-year</td>\n",
       "      <td>0.73</td>\n",
       "    </tr>\n",
       "    <tr>\n",
       "      <th>4</th>\n",
       "      <td>5FNTYPKRJ</td>\n",
       "      <td>occupation, permanent crop, irrigated, intensive</td>\n",
       "      <td>3afbc2d8-1b51-4d43-87a7-e68291c1e999</td>\n",
       "      <td>natural resource</td>\n",
       "      <td>natural resource</td>\n",
       "      <td>land</td>\n",
       "      <td>square meter-year</td>\n",
       "      <td>0.70</td>\n",
       "    </tr>\n",
       "  </tbody>\n",
       "</table>\n",
       "</div>"
      ],
      "text/plain": [
       "  cas_number                                               flow  \\\n",
       "0  5FNTYPKRJ           occupation, pasture, man made, intensive   \n",
       "1  5FNTYPKRJ  occupation, permanent crop, non-irrigated, int...   \n",
       "2  5FNTYPKRJ                occupation, mineral extraction site   \n",
       "3  5FNTYPKRJ                occupation, annual crop, greenhouse   \n",
       "4  5FNTYPKRJ   occupation, permanent crop, irrigated, intensive   \n",
       "\n",
       "                              flow_uuid              type          category  \\\n",
       "0  98b723d4-3362-4b38-8b1e-1bedacfd5e27  natural resource  natural resource   \n",
       "1  c9461a73-d00a-4fc7-a890-a9eda6af3185  natural resource  natural resource   \n",
       "2  379ba5c9-5c3a-43d0-8e2d-605ad9c39e46  natural resource  natural resource   \n",
       "3  9e80f7cd-47fa-4c7f-8f2c-bdb9731b3196  natural resource  natural resource   \n",
       "4  3afbc2d8-1b51-4d43-87a7-e68291c1e999  natural resource  natural resource   \n",
       "\n",
       "  subcategory               unit  value  \n",
       "0        land  square meter-year   0.55  \n",
       "1        land  square meter-year   0.70  \n",
       "2        land  square meter-year   0.73  \n",
       "3        land  square meter-year   0.73  \n",
       "4        land  square meter-year   0.70  "
      ]
     },
     "execution_count": 9,
     "metadata": {},
     "output_type": "execute_result"
    }
   ],
   "source": [
    "bw_recipe_LO = unpickle_data(bw2_filepathname_LO)\n",
    "bw_recipe_LO.fillna(''.join(random.choice(string.ascii_uppercase + string.digits) for _ in range(9)), inplace=True)\n",
    "print(len(bw_recipe_LO))\n",
    "bw_recipe_LO['flow'] = bw_recipe_LO[\"flow\"].str.lower()\n",
    "bw_recipe_LO.head()"
   ]
  },
  {
   "cell_type": "markdown",
   "id": "79a411a4",
   "metadata": {},
   "source": [
    "<font color = 'red'> combine LT and LO to one dataframe  </font>"
   ]
  },
  {
   "cell_type": "code",
   "execution_count": 10,
   "id": "170778b5",
   "metadata": {},
   "outputs": [],
   "source": [
    "bw_recipe = pd.concat([bw_recipe_LO, bw_recipe_LT], axis=0, ignore_index=True)"
   ]
  },
  {
   "cell_type": "markdown",
   "id": "b38a9901",
   "metadata": {},
   "source": [
    "### read in raw RIVM_ReCiPe_LT and LO"
   ]
  },
  {
   "cell_type": "code",
   "execution_count": 11,
   "id": "9ff8b172",
   "metadata": {},
   "outputs": [
    {
     "data": {
      "text/html": [
       "<div>\n",
       "<style scoped>\n",
       "    .dataframe tbody tr th:only-of-type {\n",
       "        vertical-align: middle;\n",
       "    }\n",
       "\n",
       "    .dataframe tbody tr th {\n",
       "        vertical-align: top;\n",
       "    }\n",
       "\n",
       "    .dataframe thead th {\n",
       "        text-align: right;\n",
       "    }\n",
       "</style>\n",
       "<table border=\"1\" class=\"dataframe\">\n",
       "  <thead>\n",
       "    <tr style=\"text-align: right;\">\n",
       "      <th></th>\n",
       "      <th>Name in ecoinvent</th>\n",
       "      <th>Unnamed: 1</th>\n",
       "      <th>Individualist</th>\n",
       "      <th>Hierarchist</th>\n",
       "      <th>Egalitarian</th>\n",
       "    </tr>\n",
       "  </thead>\n",
       "  <tbody>\n",
       "    <tr>\n",
       "      <th>0</th>\n",
       "      <td>Transformation, from grassland, natural (non-use)</td>\n",
       "      <td>NaN</td>\n",
       "      <td>3.75</td>\n",
       "      <td>3.75</td>\n",
       "      <td>3.75</td>\n",
       "    </tr>\n",
       "    <tr>\n",
       "      <th>1</th>\n",
       "      <td>Transformation, from forest, primary (non-use)</td>\n",
       "      <td>NaN</td>\n",
       "      <td>36.75</td>\n",
       "      <td>36.75</td>\n",
       "      <td>36.75</td>\n",
       "    </tr>\n",
       "    <tr>\n",
       "      <th>2</th>\n",
       "      <td>Transformation, from forest, secondary (non-use)</td>\n",
       "      <td>NaN</td>\n",
       "      <td>36.75</td>\n",
       "      <td>36.75</td>\n",
       "      <td>36.75</td>\n",
       "    </tr>\n",
       "    <tr>\n",
       "      <th>3</th>\n",
       "      <td>Transformation, from shrub land, sclerophyllous</td>\n",
       "      <td>NaN</td>\n",
       "      <td>3.75</td>\n",
       "      <td>3.75</td>\n",
       "      <td>3.75</td>\n",
       "    </tr>\n",
       "    <tr>\n",
       "      <th>4</th>\n",
       "      <td>Transformation, from wetland, inland (non-use)</td>\n",
       "      <td>NaN</td>\n",
       "      <td>3.75</td>\n",
       "      <td>3.75</td>\n",
       "      <td>3.75</td>\n",
       "    </tr>\n",
       "  </tbody>\n",
       "</table>\n",
       "</div>"
      ],
      "text/plain": [
       "                                   Name in ecoinvent  Unnamed: 1  \\\n",
       "0  Transformation, from grassland, natural (non-use)         NaN   \n",
       "1     Transformation, from forest, primary (non-use)         NaN   \n",
       "2   Transformation, from forest, secondary (non-use)         NaN   \n",
       "3    Transformation, from shrub land, sclerophyllous         NaN   \n",
       "4     Transformation, from wetland, inland (non-use)         NaN   \n",
       "\n",
       "   Individualist  Hierarchist  Egalitarian  \n",
       "0           3.75         3.75         3.75  \n",
       "1          36.75        36.75        36.75  \n",
       "2          36.75        36.75        36.75  \n",
       "3           3.75         3.75         3.75  \n",
       "4           3.75         3.75         3.75  "
      ]
     },
     "execution_count": 11,
     "metadata": {},
     "output_type": "execute_result"
    }
   ],
   "source": [
    "rivm_recipe_LT = pd.read_excel(\"../../Data_rawCFs/ReCiPe2016_CFs_v1.1_20180117.xlsx\", sheet_name=rivm_name_LT, \n",
    "                                  header=[1], converters={'CAS':str})\n",
    "rivm_recipe_LT.head()"
   ]
  },
  {
   "cell_type": "code",
   "execution_count": 12,
   "id": "4f2e9a4b",
   "metadata": {},
   "outputs": [],
   "source": [
    "rivm_recipe_LT = rivm_recipe_LT.rename(columns={\"Name in ecoinvent\": \"flow\", \"Hierarchist\":\"value\"})\n",
    "rivm_recipe_LT = rivm_recipe_LT.rename(str.lower, axis='columns') \n",
    "rivm_recipe_LT['flow'] = rivm_recipe_LT[\"flow\"].str.lower()"
   ]
  },
  {
   "cell_type": "code",
   "execution_count": 13,
   "id": "c43889c9",
   "metadata": {},
   "outputs": [
    {
     "data": {
      "text/html": [
       "<div>\n",
       "<style scoped>\n",
       "    .dataframe tbody tr th:only-of-type {\n",
       "        vertical-align: middle;\n",
       "    }\n",
       "\n",
       "    .dataframe tbody tr th {\n",
       "        vertical-align: top;\n",
       "    }\n",
       "\n",
       "    .dataframe thead th {\n",
       "        text-align: right;\n",
       "    }\n",
       "</style>\n",
       "<table border=\"1\" class=\"dataframe\">\n",
       "  <thead>\n",
       "    <tr style=\"text-align: right;\">\n",
       "      <th></th>\n",
       "      <th>Name in ecoinvent</th>\n",
       "      <th>Name in ReCiPe</th>\n",
       "      <th>Individualist</th>\n",
       "      <th>Hierarchist</th>\n",
       "      <th>Egalitarian</th>\n",
       "      <th>Unnamed: 5</th>\n",
       "      <th>Unnamed: 6</th>\n",
       "      <th>Crop type</th>\n",
       "      <th>CFocc (annual crop eq)</th>\n",
       "    </tr>\n",
       "  </thead>\n",
       "  <tbody>\n",
       "    <tr>\n",
       "      <th>0</th>\n",
       "      <td>Occupation, pasture, man made, intensive</td>\n",
       "      <td>pasture</td>\n",
       "      <td>0.55</td>\n",
       "      <td>0.55</td>\n",
       "      <td>0.55</td>\n",
       "      <td>NaN</td>\n",
       "      <td>NaN</td>\n",
       "      <td>managed forest</td>\n",
       "      <td>0.30</td>\n",
       "    </tr>\n",
       "    <tr>\n",
       "      <th>1</th>\n",
       "      <td>Occupation, permanent crop, non-irrigated, int...</td>\n",
       "      <td>permanent crops</td>\n",
       "      <td>0.70</td>\n",
       "      <td>0.70</td>\n",
       "      <td>0.70</td>\n",
       "      <td>NaN</td>\n",
       "      <td>NaN</td>\n",
       "      <td>annual crops</td>\n",
       "      <td>1.00</td>\n",
       "    </tr>\n",
       "    <tr>\n",
       "      <th>2</th>\n",
       "      <td>Occupation, mineral extraction site</td>\n",
       "      <td>artificial area</td>\n",
       "      <td>0.73</td>\n",
       "      <td>0.73</td>\n",
       "      <td>0.73</td>\n",
       "      <td>NaN</td>\n",
       "      <td>NaN</td>\n",
       "      <td>pasture</td>\n",
       "      <td>0.55</td>\n",
       "    </tr>\n",
       "    <tr>\n",
       "      <th>3</th>\n",
       "      <td>Occupation, annual crop, greenhouse</td>\n",
       "      <td>artificial area</td>\n",
       "      <td>0.73</td>\n",
       "      <td>0.73</td>\n",
       "      <td>0.73</td>\n",
       "      <td>NaN</td>\n",
       "      <td>NaN</td>\n",
       "      <td>artificial area</td>\n",
       "      <td>0.73</td>\n",
       "    </tr>\n",
       "    <tr>\n",
       "      <th>4</th>\n",
       "      <td>Occupation, permanent crop, irrigated, intensive</td>\n",
       "      <td>permanent crops</td>\n",
       "      <td>0.70</td>\n",
       "      <td>0.70</td>\n",
       "      <td>0.70</td>\n",
       "      <td>NaN</td>\n",
       "      <td>NaN</td>\n",
       "      <td>permanent crops</td>\n",
       "      <td>0.70</td>\n",
       "    </tr>\n",
       "  </tbody>\n",
       "</table>\n",
       "</div>"
      ],
      "text/plain": [
       "                                   Name in ecoinvent   Name in ReCiPe  \\\n",
       "0           Occupation, pasture, man made, intensive          pasture   \n",
       "1  Occupation, permanent crop, non-irrigated, int...  permanent crops   \n",
       "2                Occupation, mineral extraction site  artificial area   \n",
       "3                Occupation, annual crop, greenhouse  artificial area   \n",
       "4   Occupation, permanent crop, irrigated, intensive  permanent crops   \n",
       "\n",
       "   Individualist  Hierarchist  Egalitarian  Unnamed: 5  Unnamed: 6  \\\n",
       "0           0.55         0.55         0.55         NaN         NaN   \n",
       "1           0.70         0.70         0.70         NaN         NaN   \n",
       "2           0.73         0.73         0.73         NaN         NaN   \n",
       "3           0.73         0.73         0.73         NaN         NaN   \n",
       "4           0.70         0.70         0.70         NaN         NaN   \n",
       "\n",
       "         Crop type  CFocc (annual crop eq)  \n",
       "0   managed forest                    0.30  \n",
       "1     annual crops                    1.00  \n",
       "2          pasture                    0.55  \n",
       "3  artificial area                    0.73  \n",
       "4  permanent crops                    0.70  "
      ]
     },
     "execution_count": 13,
     "metadata": {},
     "output_type": "execute_result"
    }
   ],
   "source": [
    "rivm_recipe_LO = pd.read_excel(\"../../Data_rawCFs/ReCiPe2016_CFs_v1.1_20180117.xlsx\", sheet_name=rivm_name_LO, \n",
    "                                  header=[1], converters={'CAS':str})\n",
    "rivm_recipe_LO.head()"
   ]
  },
  {
   "cell_type": "code",
   "execution_count": 14,
   "id": "0f0020d3",
   "metadata": {},
   "outputs": [],
   "source": [
    "rivm_recipe_LO = rivm_recipe_LO.rename(columns={\"Name in ecoinvent\": \"flow\", \"Hierarchist\":\"value\"})\n",
    "rivm_recipe_LO = rivm_recipe_LO.rename(str.lower, axis='columns') \n",
    "rivm_recipe_LO['flow'] = rivm_recipe_LO[\"flow\"].str.lower()"
   ]
  },
  {
   "cell_type": "code",
   "execution_count": 15,
   "id": "0f1fed0a",
   "metadata": {},
   "outputs": [],
   "source": [
    "rivm_recipe = pd.concat([rivm_recipe_LO, rivm_recipe_LT], axis=0, ignore_index=True)"
   ]
  },
  {
   "cell_type": "markdown",
   "id": "999385f0",
   "metadata": {},
   "source": [
    "### 3. final calculation, pair-wise comparison, corr. matrix"
   ]
  },
  {
   "cell_type": "code",
   "execution_count": 16,
   "id": "26b400d6",
   "metadata": {},
   "outputs": [],
   "source": [
    "# create 6 empty dict: dict_SPvsRIVM; dict_SPvsBW2; dict_SPvsopenLCA; dict_openLCAvsBW2; dict_openLCAvsRIVM; dict_BW2vsRIVM\n",
    "# each dict with five keys and null values (to be assigned later)\n",
    "for name in pairwise_name:\n",
    "    #print(name)\n",
    "    keys = [name+\"_commonEF_sumtable\", name+\"_commonEF_list\", name + \"_result_diffEFs\", name + \"_result_corr\" ]\n",
    "    globals()['dict_%s' % name] = dict.fromkeys(keys, None)"
   ]
  },
  {
   "cell_type": "code",
   "execution_count": 17,
   "id": "09215f4d",
   "metadata": {},
   "outputs": [
    {
     "name": "stdout",
     "output_type": "stream",
     "text": [
      "Detailed differences won't be printed out, to print, add input argument: to_print = 'yes'.  \n",
      "N of common EFs to be used is: 37\n"
     ]
    }
   ],
   "source": [
    "k_list = list(dict_SPvsRIVM)\n",
    "dict_SPvsRIVM[k_list[0]], dict_SPvsRIVM[k_list[1]] = res_compare_included_EF(SP_recipe, \"flow\", rivm_recipe,  \"flow\", to_print = \"no\" )\n",
    "if len(dict_SPvsRIVM[k_list[1]] ) == 0: \n",
    "    dict_SPvsRIVM[k_list[2]] = pd.DataFrame ({'SP_value': np.NaN , 'RIVM_value': np.NaN }, index=[0])\n",
    "else:\n",
    "    dict_SPvsRIVM[k_list[2]] = pd.DataFrame (\n",
    "        {'SP_value': final_EF_combined(SP_recipe, \"flow\", \"value\", rivm_recipe, \"flow\", \"value\", dict_SPvsRIVM[k_list[1]])[0] , \n",
    "         'RIVM_value': final_EF_combined(SP_recipe, \"flow\", \"value\", rivm_recipe, \"flow\", \"value\", dict_SPvsRIVM[k_list[1]])[1] }, \n",
    "        index = dict_SPvsRIVM[k_list[1]]\n",
    "    )"
   ]
  },
  {
   "cell_type": "code",
   "execution_count": 18,
   "id": "de3c326e",
   "metadata": {},
   "outputs": [
    {
     "name": "stdout",
     "output_type": "stream",
     "text": [
      "Detailed differences won't be printed out, to print, add input argument: to_print = 'yes'.  \n",
      "N of common EFs to be used is: 47\n"
     ]
    }
   ],
   "source": [
    "k_list = list(dict_SPvsBW2)\n",
    "dict_SPvsBW2[k_list[0]],dict_SPvsBW2[k_list[1]] = res_compare_included_EF(SP_recipe, \"flow\", bw_recipe,  \"flow\", to_print = \"no\" )\n",
    "if len(dict_SPvsBW2[k_list[1]] ) == 0: \n",
    "    dict_SPvsBW2[k_list[2]] = pd.DataFrame ({'SP_value': np.NaN , 'BW2_value': np.NaN }, index=[0])\n",
    "else:\n",
    "    dict_SPvsBW2[k_list[2]] = pd.DataFrame (\n",
    "        {'SP_value': final_EF_combined(SP_recipe, \"flow\", \"value\", bw_recipe, \"flow\", \"value\", dict_SPvsBW2[k_list[1]])[0] , \n",
    "         'BW2_value': final_EF_combined(SP_recipe, \"flow\", \"value\", bw_recipe, \"flow\", \"value\", dict_SPvsBW2[k_list[1]])[1] }, \n",
    "        index = dict_SPvsBW2[k_list[1]]\n",
    "    )"
   ]
  },
  {
   "cell_type": "code",
   "execution_count": 19,
   "id": "4e6b5703",
   "metadata": {},
   "outputs": [
    {
     "name": "stdout",
     "output_type": "stream",
     "text": [
      "Detailed differences won't be printed out, to print, add input argument: to_print = 'yes'.  \n",
      "N of common EFs to be used is: 91\n"
     ]
    }
   ],
   "source": [
    "k_list = list(dict_SPvsopenLCA)\n",
    "dict_SPvsopenLCA[k_list[0]],dict_SPvsopenLCA[k_list[1]] = res_compare_included_EF(SP_recipe, \"flow\", olca_recipe,  \"flow\", to_print = \"no\" )\n",
    "if len(dict_SPvsopenLCA[k_list[1]] ) == 0: \n",
    "    dict_SPvsopenLCA[k_list[2]] = pd.DataFrame ({'SP_value': np.NaN , 'olca_value': np.NaN }, index=[0])\n",
    "else:\n",
    "    dict_SPvsopenLCA[k_list[2]] = pd.DataFrame (\n",
    "        {'SP_value': final_EF_combined(SP_recipe, \"flow\", \"value\", olca_recipe, \"flow\", \"value\", dict_SPvsopenLCA[k_list[1]])[0] , \n",
    "         'olca_value': final_EF_combined(SP_recipe, \"flow\", \"value\", olca_recipe, \"flow\", \"value\", dict_SPvsopenLCA[k_list[1]])[1] },\n",
    "        index = dict_SPvsopenLCA[k_list[1]]\n",
    "    )"
   ]
  },
  {
   "cell_type": "code",
   "execution_count": 20,
   "id": "50900101",
   "metadata": {},
   "outputs": [
    {
     "name": "stdout",
     "output_type": "stream",
     "text": [
      "Detailed differences won't be printed out, to print, add input argument: to_print = 'yes'.  \n",
      "N of common EFs to be used is: 47\n"
     ]
    }
   ],
   "source": [
    "k_list = list(dict_openLCAvsBW2)\n",
    "dict_openLCAvsBW2[k_list[0]],dict_openLCAvsBW2[k_list[1]] = res_compare_included_EF(olca_recipe, \"flow_uuid\", bw_recipe, \"flow_uuid\", to_print = \"no\" )\n",
    "\n",
    "if len(dict_openLCAvsBW2[k_list[1]] ) == 0: \n",
    "    dict_openLCAvsBW2[k_list[2]] = pd.DataFrame ({'olca_value': np.NaN , 'BW2_value': np.NaN }, index=[0])\n",
    "else:\n",
    "    dict_openLCAvsBW2[k_list[2]] = pd.DataFrame (\n",
    "        {'olca_value': final_EF_combined(olca_recipe, \"flow_uuid\", \"value\", bw_recipe, \"flow_uuid\", \"value\", \n",
    "                                       dict_openLCAvsBW2[k_list[1]])[0] , \n",
    "         'BW2_value': final_EF_combined(olca_recipe, \"flow_uuid\", \"value\", bw_recipe, \"flow_uuid\", \"value\",\n",
    "                                         dict_openLCAvsBW2[k_list[1]])[1] },\n",
    "        index =  dict_openLCAvsBW2[k_list[1]]\n",
    "    )"
   ]
  },
  {
   "cell_type": "code",
   "execution_count": 21,
   "id": "a45bcd5a",
   "metadata": {},
   "outputs": [
    {
     "name": "stdout",
     "output_type": "stream",
     "text": [
      "Detailed differences won't be printed out, to print, add input argument: to_print = 'yes'.  \n",
      "N of common EFs to be used is: 38\n"
     ]
    }
   ],
   "source": [
    "k_list = list(dict_openLCAvsRIVM)\n",
    "dict_openLCAvsRIVM[k_list[0]],dict_openLCAvsRIVM[k_list[1]] = res_compare_included_EF(olca_recipe, \"flow\", rivm_recipe, \"flow\", to_print = \"no\" )\n",
    "\n",
    "if len(dict_openLCAvsRIVM[k_list[1]] ) == 0: \n",
    "    dict_openLCAvsRIVM[k_list[2]] = pd.DataFrame ({'olca_value': np.NaN , 'RIVM_value': np.NaN }, index=[0])\n",
    "else:\n",
    "    dict_openLCAvsRIVM[k_list[2]] = pd.DataFrame (\n",
    "        {'olca_value': final_EF_combined(olca_recipe, \"flow\", \"value\", rivm_recipe, \"flow\", \"value\", \n",
    "                                       dict_openLCAvsRIVM[k_list[1]])[0] , \n",
    "         'BW2_value': final_EF_combined(olca_recipe, \"flow\", \"value\", rivm_recipe, \"flow\", \"value\",\n",
    "                                         dict_openLCAvsRIVM[k_list[1]])[1] },\n",
    "        index = dict_openLCAvsRIVM[k_list[1]]\n",
    "    )"
   ]
  },
  {
   "cell_type": "code",
   "execution_count": 22,
   "id": "44d68c4b",
   "metadata": {},
   "outputs": [
    {
     "name": "stdout",
     "output_type": "stream",
     "text": [
      "Detailed differences won't be printed out, to print, add input argument: to_print = 'yes'.  \n",
      "N of common EFs to be used is: 39\n"
     ]
    }
   ],
   "source": [
    "k_list = list(dict_BW2vsRIVM)\n",
    "dict_BW2vsRIVM[k_list[0]],dict_BW2vsRIVM[k_list[1]] = res_compare_included_EF(bw_recipe, \"flow\", rivm_recipe, \"flow\", to_print = \"no\" )\n",
    "if len(dict_BW2vsRIVM[k_list[1]] ) == 0: \n",
    "    dict_BW2vsRIVM[k_list[2]] = pd.DataFrame ({'BW2_value': np.NaN , 'RIVM_value': np.NaN }, index=[0])\n",
    "else:\n",
    "    dict_BW2vsRIVM[k_list[2]] = pd.DataFrame (\n",
    "        {'BW2_value': final_EF_combined(bw_recipe, \"flow\", \"value\", rivm_recipe, \"flow\", \"value\", \n",
    "                                       dict_BW2vsRIVM[k_list[1]])[0] , \n",
    "         'RIVM_value': final_EF_combined(bw_recipe, \"flow\", \"value\", rivm_recipe, \"flow\", \"value\",\n",
    "                                         dict_BW2vsRIVM[k_list[1]])[1] },\n",
    "        index = dict_BW2vsRIVM[k_list[1]]\n",
    "    )"
   ]
  },
  {
   "cell_type": "code",
   "execution_count": 23,
   "id": "2b8881c4",
   "metadata": {},
   "outputs": [
    {
     "name": "stdout",
     "output_type": "stream",
     "text": [
      "            SP_value  RIVM_value\n",
      "SP_value         1.0         1.0\n",
      "RIVM_value       1.0         1.0\n",
      "           SP_value  BW2_value\n",
      "SP_value   1.000000   0.999953\n",
      "BW2_value  0.999953   1.000000\n",
      "            SP_value  olca_value\n",
      "SP_value         1.0         1.0\n",
      "olca_value       1.0         1.0\n",
      "            olca_value  BW2_value\n",
      "olca_value    1.000000   0.999953\n",
      "BW2_value     0.999953   1.000000\n",
      "            olca_value  BW2_value\n",
      "olca_value         1.0        1.0\n",
      "BW2_value          1.0        1.0\n",
      "            BW2_value  RIVM_value\n",
      "BW2_value         1.0         1.0\n",
      "RIVM_value        1.0         1.0\n"
     ]
    }
   ],
   "source": [
    "for name in pairwise_name:\n",
    "    new_df = globals()['dict_%s' % name][name + \"_result_diffEFs\"]\n",
    "    try:\n",
    "        new_df_corr = new_df.corr()\n",
    "    except: \n",
    "        error\n",
    "    print(new_df_corr)\n",
    "    globals()['dict_%s' % name][name + \"_result_corr\"] = new_df_corr"
   ]
  },
  {
   "cell_type": "code",
   "execution_count": 24,
   "id": "97441792",
   "metadata": {},
   "outputs": [],
   "source": [
    "# saving each dict_ to a single worksheet, different rows , # saving to sub-folder \"results/Resources_IC/\"\n",
    "\n",
    "if not os.path.exists(\"results/Resources_IC\"):\n",
    "    os.makedirs(\"results/Resources_IC\")\n",
    "\n",
    "filename = lcia_name + \"_pairwise_comp_result.xlsx\"\n",
    "writer = pd.ExcelWriter(\"results/Resources_IC/\" + filename, engine='xlsxwriter')\n",
    "\n",
    "for name in pairwise_name:\n",
    "    sum_table = globals()['dict_%s' % name][name + \"_commonEF_sumtable\"]\n",
    "    new_df = globals()['dict_%s' % name][name + \"_result_diffEFs\"]\n",
    "    new_df_corr = globals()['dict_%s' % name][name + \"_result_corr\"]\n",
    "\n",
    "    sum_table.to_excel(writer,sheet_name=name,startrow=0 , startcol=0)   # write first  (3rows)\n",
    "    new_df_corr.to_excel(writer,sheet_name=name,startrow=5 , startcol=0) # write next   (3rows)\n",
    "    new_df.to_excel(writer,sheet_name=name,startrow=10 , startcol=0)     # finally, write the resulting EFs \n",
    "     \n",
    "writer.save()"
   ]
  },
  {
   "cell_type": "code",
   "execution_count": null,
   "id": "f5609f61",
   "metadata": {},
   "outputs": [],
   "source": []
  }
 ],
 "metadata": {
  "kernelspec": {
   "display_name": "Python 3 (ipykernel)",
   "language": "python",
   "name": "python3"
  },
  "language_info": {
   "codemirror_mode": {
    "name": "ipython",
    "version": 3
   },
   "file_extension": ".py",
   "mimetype": "text/x-python",
   "name": "python",
   "nbconvert_exporter": "python",
   "pygments_lexer": "ipython3",
   "version": "3.9.7"
  }
 },
 "nbformat": 4,
 "nbformat_minor": 5
}
