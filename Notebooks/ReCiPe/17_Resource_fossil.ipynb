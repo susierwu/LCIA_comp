{
 "cells": [
  {
   "cell_type": "code",
   "execution_count": 1,
   "id": "3c957a0b",
   "metadata": {},
   "outputs": [],
   "source": [
    "import pickle\n",
    "import pandas as pd\n",
    "import os           \n",
    "import numpy as np\n",
    "import re\n",
    "import itertools\n",
    "import plotly.express as px\n",
    "#import brightway2 as bw \n",
    "import random \n",
    "import string"
   ]
  },
  {
   "cell_type": "code",
   "execution_count": 2,
   "id": "b3b94023",
   "metadata": {},
   "outputs": [],
   "source": [
    "import sys\n",
    "sys.path.append('../../Module')  #two levels up & then down to Module folder\n",
    "#from recipe_mod import *\n",
    "from recipe_mod_resIC import *"
   ]
  },
  {
   "cell_type": "markdown",
   "id": "f575a70b",
   "metadata": {},
   "source": [
    "<h2> raw RIVM and BW2 only include 5 EFs, same CFs compared to SP/oLCA </h2>\n",
    "\n",
    "Crude oil; Natural gas; Hard coal; Brown coal; Peat \n",
    "<h3> pairwise_comp only for SP vs. oLCA </h3>"
   ]
  },
  {
   "cell_type": "code",
   "execution_count": 3,
   "id": "96024c35",
   "metadata": {},
   "outputs": [],
   "source": [
    "lcia_name = \"Fossil resource scarcity\"\n",
    "SP_name = \"Fossil resource scarcity\"\n",
    "rivm_name = \"Fossil resource scarcity\"\n",
    "olca_filepathname = \"../../Data_rawCFs/olca_recipe_fossil_saved.dat\"\n",
    "bw2_filepathname = \"../../Data_rawCFs/BW2_recipe_Fossil resource scarcity.dat\"\n",
    "\n",
    "# used in final calculation to create dict names\n",
    "pairwise_name = [\"SPvsRIVM\", \"SPvsBW2\", \"SPvsopenLCA\", \"openLCAvsBW2\", \"openLCAvsRIVM\", \"BW2vsRIVM\"]"
   ]
  },
  {
   "cell_type": "markdown",
   "id": "e4bd6ce6",
   "metadata": {},
   "source": [
    "### read in SP LCIA"
   ]
  },
  {
   "cell_type": "code",
   "execution_count": 4,
   "id": "edf6aec0",
   "metadata": {
    "scrolled": false
   },
   "outputs": [
    {
     "name": "stdout",
     "output_type": "stream",
     "text": [
      "21\n"
     ]
    },
    {
     "data": {
      "text/plain": [
       "Index(['Compartment', 'Subcompartment', 'Substance', 'CAS', 'Factor', 'Unit'], dtype='object')"
      ]
     },
     "execution_count": 4,
     "metadata": {},
     "output_type": "execute_result"
    }
   ],
   "source": [
    "SP_recipe = pd.read_excel(\"../../Data_rawCFs/SP_ReCiPe.xlsx\", sheet_name=SP_name, \n",
    "                                  header=[0], converters={'CAS':str})\n",
    "\n",
    "print(len(SP_recipe))\n",
    "SP_recipe.fillna(''.join(random.choice(string.ascii_uppercase + string.digits) for _ in range(9)), inplace=True)\n",
    "#to assign a random string_num to CAS with NA, so that they're not the \"SAME\" CAS when compared to other sources:\n",
    "#print ([x for x in SP_recipe[\"CAS\"] if '-' not in x ] [0]) \n",
    "SP_recipe.columns"
   ]
  },
  {
   "cell_type": "code",
   "execution_count": 5,
   "id": "a4d19d00",
   "metadata": {},
   "outputs": [],
   "source": [
    "SP_recipe = SP_recipe.rename(columns={\"Compartment\": \"category\", \"Subcompartment\": \"subcategory\", \n",
    "                               \"Substance\": \"flow\", \"Factor\":\"value\", \"CAS\": \"cas_number\" })\n",
    "SP_recipe = SP_recipe.rename(str.lower, axis='columns')"
   ]
  },
  {
   "cell_type": "code",
   "execution_count": 6,
   "id": "4b795eaa",
   "metadata": {},
   "outputs": [
    {
     "data": {
      "text/html": [
       "<div>\n",
       "<style scoped>\n",
       "    .dataframe tbody tr th:only-of-type {\n",
       "        vertical-align: middle;\n",
       "    }\n",
       "\n",
       "    .dataframe tbody tr th {\n",
       "        vertical-align: top;\n",
       "    }\n",
       "\n",
       "    .dataframe thead th {\n",
       "        text-align: right;\n",
       "    }\n",
       "</style>\n",
       "<table border=\"1\" class=\"dataframe\">\n",
       "  <thead>\n",
       "    <tr style=\"text-align: right;\">\n",
       "      <th></th>\n",
       "      <th>category</th>\n",
       "      <th>subcategory</th>\n",
       "      <th>flow</th>\n",
       "      <th>cas_number</th>\n",
       "      <th>value</th>\n",
       "      <th>unit</th>\n",
       "    </tr>\n",
       "  </thead>\n",
       "  <tbody>\n",
       "    <tr>\n",
       "      <th>0</th>\n",
       "      <td>Raw</td>\n",
       "      <td>(unspecified)</td>\n",
       "      <td>coal, 18 mj per kg</td>\n",
       "      <td>FZMZ1E0ML</td>\n",
       "      <td>0.416</td>\n",
       "      <td>kg oil eq / kg</td>\n",
       "    </tr>\n",
       "    <tr>\n",
       "      <th>1</th>\n",
       "      <td>Raw</td>\n",
       "      <td>(unspecified)</td>\n",
       "      <td>coal, 26.4 mj per kg</td>\n",
       "      <td>FZMZ1E0ML</td>\n",
       "      <td>0.611</td>\n",
       "      <td>kg oil eq / kg</td>\n",
       "    </tr>\n",
       "    <tr>\n",
       "      <th>2</th>\n",
       "      <td>Raw</td>\n",
       "      <td>(unspecified)</td>\n",
       "      <td>coal, 29.3 mj per kg</td>\n",
       "      <td>FZMZ1E0ML</td>\n",
       "      <td>0.678</td>\n",
       "      <td>kg oil eq / kg</td>\n",
       "    </tr>\n",
       "    <tr>\n",
       "      <th>3</th>\n",
       "      <td>Raw</td>\n",
       "      <td>(unspecified)</td>\n",
       "      <td>coal, brown</td>\n",
       "      <td>FZMZ1E0ML</td>\n",
       "      <td>0.220</td>\n",
       "      <td>kg oil eq / kg</td>\n",
       "    </tr>\n",
       "    <tr>\n",
       "      <th>4</th>\n",
       "      <td>Raw</td>\n",
       "      <td>(unspecified)</td>\n",
       "      <td>coal, hard</td>\n",
       "      <td>FZMZ1E0ML</td>\n",
       "      <td>0.420</td>\n",
       "      <td>kg oil eq / kg</td>\n",
       "    </tr>\n",
       "  </tbody>\n",
       "</table>\n",
       "</div>"
      ],
      "text/plain": [
       "  category    subcategory                  flow cas_number  value  \\\n",
       "0      Raw  (unspecified)    coal, 18 mj per kg  FZMZ1E0ML  0.416   \n",
       "1      Raw  (unspecified)  coal, 26.4 mj per kg  FZMZ1E0ML  0.611   \n",
       "2      Raw  (unspecified)  coal, 29.3 mj per kg  FZMZ1E0ML  0.678   \n",
       "3      Raw  (unspecified)           coal, brown  FZMZ1E0ML  0.220   \n",
       "4      Raw  (unspecified)            coal, hard  FZMZ1E0ML  0.420   \n",
       "\n",
       "             unit  \n",
       "0  kg oil eq / kg  \n",
       "1  kg oil eq / kg  \n",
       "2  kg oil eq / kg  \n",
       "3  kg oil eq / kg  \n",
       "4  kg oil eq / kg  "
      ]
     },
     "execution_count": 6,
     "metadata": {},
     "output_type": "execute_result"
    }
   ],
   "source": [
    "SP_recipe['flow'] = SP_recipe[\"flow\"].str.lower()\n",
    "SP_recipe.head()"
   ]
  },
  {
   "cell_type": "markdown",
   "id": "4d964866",
   "metadata": {},
   "source": [
    "### read in openlca LCIA, delete flow name suffix \", in ground\" for pairwise comp"
   ]
  },
  {
   "cell_type": "code",
   "execution_count": 7,
   "id": "1e6a10b1",
   "metadata": {
    "scrolled": true
   },
   "outputs": [
    {
     "name": "stdout",
     "output_type": "stream",
     "text": [
      "55\n"
     ]
    }
   ],
   "source": [
    "olca_recipe = unpickle_data(olca_filepathname)\n",
    "olca_recipe.fillna(''.join(random.choice(string.ascii_uppercase + string.digits) for _ in range(9)), inplace=True)\n",
    "#print ([x for x in olca_recipe[\"CAS_NUMBER\"] if '-' not in x ] [0]) \n",
    "print(len(olca_recipe))\n",
    "olca_recipe = olca_recipe.rename(str.lower, axis='columns')"
   ]
  },
  {
   "cell_type": "code",
   "execution_count": 8,
   "id": "7d562748",
   "metadata": {},
   "outputs": [
    {
     "data": {
      "text/html": [
       "<div>\n",
       "<style scoped>\n",
       "    .dataframe tbody tr th:only-of-type {\n",
       "        vertical-align: middle;\n",
       "    }\n",
       "\n",
       "    .dataframe tbody tr th {\n",
       "        vertical-align: top;\n",
       "    }\n",
       "\n",
       "    .dataframe thead th {\n",
       "        text-align: right;\n",
       "    }\n",
       "</style>\n",
       "<table border=\"1\" class=\"dataframe\">\n",
       "  <thead>\n",
       "    <tr style=\"text-align: right;\">\n",
       "      <th></th>\n",
       "      <th>impact_method</th>\n",
       "      <th>impact_category_uuid</th>\n",
       "      <th>impact_category</th>\n",
       "      <th>reference_unit</th>\n",
       "      <th>flow_uuid</th>\n",
       "      <th>flow</th>\n",
       "      <th>cas_number</th>\n",
       "      <th>subcategory</th>\n",
       "      <th>category</th>\n",
       "      <th>unit</th>\n",
       "      <th>value</th>\n",
       "    </tr>\n",
       "  </thead>\n",
       "  <tbody>\n",
       "    <tr>\n",
       "      <th>0</th>\n",
       "      <td>ReCiPe 2016 Midpoint (H)</td>\n",
       "      <td>80e0b1a4-16b9-3aeb-9136-e544aca7a1e3</td>\n",
       "      <td>Fossil resource scarcity</td>\n",
       "      <td>kg oil eq</td>\n",
       "      <td>c5035ce2-5ee5-431f-a287-4b25da42be74</td>\n",
       "      <td>peat</td>\n",
       "      <td>QEIUO81YT</td>\n",
       "      <td>biotic</td>\n",
       "      <td>Resource</td>\n",
       "      <td>kg</td>\n",
       "      <td>0.2200</td>\n",
       "    </tr>\n",
       "    <tr>\n",
       "      <th>1</th>\n",
       "      <td>ReCiPe 2016 Midpoint (H)</td>\n",
       "      <td>80e0b1a4-16b9-3aeb-9136-e544aca7a1e3</td>\n",
       "      <td>Fossil resource scarcity</td>\n",
       "      <td>kg oil eq</td>\n",
       "      <td>384e875d-2237-4d74-8f62-6b04173f656b</td>\n",
       "      <td>peat</td>\n",
       "      <td>QEIUO81YT</td>\n",
       "      <td>in ground</td>\n",
       "      <td>Resource</td>\n",
       "      <td>kg</td>\n",
       "      <td>0.2200</td>\n",
       "    </tr>\n",
       "    <tr>\n",
       "      <th>2</th>\n",
       "      <td>ReCiPe 2016 Midpoint (H)</td>\n",
       "      <td>80e0b1a4-16b9-3aeb-9136-e544aca7a1e3</td>\n",
       "      <td>Fossil resource scarcity</td>\n",
       "      <td>kg oil eq</td>\n",
       "      <td>7ae371b0-8532-11e0-9d78-0800200c9a66</td>\n",
       "      <td>coal, hard, 30.7 mj per kg</td>\n",
       "      <td>QEIUO81YT</td>\n",
       "      <td>in ground</td>\n",
       "      <td>Resource</td>\n",
       "      <td>kg</td>\n",
       "      <td>0.7100</td>\n",
       "    </tr>\n",
       "    <tr>\n",
       "      <th>3</th>\n",
       "      <td>ReCiPe 2016 Midpoint (H)</td>\n",
       "      <td>80e0b1a4-16b9-3aeb-9136-e544aca7a1e3</td>\n",
       "      <td>Fossil resource scarcity</td>\n",
       "      <td>kg oil eq</td>\n",
       "      <td>5df3c6a9-a888-4b5d-9a94-f3f610d38756</td>\n",
       "      <td>gas, natural, feedstock, 35 mj per m3</td>\n",
       "      <td>008006-14-2</td>\n",
       "      <td>in ground</td>\n",
       "      <td>Resource</td>\n",
       "      <td>m3</td>\n",
       "      <td>0.8520</td>\n",
       "    </tr>\n",
       "    <tr>\n",
       "      <th>4</th>\n",
       "      <td>ReCiPe 2016 Midpoint (H)</td>\n",
       "      <td>80e0b1a4-16b9-3aeb-9136-e544aca7a1e3</td>\n",
       "      <td>Fossil resource scarcity</td>\n",
       "      <td>kg oil eq</td>\n",
       "      <td>65b57348-143d-3f95-9229-9c6999296d04</td>\n",
       "      <td>energy, from oil</td>\n",
       "      <td>QEIUO81YT</td>\n",
       "      <td>in ground</td>\n",
       "      <td>Resource</td>\n",
       "      <td>MJ</td>\n",
       "      <td>0.0218</td>\n",
       "    </tr>\n",
       "  </tbody>\n",
       "</table>\n",
       "</div>"
      ],
      "text/plain": [
       "              impact_method                  impact_category_uuid  \\\n",
       "0  ReCiPe 2016 Midpoint (H)  80e0b1a4-16b9-3aeb-9136-e544aca7a1e3   \n",
       "1  ReCiPe 2016 Midpoint (H)  80e0b1a4-16b9-3aeb-9136-e544aca7a1e3   \n",
       "2  ReCiPe 2016 Midpoint (H)  80e0b1a4-16b9-3aeb-9136-e544aca7a1e3   \n",
       "3  ReCiPe 2016 Midpoint (H)  80e0b1a4-16b9-3aeb-9136-e544aca7a1e3   \n",
       "4  ReCiPe 2016 Midpoint (H)  80e0b1a4-16b9-3aeb-9136-e544aca7a1e3   \n",
       "\n",
       "            impact_category reference_unit  \\\n",
       "0  Fossil resource scarcity      kg oil eq   \n",
       "1  Fossil resource scarcity      kg oil eq   \n",
       "2  Fossil resource scarcity      kg oil eq   \n",
       "3  Fossil resource scarcity      kg oil eq   \n",
       "4  Fossil resource scarcity      kg oil eq   \n",
       "\n",
       "                              flow_uuid  \\\n",
       "0  c5035ce2-5ee5-431f-a287-4b25da42be74   \n",
       "1  384e875d-2237-4d74-8f62-6b04173f656b   \n",
       "2  7ae371b0-8532-11e0-9d78-0800200c9a66   \n",
       "3  5df3c6a9-a888-4b5d-9a94-f3f610d38756   \n",
       "4  65b57348-143d-3f95-9229-9c6999296d04   \n",
       "\n",
       "                                    flow   cas_number subcategory  category  \\\n",
       "0                                   peat    QEIUO81YT      biotic  Resource   \n",
       "1                                   peat    QEIUO81YT   in ground  Resource   \n",
       "2             coal, hard, 30.7 mj per kg    QEIUO81YT   in ground  Resource   \n",
       "3  gas, natural, feedstock, 35 mj per m3  008006-14-2   in ground  Resource   \n",
       "4                       energy, from oil    QEIUO81YT   in ground  Resource   \n",
       "\n",
       "  unit   value  \n",
       "0   kg  0.2200  \n",
       "1   kg  0.2200  \n",
       "2   kg  0.7100  \n",
       "3   m3  0.8520  \n",
       "4   MJ  0.0218  "
      ]
     },
     "execution_count": 8,
     "metadata": {},
     "output_type": "execute_result"
    }
   ],
   "source": [
    "olca_recipe['flow'] = olca_recipe[\"flow\"].str.lower()\n",
    "olca_recipe['flow'] = olca_recipe['flow'].str.split(\", in ground\").str[0]\n",
    "olca_recipe.head()"
   ]
  },
  {
   "cell_type": "markdown",
   "id": "a994383f",
   "metadata": {},
   "source": [
    "### read in BW2 LCIA, delete flow name suffix \", in ground\" for pairwise comp"
   ]
  },
  {
   "cell_type": "code",
   "execution_count": 9,
   "id": "fc51532a",
   "metadata": {},
   "outputs": [
    {
     "name": "stdout",
     "output_type": "stream",
     "text": [
      "5\n"
     ]
    },
    {
     "data": {
      "text/plain": [
       "Index(['cas_number', 'flow', 'flow_uuid', 'type', 'category', 'subcategory',\n",
       "       'unit', 'value'],\n",
       "      dtype='object')"
      ]
     },
     "execution_count": 9,
     "metadata": {},
     "output_type": "execute_result"
    }
   ],
   "source": [
    "bw_recipe = unpickle_data(bw2_filepathname)\n",
    "bw_recipe.fillna(''.join(random.choice(string.ascii_uppercase + string.digits) for _ in range(9)), inplace=True)\n",
    "#print ([x for x in olca_recipe[\"CAS_NUMBER\"] if '-' not in x ] [0]) \n",
    "print(len(bw_recipe))\n",
    "bw_recipe.columns  #already named in the right format and lower.str : flow, cas_number"
   ]
  },
  {
   "cell_type": "code",
   "execution_count": 10,
   "id": "62d42c2e",
   "metadata": {},
   "outputs": [
    {
     "data": {
      "text/html": [
       "<div>\n",
       "<style scoped>\n",
       "    .dataframe tbody tr th:only-of-type {\n",
       "        vertical-align: middle;\n",
       "    }\n",
       "\n",
       "    .dataframe tbody tr th {\n",
       "        vertical-align: top;\n",
       "    }\n",
       "\n",
       "    .dataframe thead th {\n",
       "        text-align: right;\n",
       "    }\n",
       "</style>\n",
       "<table border=\"1\" class=\"dataframe\">\n",
       "  <thead>\n",
       "    <tr style=\"text-align: right;\">\n",
       "      <th></th>\n",
       "      <th>cas_number</th>\n",
       "      <th>flow</th>\n",
       "      <th>flow_uuid</th>\n",
       "      <th>type</th>\n",
       "      <th>category</th>\n",
       "      <th>subcategory</th>\n",
       "      <th>unit</th>\n",
       "      <th>value</th>\n",
       "    </tr>\n",
       "  </thead>\n",
       "  <tbody>\n",
       "    <tr>\n",
       "      <th>0</th>\n",
       "      <td>4AU99FL5H</td>\n",
       "      <td>oil, crude</td>\n",
       "      <td>88d06db9-59a1-4719-9174-afeb1fa4026a</td>\n",
       "      <td>natural resource</td>\n",
       "      <td>natural resource</td>\n",
       "      <td>in ground</td>\n",
       "      <td>kilogram</td>\n",
       "      <td>1.00</td>\n",
       "    </tr>\n",
       "    <tr>\n",
       "      <th>1</th>\n",
       "      <td>008006-14-2</td>\n",
       "      <td>gas, natural</td>\n",
       "      <td>7c337428-fb1b-45c7-bbb2-2ee4d29e17ba</td>\n",
       "      <td>natural resource</td>\n",
       "      <td>natural resource</td>\n",
       "      <td>in ground</td>\n",
       "      <td>cubic meter</td>\n",
       "      <td>0.84</td>\n",
       "    </tr>\n",
       "    <tr>\n",
       "      <th>2</th>\n",
       "      <td>4AU99FL5H</td>\n",
       "      <td>coal, hard, unspecified</td>\n",
       "      <td>b6d0042d-0ef8-49ed-9162-a07ff1ccf750</td>\n",
       "      <td>natural resource</td>\n",
       "      <td>natural resource</td>\n",
       "      <td>in ground</td>\n",
       "      <td>kilogram</td>\n",
       "      <td>0.42</td>\n",
       "    </tr>\n",
       "    <tr>\n",
       "      <th>3</th>\n",
       "      <td>4AU99FL5H</td>\n",
       "      <td>coal, brown</td>\n",
       "      <td>024c9722-1e88-412b-8c4b-10c532be8dca</td>\n",
       "      <td>natural resource</td>\n",
       "      <td>natural resource</td>\n",
       "      <td>in ground</td>\n",
       "      <td>kilogram</td>\n",
       "      <td>0.22</td>\n",
       "    </tr>\n",
       "    <tr>\n",
       "      <th>4</th>\n",
       "      <td>4AU99FL5H</td>\n",
       "      <td>peat</td>\n",
       "      <td>c5035ce2-5ee5-431f-a287-4b25da42be74</td>\n",
       "      <td>natural resource</td>\n",
       "      <td>natural resource</td>\n",
       "      <td>biotic</td>\n",
       "      <td>kilogram</td>\n",
       "      <td>0.22</td>\n",
       "    </tr>\n",
       "  </tbody>\n",
       "</table>\n",
       "</div>"
      ],
      "text/plain": [
       "    cas_number                     flow                             flow_uuid  \\\n",
       "0    4AU99FL5H               oil, crude  88d06db9-59a1-4719-9174-afeb1fa4026a   \n",
       "1  008006-14-2             gas, natural  7c337428-fb1b-45c7-bbb2-2ee4d29e17ba   \n",
       "2    4AU99FL5H  coal, hard, unspecified  b6d0042d-0ef8-49ed-9162-a07ff1ccf750   \n",
       "3    4AU99FL5H              coal, brown  024c9722-1e88-412b-8c4b-10c532be8dca   \n",
       "4    4AU99FL5H                     peat  c5035ce2-5ee5-431f-a287-4b25da42be74   \n",
       "\n",
       "               type          category subcategory         unit  value  \n",
       "0  natural resource  natural resource   in ground     kilogram   1.00  \n",
       "1  natural resource  natural resource   in ground  cubic meter   0.84  \n",
       "2  natural resource  natural resource   in ground     kilogram   0.42  \n",
       "3  natural resource  natural resource   in ground     kilogram   0.22  \n",
       "4  natural resource  natural resource      biotic     kilogram   0.22  "
      ]
     },
     "execution_count": 10,
     "metadata": {},
     "output_type": "execute_result"
    }
   ],
   "source": [
    "bw_recipe['flow'] = bw_recipe[\"flow\"].str.lower()\n",
    "bw_recipe['flow'] = bw_recipe['flow'].str.split(\", in ground\").str[0]\n",
    "bw_recipe"
   ]
  },
  {
   "cell_type": "markdown",
   "id": "b38a9901",
   "metadata": {},
   "source": [
    "### read in raw RIVM_ReCiPe, change flow name to be consistent with others"
   ]
  },
  {
   "cell_type": "code",
   "execution_count": 11,
   "id": "c7876c40",
   "metadata": {
    "scrolled": true
   },
   "outputs": [],
   "source": [
    "rivm_recipe = pd.read_excel(\"../../Data_rawCFs/ReCiPe2016_CFs_v1.1_20180117.xlsx\", sheet_name=rivm_name, \n",
    "                                  header=[2], converters={'CAS':str})"
   ]
  },
  {
   "cell_type": "code",
   "execution_count": 12,
   "id": "b1d72431",
   "metadata": {},
   "outputs": [],
   "source": [
    "rivm_recipe['flow'] = [\"oil, crude\", \"gas, natural\", \"coal, hard, unspecified\", \"coal, brown\", \"peat\"]"
   ]
  },
  {
   "cell_type": "code",
   "execution_count": 13,
   "id": "860382f9",
   "metadata": {},
   "outputs": [
    {
     "data": {
      "text/html": [
       "<div>\n",
       "<style scoped>\n",
       "    .dataframe tbody tr th:only-of-type {\n",
       "        vertical-align: middle;\n",
       "    }\n",
       "\n",
       "    .dataframe tbody tr th {\n",
       "        vertical-align: top;\n",
       "    }\n",
       "\n",
       "    .dataframe thead th {\n",
       "        text-align: right;\n",
       "    }\n",
       "</style>\n",
       "<table border=\"1\" class=\"dataframe\">\n",
       "  <thead>\n",
       "    <tr style=\"text-align: right;\">\n",
       "      <th></th>\n",
       "      <th>fossil resource</th>\n",
       "      <th>unit</th>\n",
       "      <th>individualist</th>\n",
       "      <th>value</th>\n",
       "      <th>egalitarian</th>\n",
       "      <th>flow</th>\n",
       "    </tr>\n",
       "  </thead>\n",
       "  <tbody>\n",
       "    <tr>\n",
       "      <th>0</th>\n",
       "      <td>Crude oil</td>\n",
       "      <td>oil-eq/kg</td>\n",
       "      <td>1.00</td>\n",
       "      <td>1.00</td>\n",
       "      <td>1.00</td>\n",
       "      <td>oil, crude</td>\n",
       "    </tr>\n",
       "    <tr>\n",
       "      <th>1</th>\n",
       "      <td>Natural gas</td>\n",
       "      <td>oil-eq/Nm3</td>\n",
       "      <td>0.84</td>\n",
       "      <td>0.84</td>\n",
       "      <td>0.84</td>\n",
       "      <td>gas, natural</td>\n",
       "    </tr>\n",
       "    <tr>\n",
       "      <th>2</th>\n",
       "      <td>Hard coal</td>\n",
       "      <td>oil-eq/kg</td>\n",
       "      <td>0.42</td>\n",
       "      <td>0.42</td>\n",
       "      <td>0.42</td>\n",
       "      <td>coal, hard, unspecified</td>\n",
       "    </tr>\n",
       "    <tr>\n",
       "      <th>3</th>\n",
       "      <td>Brown coal</td>\n",
       "      <td>oil-eq/kg</td>\n",
       "      <td>0.22</td>\n",
       "      <td>0.22</td>\n",
       "      <td>0.22</td>\n",
       "      <td>coal, brown</td>\n",
       "    </tr>\n",
       "    <tr>\n",
       "      <th>4</th>\n",
       "      <td>Peat</td>\n",
       "      <td>oil-eq/kg</td>\n",
       "      <td>0.22</td>\n",
       "      <td>0.22</td>\n",
       "      <td>0.22</td>\n",
       "      <td>peat</td>\n",
       "    </tr>\n",
       "  </tbody>\n",
       "</table>\n",
       "</div>"
      ],
      "text/plain": [
       "  fossil resource        unit  individualist  value  egalitarian  \\\n",
       "0       Crude oil   oil-eq/kg           1.00   1.00         1.00   \n",
       "1     Natural gas  oil-eq/Nm3           0.84   0.84         0.84   \n",
       "2       Hard coal   oil-eq/kg           0.42   0.42         0.42   \n",
       "3      Brown coal   oil-eq/kg           0.22   0.22         0.22   \n",
       "4            Peat   oil-eq/kg           0.22   0.22         0.22   \n",
       "\n",
       "                      flow  \n",
       "0               oil, crude  \n",
       "1             gas, natural  \n",
       "2  coal, hard, unspecified  \n",
       "3              coal, brown  \n",
       "4                     peat  "
      ]
     },
     "execution_count": 13,
     "metadata": {},
     "output_type": "execute_result"
    }
   ],
   "source": [
    "rivm_recipe = rivm_recipe.rename(columns={ \"Hierarchist\":\"value\"})\n",
    "rivm_recipe = rivm_recipe.rename(str.lower, axis='columns')\n",
    "rivm_recipe"
   ]
  },
  {
   "cell_type": "markdown",
   "id": "7c6c3826",
   "metadata": {},
   "source": [
    "#### compare two methods(A, B)_total unique flows/CAS (regardless of compartment for Resource types of impacts), return: \n",
    "    i. an output list incl. below info: \n",
    "        (total number of unique flow/CAS in A; \"number of flows/CAS\" included in A but not in B)\n",
    "        (total number of unique flow/CAS in B; \"number of flows/CAS\" included in B but not in A) \n",
    "        \n",
    "    ii. \n",
    "        extracting common_unique flows to be used in corr. matrix"
   ]
  },
  {
   "cell_type": "markdown",
   "id": "999385f0",
   "metadata": {},
   "source": [
    "### 3. final calculation, pair-wise comparison, corr. matrix"
   ]
  },
  {
   "cell_type": "code",
   "execution_count": 14,
   "id": "26b400d6",
   "metadata": {},
   "outputs": [],
   "source": [
    "# create 6 empty dict: dict_SPvsRIVM; dict_SPvsBW2; dict_SPvsopenLCA; dict_openLCAvsBW2; dict_openLCAvsRIVM; dict_BW2vsRIVM\n",
    "# each dict with four keys and null values (to be assigned later)\n",
    "for name in pairwise_name:\n",
    "    #print(name)\n",
    "    keys = [name+\"_commonEF_sumtable\", name+\"_commonEF_list\", name + \"_result_diffEFs\", name + \"_result_corr\" ]\n",
    "    globals()['dict_%s' % name] = dict.fromkeys(keys, None)"
   ]
  },
  {
   "cell_type": "code",
   "execution_count": 15,
   "id": "09215f4d",
   "metadata": {},
   "outputs": [
    {
     "name": "stdout",
     "output_type": "stream",
     "text": [
      "EF in A but not in B: ['energy, from oil', 'coal, hard', 'oil, crude, 42 mj per kg', 'coal, 26.4 mj per kg', 'oil, crude, 42.7 mj per kg', 'coal, 29.3 mj per kg', 'oil, crude, 41 mj per kg', 'energy, from gas, natural', 'gas, natural, 36.6 mj per m3', 'gas, natural, feedstock, 35 mj per m3', 'coal, 18 mj per kg', 'oil, crude, feedstock, 42 mj per kg', 'oil, crude, 42.6 mj per kg', 'gas, natural/m3', 'coal, hard, 30.7 mj per kg', 'gas, natural, 35 mj per m3', 'energy, from coal', 'oil, crude, feedstock, 41 mj per kg']\n",
      "EF in B but not in A: ['coal, hard, unspecified', 'gas, natural']\n",
      "N of common EFs to be used is: 3\n"
     ]
    }
   ],
   "source": [
    "k_list = list(dict_SPvsRIVM)\n",
    "dict_SPvsRIVM[k_list[0]], dict_SPvsRIVM[k_list[1]] = res_compare_included_EF(SP_recipe, \"flow\", rivm_recipe,  \"flow\", to_print = \"yes\" )\n",
    "if len(dict_SPvsRIVM[k_list[1]] ) == 0: \n",
    "    dict_SPvsRIVM[k_list[2]] = pd.DataFrame ({'SP_value': np.NaN , 'RIVM_value': np.NaN }, index=[0])\n",
    "else:\n",
    "    dict_SPvsRIVM[k_list[2]] = pd.DataFrame (\n",
    "        {'SP_value': final_EF_combined(SP_recipe, \"flow\", \"value\", rivm_recipe, \"flow\", \"value\", dict_SPvsRIVM[k_list[1]])[0] , \n",
    "         'RIVM_value': final_EF_combined(SP_recipe, \"flow\", \"value\", rivm_recipe, \"flow\", \"value\", dict_SPvsRIVM[k_list[1]])[1] }, \n",
    "        index = dict_SPvsRIVM[k_list[1]]\n",
    "    )"
   ]
  },
  {
   "cell_type": "code",
   "execution_count": 17,
   "id": "de3c326e",
   "metadata": {},
   "outputs": [
    {
     "name": "stdout",
     "output_type": "stream",
     "text": [
      "EF in A but not in B: ['energy, from oil', 'coal, hard', 'oil, crude, 42 mj per kg', 'coal, 26.4 mj per kg', 'oil, crude, 42.7 mj per kg', 'coal, 29.3 mj per kg', 'oil, crude, 41 mj per kg', 'energy, from gas, natural', 'gas, natural, 36.6 mj per m3', 'gas, natural, feedstock, 35 mj per m3', 'coal, 18 mj per kg', 'oil, crude, feedstock, 42 mj per kg', 'oil, crude, 42.6 mj per kg', 'gas, natural/m3', 'coal, hard, 30.7 mj per kg', 'gas, natural, 35 mj per m3', 'energy, from coal', 'oil, crude, feedstock, 41 mj per kg']\n",
      "EF in B but not in A: ['coal, hard, unspecified', 'gas, natural']\n",
      "N of common EFs to be used is: 3\n"
     ]
    }
   ],
   "source": [
    "k_list = list(dict_SPvsBW2)\n",
    "dict_SPvsBW2[k_list[0]],dict_SPvsBW2[k_list[1]] = res_compare_included_EF(SP_recipe, \"flow\", bw_recipe,  \"flow\", to_print = \"yes\" )\n",
    "if len(dict_SPvsBW2[k_list[1]] ) == 0: \n",
    "    dict_SPvsBW2[k_list[2]] = pd.DataFrame ({'SP_value': np.NaN , 'BW2_value': np.NaN }, index=[0])\n",
    "else:\n",
    "    dict_SPvsBW2[k_list[2]] = pd.DataFrame (\n",
    "        {'SP_value': final_EF_combined(SP_recipe, \"flow\", \"value\", bw_recipe, \"flow\", \"value\", dict_SPvsBW2[k_list[1]])[0] , \n",
    "         'BW2_value': final_EF_combined(SP_recipe, \"flow\", \"value\", bw_recipe, \"flow\", \"value\", dict_SPvsBW2[k_list[1]])[1] }, \n",
    "        index = dict_SPvsBW2[k_list[1]]\n",
    "    )"
   ]
  },
  {
   "cell_type": "code",
   "execution_count": 18,
   "id": "4e6b5703",
   "metadata": {},
   "outputs": [
    {
     "name": "stdout",
     "output_type": "stream",
     "text": [
      "EF in A but not in B: []\n",
      "EF in B but not in A: ['gas, natural', 'coal, hard, unspecified']\n",
      "N of common EFs to be used is: 21\n"
     ]
    }
   ],
   "source": [
    "k_list = list(dict_SPvsopenLCA)\n",
    "dict_SPvsopenLCA[k_list[0]],dict_SPvsopenLCA[k_list[1]] = res_compare_included_EF(SP_recipe, \"flow\", olca_recipe,  \"flow\", to_print = \"yes\" )\n",
    "if len(dict_SPvsopenLCA[k_list[1]] ) == 0: \n",
    "    dict_SPvsopenLCA[k_list[2]] = pd.DataFrame ({'SP_value': np.NaN , 'olca_value': np.NaN }, index=[0])\n",
    "else:\n",
    "    dict_SPvsopenLCA[k_list[2]] = pd.DataFrame (\n",
    "        {'SP_value': final_EF_combined(SP_recipe, \"flow\", \"value\", olca_recipe, \"flow\", \"value\", dict_SPvsopenLCA[k_list[1]])[0] , \n",
    "         'olca_value': final_EF_combined(SP_recipe, \"flow\", \"value\", olca_recipe, \"flow\", \"value\", dict_SPvsopenLCA[k_list[1]])[1] },\n",
    "        index = dict_SPvsopenLCA[k_list[1]]\n",
    "    )"
   ]
  },
  {
   "cell_type": "code",
   "execution_count": 19,
   "id": "50900101",
   "metadata": {},
   "outputs": [
    {
     "name": "stdout",
     "output_type": "stream",
     "text": [
      "Detailed differences won't be printed out, to print, add input argument: to_print = 'yes'.  \n",
      "N of common EFs to be used is: 5\n"
     ]
    }
   ],
   "source": [
    "k_list = list(dict_openLCAvsBW2)\n",
    "dict_openLCAvsBW2[k_list[0]],dict_openLCAvsBW2[k_list[1]] = res_compare_included_EF(olca_recipe, \"flow_uuid\", bw_recipe, \"flow_uuid\", to_print = \"no\" )\n",
    "\n",
    "if len(dict_openLCAvsBW2[k_list[1]] ) == 0: \n",
    "    dict_openLCAvsBW2[k_list[2]] = pd.DataFrame ({'olca_value': np.NaN , 'BW2_value': np.NaN }, index=[0])\n",
    "else:\n",
    "    dict_openLCAvsBW2[k_list[2]] = pd.DataFrame (\n",
    "        {'olca_value': final_EF_combined(olca_recipe, \"flow_uuid\", \"value\", bw_recipe, \"flow_uuid\", \"value\", \n",
    "                                       dict_openLCAvsBW2[k_list[1]])[0] , \n",
    "         'BW2_value': final_EF_combined(olca_recipe, \"flow_uuid\", \"value\", bw_recipe, \"flow_uuid\", \"value\",\n",
    "                                         dict_openLCAvsBW2[k_list[1]])[1] },\n",
    "        index =  dict_openLCAvsBW2[k_list[1]]\n",
    "    )"
   ]
  },
  {
   "cell_type": "code",
   "execution_count": 20,
   "id": "a45bcd5a",
   "metadata": {},
   "outputs": [
    {
     "name": "stdout",
     "output_type": "stream",
     "text": [
      "Detailed differences won't be printed out, to print, add input argument: to_print = 'yes'.  \n",
      "N of common EFs to be used is: 5\n"
     ]
    }
   ],
   "source": [
    "k_list = list(dict_openLCAvsRIVM)\n",
    "dict_openLCAvsRIVM[k_list[0]],dict_openLCAvsRIVM[k_list[1]] = res_compare_included_EF(olca_recipe, \"flow\", rivm_recipe, \"flow\", to_print = \"no\" )\n",
    "\n",
    "if len(dict_openLCAvsRIVM[k_list[1]] ) == 0: \n",
    "    dict_openLCAvsRIVM[k_list[2]] = pd.DataFrame ({'olca_value': np.NaN , 'RIVM_value': np.NaN }, index=[0])\n",
    "else:\n",
    "    dict_openLCAvsRIVM[k_list[2]] = pd.DataFrame (\n",
    "        {'olca_value': final_EF_combined(olca_recipe, \"flow\", \"value\", rivm_recipe, \"flow\", \"value\", \n",
    "                                       dict_openLCAvsRIVM[k_list[1]])[0] , \n",
    "         'BW2_value': final_EF_combined(olca_recipe, \"flow\", \"value\", rivm_recipe, \"flow\", \"value\",\n",
    "                                         dict_openLCAvsRIVM[k_list[1]])[1] },\n",
    "        index = dict_openLCAvsRIVM[k_list[1]]\n",
    "    )"
   ]
  },
  {
   "cell_type": "code",
   "execution_count": 21,
   "id": "44d68c4b",
   "metadata": {},
   "outputs": [
    {
     "name": "stdout",
     "output_type": "stream",
     "text": [
      "EF in A but not in B: []\n",
      "EF in B but not in A: []\n",
      "N of common EFs to be used is: 5\n"
     ]
    }
   ],
   "source": [
    "k_list = list(dict_BW2vsRIVM)\n",
    "dict_BW2vsRIVM[k_list[0]],dict_BW2vsRIVM[k_list[1]] = res_compare_included_EF(bw_recipe, \"flow\", rivm_recipe, \"flow\", to_print = \"yes\" )\n",
    "if len(dict_BW2vsRIVM[k_list[1]] ) == 0: \n",
    "    dict_BW2vsRIVM[k_list[2]] = pd.DataFrame ({'BW2_value': np.NaN , 'RIVM_value': np.NaN }, index=[0])\n",
    "else:\n",
    "    dict_BW2vsRIVM[k_list[2]] = pd.DataFrame (\n",
    "        {'BW2_value': final_EF_combined(bw_recipe, \"flow\", \"value\", rivm_recipe, \"flow\", \"value\", \n",
    "                                       dict_BW2vsRIVM[k_list[1]])[0] , \n",
    "         'RIVM_value': final_EF_combined(bw_recipe, \"flow\", \"value\", rivm_recipe, \"flow\", \"value\",\n",
    "                                         dict_BW2vsRIVM[k_list[1]])[1] },\n",
    "        index = dict_BW2vsRIVM[k_list[1]]\n",
    "    )"
   ]
  },
  {
   "cell_type": "code",
   "execution_count": 22,
   "id": "2b8881c4",
   "metadata": {},
   "outputs": [],
   "source": [
    "for name in pairwise_name:\n",
    "    new_df = globals()['dict_%s' % name][name + \"_result_diffEFs\"]\n",
    "    try:\n",
    "        new_df_corr = new_df.corr()\n",
    "    except: \n",
    "        error\n",
    "    globals()['dict_%s' % name][name + \"_result_corr\"] = new_df_corr"
   ]
  },
  {
   "cell_type": "code",
   "execution_count": 23,
   "id": "977bdba4",
   "metadata": {},
   "outputs": [
    {
     "data": {
      "text/html": [
       "<div>\n",
       "<style scoped>\n",
       "    .dataframe tbody tr th:only-of-type {\n",
       "        vertical-align: middle;\n",
       "    }\n",
       "\n",
       "    .dataframe tbody tr th {\n",
       "        vertical-align: top;\n",
       "    }\n",
       "\n",
       "    .dataframe thead th {\n",
       "        text-align: right;\n",
       "    }\n",
       "</style>\n",
       "<table border=\"1\" class=\"dataframe\">\n",
       "  <thead>\n",
       "    <tr style=\"text-align: right;\">\n",
       "      <th></th>\n",
       "      <th>Method_A</th>\n",
       "      <th>Method_B</th>\n",
       "    </tr>\n",
       "  </thead>\n",
       "  <tbody>\n",
       "    <tr>\n",
       "      <th>total_uniq_EF</th>\n",
       "      <td>21</td>\n",
       "      <td>5</td>\n",
       "    </tr>\n",
       "    <tr>\n",
       "      <th>EF_notin_another</th>\n",
       "      <td>18</td>\n",
       "      <td>2</td>\n",
       "    </tr>\n",
       "  </tbody>\n",
       "</table>\n",
       "</div>"
      ],
      "text/plain": [
       "                  Method_A  Method_B\n",
       "total_uniq_EF           21         5\n",
       "EF_notin_another        18         2"
      ]
     },
     "execution_count": 23,
     "metadata": {},
     "output_type": "execute_result"
    }
   ],
   "source": [
    "dict_SPvsRIVM['SPvsRIVM_commonEF_sumtable']"
   ]
  },
  {
   "cell_type": "code",
   "execution_count": 24,
   "id": "923d7456",
   "metadata": {},
   "outputs": [
    {
     "data": {
      "text/plain": [
       "{'coal, brown', 'oil, crude', 'peat'}"
      ]
     },
     "execution_count": 24,
     "metadata": {},
     "output_type": "execute_result"
    }
   ],
   "source": [
    "dict_SPvsRIVM['SPvsRIVM_commonEF_list']"
   ]
  },
  {
   "cell_type": "code",
   "execution_count": 25,
   "id": "876b0915",
   "metadata": {},
   "outputs": [
    {
     "data": {
      "text/html": [
       "<div>\n",
       "<style scoped>\n",
       "    .dataframe tbody tr th:only-of-type {\n",
       "        vertical-align: middle;\n",
       "    }\n",
       "\n",
       "    .dataframe tbody tr th {\n",
       "        vertical-align: top;\n",
       "    }\n",
       "\n",
       "    .dataframe thead th {\n",
       "        text-align: right;\n",
       "    }\n",
       "</style>\n",
       "<table border=\"1\" class=\"dataframe\">\n",
       "  <thead>\n",
       "    <tr style=\"text-align: right;\">\n",
       "      <th></th>\n",
       "      <th>SP_value</th>\n",
       "      <th>RIVM_value</th>\n",
       "    </tr>\n",
       "  </thead>\n",
       "  <tbody>\n",
       "    <tr>\n",
       "      <th>coal, brown</th>\n",
       "      <td>0.22</td>\n",
       "      <td>0.22</td>\n",
       "    </tr>\n",
       "    <tr>\n",
       "      <th>peat</th>\n",
       "      <td>0.22</td>\n",
       "      <td>0.22</td>\n",
       "    </tr>\n",
       "    <tr>\n",
       "      <th>oil, crude</th>\n",
       "      <td>1.00</td>\n",
       "      <td>1.00</td>\n",
       "    </tr>\n",
       "  </tbody>\n",
       "</table>\n",
       "</div>"
      ],
      "text/plain": [
       "             SP_value  RIVM_value\n",
       "coal, brown      0.22        0.22\n",
       "peat             0.22        0.22\n",
       "oil, crude       1.00        1.00"
      ]
     },
     "execution_count": 25,
     "metadata": {},
     "output_type": "execute_result"
    }
   ],
   "source": [
    "dict_SPvsRIVM['SPvsRIVM_result_diffEFs']"
   ]
  },
  {
   "cell_type": "code",
   "execution_count": 26,
   "id": "50782ef7",
   "metadata": {
    "scrolled": true
   },
   "outputs": [
    {
     "data": {
      "text/html": [
       "<div>\n",
       "<style scoped>\n",
       "    .dataframe tbody tr th:only-of-type {\n",
       "        vertical-align: middle;\n",
       "    }\n",
       "\n",
       "    .dataframe tbody tr th {\n",
       "        vertical-align: top;\n",
       "    }\n",
       "\n",
       "    .dataframe thead th {\n",
       "        text-align: right;\n",
       "    }\n",
       "</style>\n",
       "<table border=\"1\" class=\"dataframe\">\n",
       "  <thead>\n",
       "    <tr style=\"text-align: right;\">\n",
       "      <th></th>\n",
       "      <th>SP_value</th>\n",
       "      <th>RIVM_value</th>\n",
       "    </tr>\n",
       "  </thead>\n",
       "  <tbody>\n",
       "    <tr>\n",
       "      <th>SP_value</th>\n",
       "      <td>1.0</td>\n",
       "      <td>1.0</td>\n",
       "    </tr>\n",
       "    <tr>\n",
       "      <th>RIVM_value</th>\n",
       "      <td>1.0</td>\n",
       "      <td>1.0</td>\n",
       "    </tr>\n",
       "  </tbody>\n",
       "</table>\n",
       "</div>"
      ],
      "text/plain": [
       "            SP_value  RIVM_value\n",
       "SP_value         1.0         1.0\n",
       "RIVM_value       1.0         1.0"
      ]
     },
     "execution_count": 26,
     "metadata": {},
     "output_type": "execute_result"
    }
   ],
   "source": [
    "dict_SPvsRIVM['SPvsRIVM_result_corr']"
   ]
  },
  {
   "cell_type": "code",
   "execution_count": null,
   "id": "94d9a6e3",
   "metadata": {},
   "outputs": [],
   "source": []
  },
  {
   "cell_type": "code",
   "execution_count": 27,
   "id": "97441792",
   "metadata": {},
   "outputs": [],
   "source": [
    "# saving each dict_ to a single worksheet, different rows , # saving to sub-folder \"results/Resources_IC/\"\n",
    "\n",
    "if not os.path.exists(\"results/Resources_IC\"):\n",
    "    os.makedirs(\"results/Resources_IC\")\n",
    "\n",
    "filename = lcia_name + \"_pairwise_comp_result.xlsx\"\n",
    "writer = pd.ExcelWriter(\"results/Resources_IC/\" + filename, engine='xlsxwriter')\n",
    "\n",
    "for name in pairwise_name:\n",
    "    sum_table = globals()['dict_%s' % name][name + \"_commonEF_sumtable\"]\n",
    "    new_df = globals()['dict_%s' % name][name + \"_result_diffEFs\"]\n",
    "    new_df_corr = globals()['dict_%s' % name][name + \"_result_corr\"]\n",
    "\n",
    "    sum_table.to_excel(writer,sheet_name=name,startrow=0 , startcol=0)   # write first  (3rows)\n",
    "    new_df_corr.to_excel(writer,sheet_name=name,startrow=5 , startcol=0) # write next   (3rows)\n",
    "    new_df.to_excel(writer,sheet_name=name,startrow=10 , startcol=0)     # finally, write the resulting EFs \n",
    "     \n",
    "writer.save()"
   ]
  },
  {
   "cell_type": "code",
   "execution_count": null,
   "id": "06bdb972",
   "metadata": {},
   "outputs": [],
   "source": []
  }
 ],
 "metadata": {
  "kernelspec": {
   "display_name": "Python 3 (ipykernel)",
   "language": "python",
   "name": "python3"
  },
  "language_info": {
   "codemirror_mode": {
    "name": "ipython",
    "version": 3
   },
   "file_extension": ".py",
   "mimetype": "text/x-python",
   "name": "python",
   "nbconvert_exporter": "python",
   "pygments_lexer": "ipython3",
   "version": "3.9.7"
  }
 },
 "nbformat": 4,
 "nbformat_minor": 5
}
