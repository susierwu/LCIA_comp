{
 "cells": [
  {
   "cell_type": "code",
   "execution_count": 1,
   "id": "3c957a0b",
   "metadata": {},
   "outputs": [],
   "source": [
    "import pickle\n",
    "import pandas as pd\n",
    "import os           \n",
    "import numpy as np\n",
    "import re\n",
    "import itertools\n",
    "import plotly.express as px\n",
    "#import brightway2 as bw \n",
    "import random \n",
    "import string"
   ]
  },
  {
   "cell_type": "code",
   "execution_count": 2,
   "id": "b3b94023",
   "metadata": {},
   "outputs": [],
   "source": [
    "import sys\n",
    "sys.path.append('../../Module')  #two levels up & then down to Module folder\n",
    "#from recipe_mod import *\n",
    "from recipe_mod_resIC import *"
   ]
  },
  {
   "cell_type": "code",
   "execution_count": 3,
   "id": "96024c35",
   "metadata": {},
   "outputs": [],
   "source": [
    "lcia_name = \"Mineral resource scarcity\"\n",
    "SP_name = \"Mineral resource scarcity\"\n",
    "rivm_name = \"Mineral resource scarcity\"\n",
    "olca_filepathname = \"../../Data_rawCFs/olca_recipe_MinRec_saved.dat\"\n",
    "bw2_filepathname = \"../../Data_rawCFs/BW2_recipe_Mineral Resource Scarcity.dat\"\n",
    "\n",
    "# used in final calculation to create dict names\n",
    "pairwise_name = [\"SPvsRIVM\", \"SPvsBW2\", \"SPvsopenLCA\", \"openLCAvsBW2\", \"openLCAvsRIVM\", \"BW2vsRIVM\"]"
   ]
  },
  {
   "cell_type": "markdown",
   "id": "e4bd6ce6",
   "metadata": {},
   "source": [
    "### read in SP LCIA"
   ]
  },
  {
   "cell_type": "code",
   "execution_count": 4,
   "id": "edf6aec0",
   "metadata": {
    "scrolled": false
   },
   "outputs": [
    {
     "name": "stdout",
     "output_type": "stream",
     "text": [
      "143\n"
     ]
    },
    {
     "data": {
      "text/plain": [
       "Index(['Compartment', 'Subcompartment', 'Substance', 'CAS', 'Factor', 'Unit'], dtype='object')"
      ]
     },
     "execution_count": 4,
     "metadata": {},
     "output_type": "execute_result"
    }
   ],
   "source": [
    "SP_recipe = pd.read_excel(\"../../Data_rawCFs/SP_ReCiPe.xlsx\", sheet_name=SP_name, \n",
    "                                  header=[0], converters={'CAS':str})\n",
    "\n",
    "print(len(SP_recipe))\n",
    "SP_recipe.fillna(''.join(random.choice(string.ascii_uppercase + string.digits) for _ in range(9)), inplace=True)\n",
    "#to assign a random string_num to CAS with NA, so that they're not the \"SAME\" CAS when compared to other sources:\n",
    "#print ([x for x in SP_recipe[\"CAS\"] if '-' not in x ] [0]) \n",
    "SP_recipe.columns"
   ]
  },
  {
   "cell_type": "code",
   "execution_count": 5,
   "id": "a4d19d00",
   "metadata": {},
   "outputs": [],
   "source": [
    "SP_recipe = SP_recipe.rename(columns={\"Compartment\": \"category\", \"Subcompartment\": \"subcategory\", \n",
    "                               \"Substance\": \"flow\", \"Factor\":\"value\", \"CAS\": \"cas_number\" })\n",
    "SP_recipe = SP_recipe.rename(str.lower, axis='columns')"
   ]
  },
  {
   "cell_type": "code",
   "execution_count": 6,
   "id": "4b795eaa",
   "metadata": {},
   "outputs": [
    {
     "data": {
      "text/html": [
       "<div>\n",
       "<style scoped>\n",
       "    .dataframe tbody tr th:only-of-type {\n",
       "        vertical-align: middle;\n",
       "    }\n",
       "\n",
       "    .dataframe tbody tr th {\n",
       "        vertical-align: top;\n",
       "    }\n",
       "\n",
       "    .dataframe thead th {\n",
       "        text-align: right;\n",
       "    }\n",
       "</style>\n",
       "<table border=\"1\" class=\"dataframe\">\n",
       "  <thead>\n",
       "    <tr style=\"text-align: right;\">\n",
       "      <th></th>\n",
       "      <th>category</th>\n",
       "      <th>subcategory</th>\n",
       "      <th>flow</th>\n",
       "      <th>cas_number</th>\n",
       "      <th>value</th>\n",
       "      <th>unit</th>\n",
       "    </tr>\n",
       "  </thead>\n",
       "  <tbody>\n",
       "    <tr>\n",
       "      <th>0</th>\n",
       "      <td>Raw</td>\n",
       "      <td>(unspecified)</td>\n",
       "      <td>aluminium</td>\n",
       "      <td>007429-90-5</td>\n",
       "      <td>0.16900</td>\n",
       "      <td>kg Cu eq / kg</td>\n",
       "    </tr>\n",
       "    <tr>\n",
       "      <th>1</th>\n",
       "      <td>Raw</td>\n",
       "      <td>(unspecified)</td>\n",
       "      <td>antimony</td>\n",
       "      <td>007440-36-0</td>\n",
       "      <td>0.57200</td>\n",
       "      <td>kg Cu eq / kg</td>\n",
       "    </tr>\n",
       "    <tr>\n",
       "      <th>2</th>\n",
       "      <td>Raw</td>\n",
       "      <td>(unspecified)</td>\n",
       "      <td>arsenic</td>\n",
       "      <td>007440-38-2</td>\n",
       "      <td>0.13100</td>\n",
       "      <td>kg Cu eq / kg</td>\n",
       "    </tr>\n",
       "    <tr>\n",
       "      <th>3</th>\n",
       "      <td>Raw</td>\n",
       "      <td>(unspecified)</td>\n",
       "      <td>barite</td>\n",
       "      <td>013462-86-7</td>\n",
       "      <td>0.02280</td>\n",
       "      <td>kg Cu eq / kg</td>\n",
       "    </tr>\n",
       "    <tr>\n",
       "      <th>4</th>\n",
       "      <td>Raw</td>\n",
       "      <td>(unspecified)</td>\n",
       "      <td>bauxite</td>\n",
       "      <td>001318-16-7</td>\n",
       "      <td>0.00458</td>\n",
       "      <td>kg Cu eq / kg</td>\n",
       "    </tr>\n",
       "  </tbody>\n",
       "</table>\n",
       "</div>"
      ],
      "text/plain": [
       "  category    subcategory       flow   cas_number    value           unit\n",
       "0      Raw  (unspecified)  aluminium  007429-90-5  0.16900  kg Cu eq / kg\n",
       "1      Raw  (unspecified)   antimony  007440-36-0  0.57200  kg Cu eq / kg\n",
       "2      Raw  (unspecified)    arsenic  007440-38-2  0.13100  kg Cu eq / kg\n",
       "3      Raw  (unspecified)     barite  013462-86-7  0.02280  kg Cu eq / kg\n",
       "4      Raw  (unspecified)    bauxite  001318-16-7  0.00458  kg Cu eq / kg"
      ]
     },
     "execution_count": 6,
     "metadata": {},
     "output_type": "execute_result"
    }
   ],
   "source": [
    "SP_recipe = SP_recipe.rename(columns={\"Compartment\": \"category\", \"Subcompartment\": \"subcategory\", \n",
    "                               \"Substance\": \"flow\", \"Factor\":\"value\", \"CAS\": \"cas_number\" })\n",
    "SP_recipe = SP_recipe.rename(str.lower, axis='columns')\n",
    "# lower case for all EFs\n",
    "SP_recipe['flow'] = SP_recipe['flow'].str.lower()\n",
    "SP_recipe.head()"
   ]
  },
  {
   "cell_type": "markdown",
   "id": "4d964866",
   "metadata": {},
   "source": [
    "### read in openlca LCIA"
   ]
  },
  {
   "cell_type": "code",
   "execution_count": 7,
   "id": "1e6a10b1",
   "metadata": {
    "scrolled": true
   },
   "outputs": [
    {
     "name": "stdout",
     "output_type": "stream",
     "text": [
      "316\n"
     ]
    }
   ],
   "source": [
    "olca_recipe = unpickle_data(olca_filepathname)\n",
    "olca_recipe.fillna(''.join(random.choice(string.ascii_uppercase + string.digits) for _ in range(9)), inplace=True)\n",
    "#print ([x for x in olca_recipe[\"CAS_NUMBER\"] if '-' not in x ] [0]) \n",
    "print(len(olca_recipe))\n",
    "olca_recipe = olca_recipe.rename(str.lower, axis='columns')"
   ]
  },
  {
   "cell_type": "code",
   "execution_count": 8,
   "id": "7d562748",
   "metadata": {},
   "outputs": [
    {
     "data": {
      "text/html": [
       "<div>\n",
       "<style scoped>\n",
       "    .dataframe tbody tr th:only-of-type {\n",
       "        vertical-align: middle;\n",
       "    }\n",
       "\n",
       "    .dataframe tbody tr th {\n",
       "        vertical-align: top;\n",
       "    }\n",
       "\n",
       "    .dataframe thead th {\n",
       "        text-align: right;\n",
       "    }\n",
       "</style>\n",
       "<table border=\"1\" class=\"dataframe\">\n",
       "  <thead>\n",
       "    <tr style=\"text-align: right;\">\n",
       "      <th></th>\n",
       "      <th>impact_method</th>\n",
       "      <th>impact_category_uuid</th>\n",
       "      <th>impact_category</th>\n",
       "      <th>reference_unit</th>\n",
       "      <th>flow_uuid</th>\n",
       "      <th>flow</th>\n",
       "      <th>cas_number</th>\n",
       "      <th>subcategory</th>\n",
       "      <th>category</th>\n",
       "      <th>unit</th>\n",
       "      <th>value</th>\n",
       "    </tr>\n",
       "  </thead>\n",
       "  <tbody>\n",
       "    <tr>\n",
       "      <th>0</th>\n",
       "      <td>ReCiPe 2016 Midpoint (H)</td>\n",
       "      <td>f9e7dd9d-f3a3-318e-b458-6452fbdcbd8f</td>\n",
       "      <td>Mineral resource scarcity</td>\n",
       "      <td>kg Cu eq</td>\n",
       "      <td>4718c804-ed44-464c-acbe-c5cc51b7580b</td>\n",
       "      <td>tio2, 54% in ilmenite, 18% in crude ore</td>\n",
       "      <td>013463-67-7</td>\n",
       "      <td>land</td>\n",
       "      <td>Resource</td>\n",
       "      <td>kg</td>\n",
       "      <td>0.515</td>\n",
       "    </tr>\n",
       "    <tr>\n",
       "      <th>1</th>\n",
       "      <td>ReCiPe 2016 Midpoint (H)</td>\n",
       "      <td>f9e7dd9d-f3a3-318e-b458-6452fbdcbd8f</td>\n",
       "      <td>Mineral resource scarcity</td>\n",
       "      <td>kg Cu eq</td>\n",
       "      <td>ba2da2fe-3420-45d1-9d1b-58b9e99714eb</td>\n",
       "      <td>rhodium, rh 1.6e-7%, in mixed ore</td>\n",
       "      <td>QVIXQS2UD</td>\n",
       "      <td>in ground</td>\n",
       "      <td>Resource</td>\n",
       "      <td>kg</td>\n",
       "      <td>6,340</td>\n",
       "    </tr>\n",
       "    <tr>\n",
       "      <th>2</th>\n",
       "      <td>ReCiPe 2016 Midpoint (H)</td>\n",
       "      <td>f9e7dd9d-f3a3-318e-b458-6452fbdcbd8f</td>\n",
       "      <td>Mineral resource scarcity</td>\n",
       "      <td>kg Cu eq</td>\n",
       "      <td>f7d19093-ce81-36a2-ac82-586aebc1f374</td>\n",
       "      <td>rutile</td>\n",
       "      <td>QVIXQS2UD</td>\n",
       "      <td>in ground</td>\n",
       "      <td>Resource</td>\n",
       "      <td>kg</td>\n",
       "      <td>0.179</td>\n",
       "    </tr>\n",
       "    <tr>\n",
       "      <th>3</th>\n",
       "      <td>ReCiPe 2016 Midpoint (H)</td>\n",
       "      <td>f9e7dd9d-f3a3-318e-b458-6452fbdcbd8f</td>\n",
       "      <td>Mineral resource scarcity</td>\n",
       "      <td>kg Cu eq</td>\n",
       "      <td>537b8312-3f27-4d3c-859f-55d3f944f42d</td>\n",
       "      <td>limestone, in ground</td>\n",
       "      <td>001317-65-3</td>\n",
       "      <td>in ground</td>\n",
       "      <td>Resource</td>\n",
       "      <td>kg</td>\n",
       "      <td>0.0202</td>\n",
       "    </tr>\n",
       "    <tr>\n",
       "      <th>4</th>\n",
       "      <td>ReCiPe 2016 Midpoint (H)</td>\n",
       "      <td>f9e7dd9d-f3a3-318e-b458-6452fbdcbd8f</td>\n",
       "      <td>Mineral resource scarcity</td>\n",
       "      <td>kg Cu eq</td>\n",
       "      <td>7ae398b5-8532-11e0-9d78-0800200c9a66</td>\n",
       "      <td>iron ore</td>\n",
       "      <td>QVIXQS2UD</td>\n",
       "      <td>in ground</td>\n",
       "      <td>Resource</td>\n",
       "      <td>kg</td>\n",
       "      <td>0.0175</td>\n",
       "    </tr>\n",
       "  </tbody>\n",
       "</table>\n",
       "</div>"
      ],
      "text/plain": [
       "              impact_method                  impact_category_uuid  \\\n",
       "0  ReCiPe 2016 Midpoint (H)  f9e7dd9d-f3a3-318e-b458-6452fbdcbd8f   \n",
       "1  ReCiPe 2016 Midpoint (H)  f9e7dd9d-f3a3-318e-b458-6452fbdcbd8f   \n",
       "2  ReCiPe 2016 Midpoint (H)  f9e7dd9d-f3a3-318e-b458-6452fbdcbd8f   \n",
       "3  ReCiPe 2016 Midpoint (H)  f9e7dd9d-f3a3-318e-b458-6452fbdcbd8f   \n",
       "4  ReCiPe 2016 Midpoint (H)  f9e7dd9d-f3a3-318e-b458-6452fbdcbd8f   \n",
       "\n",
       "             impact_category reference_unit  \\\n",
       "0  Mineral resource scarcity       kg Cu eq   \n",
       "1  Mineral resource scarcity       kg Cu eq   \n",
       "2  Mineral resource scarcity       kg Cu eq   \n",
       "3  Mineral resource scarcity       kg Cu eq   \n",
       "4  Mineral resource scarcity       kg Cu eq   \n",
       "\n",
       "                              flow_uuid  \\\n",
       "0  4718c804-ed44-464c-acbe-c5cc51b7580b   \n",
       "1  ba2da2fe-3420-45d1-9d1b-58b9e99714eb   \n",
       "2  f7d19093-ce81-36a2-ac82-586aebc1f374   \n",
       "3  537b8312-3f27-4d3c-859f-55d3f944f42d   \n",
       "4  7ae398b5-8532-11e0-9d78-0800200c9a66   \n",
       "\n",
       "                                      flow   cas_number subcategory  category  \\\n",
       "0  tio2, 54% in ilmenite, 18% in crude ore  013463-67-7        land  Resource   \n",
       "1        rhodium, rh 1.6e-7%, in mixed ore    QVIXQS2UD   in ground  Resource   \n",
       "2                                   rutile    QVIXQS2UD   in ground  Resource   \n",
       "3                     limestone, in ground  001317-65-3   in ground  Resource   \n",
       "4                                 iron ore    QVIXQS2UD   in ground  Resource   \n",
       "\n",
       "  unit   value  \n",
       "0   kg   0.515  \n",
       "1   kg   6,340  \n",
       "2   kg   0.179  \n",
       "3   kg  0.0202  \n",
       "4   kg  0.0175  "
      ]
     },
     "execution_count": 8,
     "metadata": {},
     "output_type": "execute_result"
    }
   ],
   "source": [
    "#olca_recipe['flow'] = olca_recipe['flow'].str.split(',').str[0]\n",
    "olca_recipe['flow'] = olca_recipe[\"flow\"].str.lower()\n",
    "olca_recipe.head()"
   ]
  },
  {
   "cell_type": "markdown",
   "id": "a994383f",
   "metadata": {},
   "source": [
    "### read in BW2 LCIA"
   ]
  },
  {
   "cell_type": "code",
   "execution_count": 9,
   "id": "fc51532a",
   "metadata": {},
   "outputs": [
    {
     "name": "stdout",
     "output_type": "stream",
     "text": [
      "161\n"
     ]
    },
    {
     "data": {
      "text/plain": [
       "Index(['cas_number', 'flow', 'flow_uuid', 'type', 'category', 'subcategory',\n",
       "       'unit', 'value'],\n",
       "      dtype='object')"
      ]
     },
     "execution_count": 9,
     "metadata": {},
     "output_type": "execute_result"
    }
   ],
   "source": [
    "bw_recipe = unpickle_data(bw2_filepathname)\n",
    "bw_recipe.fillna(''.join(random.choice(string.ascii_uppercase + string.digits) for _ in range(9)), inplace=True)\n",
    "#print ([x for x in olca_recipe[\"CAS_NUMBER\"] if '-' not in x ] [0]) \n",
    "print(len(bw_recipe))\n",
    "bw_recipe.columns  #already named in the right format and lower.str : flow, cas_number"
   ]
  },
  {
   "cell_type": "code",
   "execution_count": 10,
   "id": "62d42c2e",
   "metadata": {},
   "outputs": [
    {
     "data": {
      "text/html": [
       "<div>\n",
       "<style scoped>\n",
       "    .dataframe tbody tr th:only-of-type {\n",
       "        vertical-align: middle;\n",
       "    }\n",
       "\n",
       "    .dataframe tbody tr th {\n",
       "        vertical-align: top;\n",
       "    }\n",
       "\n",
       "    .dataframe thead th {\n",
       "        text-align: right;\n",
       "    }\n",
       "</style>\n",
       "<table border=\"1\" class=\"dataframe\">\n",
       "  <thead>\n",
       "    <tr style=\"text-align: right;\">\n",
       "      <th></th>\n",
       "      <th>cas_number</th>\n",
       "      <th>flow</th>\n",
       "      <th>flow_uuid</th>\n",
       "      <th>type</th>\n",
       "      <th>category</th>\n",
       "      <th>subcategory</th>\n",
       "      <th>unit</th>\n",
       "      <th>value</th>\n",
       "    </tr>\n",
       "  </thead>\n",
       "  <tbody>\n",
       "    <tr>\n",
       "      <th>0</th>\n",
       "      <td>007440-36-0</td>\n",
       "      <td>antimony, in ground</td>\n",
       "      <td>47262180-8308-5d4c-9332-c77617e032ef</td>\n",
       "      <td>natural resource</td>\n",
       "      <td>natural resource</td>\n",
       "      <td>in ground</td>\n",
       "      <td>kilogram</td>\n",
       "      <td>0.571853</td>\n",
       "    </tr>\n",
       "    <tr>\n",
       "      <th>1</th>\n",
       "      <td>007440-38-2</td>\n",
       "      <td>arsenic, in ground</td>\n",
       "      <td>e16fd15c-0ebc-55ba-8d3b-9704f13663cb</td>\n",
       "      <td>natural resource</td>\n",
       "      <td>natural resource</td>\n",
       "      <td>in ground</td>\n",
       "      <td>kilogram</td>\n",
       "      <td>0.130982</td>\n",
       "    </tr>\n",
       "    <tr>\n",
       "      <th>2</th>\n",
       "      <td>001302-78-9</td>\n",
       "      <td>clay, bentonite, in ground</td>\n",
       "      <td>93806a54-46f5-409c-99c5-4144a1e73b5d</td>\n",
       "      <td>natural resource</td>\n",
       "      <td>natural resource</td>\n",
       "      <td>in ground</td>\n",
       "      <td>kilogram</td>\n",
       "      <td>0.010806</td>\n",
       "    </tr>\n",
       "    <tr>\n",
       "      <th>3</th>\n",
       "      <td>007440-41-7</td>\n",
       "      <td>beryllium, in ground</td>\n",
       "      <td>68f7bc03-0665-55a1-bd99-96530eab30e2</td>\n",
       "      <td>natural resource</td>\n",
       "      <td>natural resource</td>\n",
       "      <td>in ground</td>\n",
       "      <td>kilogram</td>\n",
       "      <td>76.651856</td>\n",
       "    </tr>\n",
       "    <tr>\n",
       "      <th>4</th>\n",
       "      <td>007440-69-9</td>\n",
       "      <td>bismuth, in ground</td>\n",
       "      <td>0124b342-4bdd-5cbf-ba2a-dce8a259755c</td>\n",
       "      <td>natural resource</td>\n",
       "      <td>natural resource</td>\n",
       "      <td>in ground</td>\n",
       "      <td>kilogram</td>\n",
       "      <td>3.202969</td>\n",
       "    </tr>\n",
       "    <tr>\n",
       "      <th>...</th>\n",
       "      <td>...</td>\n",
       "      <td>...</td>\n",
       "      <td>...</td>\n",
       "      <td>...</td>\n",
       "      <td>...</td>\n",
       "      <td>...</td>\n",
       "      <td>...</td>\n",
       "      <td>...</td>\n",
       "    </tr>\n",
       "    <tr>\n",
       "      <th>156</th>\n",
       "      <td>007440-27-9</td>\n",
       "      <td>terbium, in ground</td>\n",
       "      <td>6ec6a8a8-4c94-5bc5-93c5-62928fcf3935</td>\n",
       "      <td>natural resource</td>\n",
       "      <td>natural resource</td>\n",
       "      <td>in ground</td>\n",
       "      <td>kilogram</td>\n",
       "      <td>3.186281</td>\n",
       "    </tr>\n",
       "    <tr>\n",
       "      <th>157</th>\n",
       "      <td>007440-30-4</td>\n",
       "      <td>thulium, in ground</td>\n",
       "      <td>a34e010c-6f68-5c79-8b45-2955b91f7dc2</td>\n",
       "      <td>natural resource</td>\n",
       "      <td>natural resource</td>\n",
       "      <td>in ground</td>\n",
       "      <td>kilogram</td>\n",
       "      <td>3.186281</td>\n",
       "    </tr>\n",
       "    <tr>\n",
       "      <th>158</th>\n",
       "      <td>007440-64-4</td>\n",
       "      <td>ytterbium, in ground</td>\n",
       "      <td>ea659cca-fe3d-5b03-90d2-60719a862874</td>\n",
       "      <td>natural resource</td>\n",
       "      <td>natural resource</td>\n",
       "      <td>in ground</td>\n",
       "      <td>kilogram</td>\n",
       "      <td>3.186281</td>\n",
       "    </tr>\n",
       "    <tr>\n",
       "      <th>159</th>\n",
       "      <td>007440-67-7</td>\n",
       "      <td>zirconium, 50% in zircon, 0.39% in crude ore, ...</td>\n",
       "      <td>fcee6eab-e906-4ddf-bc14-2b131b937893</td>\n",
       "      <td>natural resource</td>\n",
       "      <td>natural resource</td>\n",
       "      <td>in ground</td>\n",
       "      <td>kilogram</td>\n",
       "      <td>0.174993</td>\n",
       "    </tr>\n",
       "    <tr>\n",
       "      <th>160</th>\n",
       "      <td>007440-67-7</td>\n",
       "      <td>zirconium, in ground</td>\n",
       "      <td>cd2932c5-a486-4bf1-99b8-815d8a7ce11a</td>\n",
       "      <td>natural resource</td>\n",
       "      <td>natural resource</td>\n",
       "      <td>in ground</td>\n",
       "      <td>kilogram</td>\n",
       "      <td>0.174993</td>\n",
       "    </tr>\n",
       "  </tbody>\n",
       "</table>\n",
       "<p>161 rows × 8 columns</p>\n",
       "</div>"
      ],
      "text/plain": [
       "      cas_number                                               flow  \\\n",
       "0    007440-36-0                                antimony, in ground   \n",
       "1    007440-38-2                                 arsenic, in ground   \n",
       "2    001302-78-9                         clay, bentonite, in ground   \n",
       "3    007440-41-7                               beryllium, in ground   \n",
       "4    007440-69-9                                 bismuth, in ground   \n",
       "..           ...                                                ...   \n",
       "156  007440-27-9                                 terbium, in ground   \n",
       "157  007440-30-4                                 thulium, in ground   \n",
       "158  007440-64-4                               ytterbium, in ground   \n",
       "159  007440-67-7  zirconium, 50% in zircon, 0.39% in crude ore, ...   \n",
       "160  007440-67-7                               zirconium, in ground   \n",
       "\n",
       "                                flow_uuid              type          category  \\\n",
       "0    47262180-8308-5d4c-9332-c77617e032ef  natural resource  natural resource   \n",
       "1    e16fd15c-0ebc-55ba-8d3b-9704f13663cb  natural resource  natural resource   \n",
       "2    93806a54-46f5-409c-99c5-4144a1e73b5d  natural resource  natural resource   \n",
       "3    68f7bc03-0665-55a1-bd99-96530eab30e2  natural resource  natural resource   \n",
       "4    0124b342-4bdd-5cbf-ba2a-dce8a259755c  natural resource  natural resource   \n",
       "..                                    ...               ...               ...   \n",
       "156  6ec6a8a8-4c94-5bc5-93c5-62928fcf3935  natural resource  natural resource   \n",
       "157  a34e010c-6f68-5c79-8b45-2955b91f7dc2  natural resource  natural resource   \n",
       "158  ea659cca-fe3d-5b03-90d2-60719a862874  natural resource  natural resource   \n",
       "159  fcee6eab-e906-4ddf-bc14-2b131b937893  natural resource  natural resource   \n",
       "160  cd2932c5-a486-4bf1-99b8-815d8a7ce11a  natural resource  natural resource   \n",
       "\n",
       "    subcategory      unit      value  \n",
       "0     in ground  kilogram   0.571853  \n",
       "1     in ground  kilogram   0.130982  \n",
       "2     in ground  kilogram   0.010806  \n",
       "3     in ground  kilogram  76.651856  \n",
       "4     in ground  kilogram   3.202969  \n",
       "..          ...       ...        ...  \n",
       "156   in ground  kilogram   3.186281  \n",
       "157   in ground  kilogram   3.186281  \n",
       "158   in ground  kilogram   3.186281  \n",
       "159   in ground  kilogram   0.174993  \n",
       "160   in ground  kilogram   0.174993  \n",
       "\n",
       "[161 rows x 8 columns]"
      ]
     },
     "execution_count": 10,
     "metadata": {},
     "output_type": "execute_result"
    }
   ],
   "source": [
    "#bw_recipe['flow'] = bw_recipe['flow'].str.split(',').str[0]\n",
    "bw_recipe['flow'] = bw_recipe['flow'].str.lower()\n",
    "bw_recipe"
   ]
  },
  {
   "cell_type": "markdown",
   "id": "b38a9901",
   "metadata": {},
   "source": [
    "### read in raw RIVM_ReCiPe,  delete \"*\" for some flows suffix"
   ]
  },
  {
   "cell_type": "code",
   "execution_count": 11,
   "id": "c7876c40",
   "metadata": {
    "scrolled": true
   },
   "outputs": [],
   "source": [
    "rivm_recipe = pd.read_excel(\"../../Data_rawCFs/ReCiPe2016_CFs_v1.1_20180117.xlsx\", sheet_name=rivm_name, \n",
    "                                  header=[2], converters={'CAS':str})\n",
    "rivm_recipe = rivm_recipe.rename(columns={\"Mineral resource\": \"flow\", \"Hierarchist\":\"value\"})\n",
    "rivm_recipe = rivm_recipe.rename(str.lower, axis='columns')"
   ]
  },
  {
   "cell_type": "code",
   "execution_count": 12,
   "id": "b1d72431",
   "metadata": {},
   "outputs": [
    {
     "data": {
      "text/html": [
       "<div>\n",
       "<style scoped>\n",
       "    .dataframe tbody tr th:only-of-type {\n",
       "        vertical-align: middle;\n",
       "    }\n",
       "\n",
       "    .dataframe tbody tr th {\n",
       "        vertical-align: top;\n",
       "    }\n",
       "\n",
       "    .dataframe thead th {\n",
       "        text-align: right;\n",
       "    }\n",
       "</style>\n",
       "<table border=\"1\" class=\"dataframe\">\n",
       "  <thead>\n",
       "    <tr style=\"text-align: right;\">\n",
       "      <th></th>\n",
       "      <th>flow</th>\n",
       "      <th>chemical element</th>\n",
       "      <th>individualist</th>\n",
       "      <th>value</th>\n",
       "      <th>egalitarian</th>\n",
       "    </tr>\n",
       "  </thead>\n",
       "  <tbody>\n",
       "    <tr>\n",
       "      <th>0</th>\n",
       "      <td>aluminium</td>\n",
       "      <td>Al</td>\n",
       "      <td>0.100740</td>\n",
       "      <td>0.169339</td>\n",
       "      <td>0.169339</td>\n",
       "    </tr>\n",
       "    <tr>\n",
       "      <th>1</th>\n",
       "      <td>antimony</td>\n",
       "      <td>Sb</td>\n",
       "      <td>1.031823</td>\n",
       "      <td>0.571853</td>\n",
       "      <td>0.571853</td>\n",
       "    </tr>\n",
       "    <tr>\n",
       "      <th>2</th>\n",
       "      <td>arsenic</td>\n",
       "      <td>As</td>\n",
       "      <td>0.088871</td>\n",
       "      <td>0.130982</td>\n",
       "      <td>0.130982</td>\n",
       "    </tr>\n",
       "    <tr>\n",
       "      <th>3</th>\n",
       "      <td>ball clay</td>\n",
       "      <td>NaN</td>\n",
       "      <td>0.003859</td>\n",
       "      <td>0.007092</td>\n",
       "      <td>0.007092</td>\n",
       "    </tr>\n",
       "    <tr>\n",
       "      <th>4</th>\n",
       "      <td>barite</td>\n",
       "      <td>NaN</td>\n",
       "      <td>0.013563</td>\n",
       "      <td>0.022817</td>\n",
       "      <td>0.022817</td>\n",
       "    </tr>\n",
       "    <tr>\n",
       "      <th>...</th>\n",
       "      <td>...</td>\n",
       "      <td>...</td>\n",
       "      <td>...</td>\n",
       "      <td>...</td>\n",
       "      <td>...</td>\n",
       "    </tr>\n",
       "    <tr>\n",
       "      <th>70</th>\n",
       "      <td>garnets</td>\n",
       "      <td>NaN</td>\n",
       "      <td>0.029944</td>\n",
       "      <td>0.047644</td>\n",
       "      <td>0.047644</td>\n",
       "    </tr>\n",
       "    <tr>\n",
       "      <th>71</th>\n",
       "      <td>gemstones</td>\n",
       "      <td>NaN</td>\n",
       "      <td>12491.707091</td>\n",
       "      <td>7994.824659</td>\n",
       "      <td>7994.824659</td>\n",
       "    </tr>\n",
       "    <tr>\n",
       "      <th>72</th>\n",
       "      <td>platinum-group metals</td>\n",
       "      <td>NaN</td>\n",
       "      <td>5552.480459</td>\n",
       "      <td>3762.311267</td>\n",
       "      <td>3762.311267</td>\n",
       "    </tr>\n",
       "    <tr>\n",
       "      <th>73</th>\n",
       "      <td>rare earth metals</td>\n",
       "      <td>NaN</td>\n",
       "      <td>2.752674</td>\n",
       "      <td>3.186281</td>\n",
       "      <td>3.186281</td>\n",
       "    </tr>\n",
       "    <tr>\n",
       "      <th>74</th>\n",
       "      <td>zirconium minerals</td>\n",
       "      <td>NaN</td>\n",
       "      <td>0.121364</td>\n",
       "      <td>0.174993</td>\n",
       "      <td>0.174993</td>\n",
       "    </tr>\n",
       "  </tbody>\n",
       "</table>\n",
       "<p>75 rows × 5 columns</p>\n",
       "</div>"
      ],
      "text/plain": [
       "                     flow chemical element  individualist        value  \\\n",
       "0               aluminium               Al       0.100740     0.169339   \n",
       "1                antimony               Sb       1.031823     0.571853   \n",
       "2                 arsenic               As       0.088871     0.130982   \n",
       "3               ball clay              NaN       0.003859     0.007092   \n",
       "4                  barite              NaN       0.013563     0.022817   \n",
       "..                    ...              ...            ...          ...   \n",
       "70                garnets              NaN       0.029944     0.047644   \n",
       "71              gemstones              NaN   12491.707091  7994.824659   \n",
       "72  platinum-group metals              NaN    5552.480459  3762.311267   \n",
       "73      rare earth metals              NaN       2.752674     3.186281   \n",
       "74     zirconium minerals              NaN       0.121364     0.174993   \n",
       "\n",
       "    egalitarian  \n",
       "0      0.169339  \n",
       "1      0.571853  \n",
       "2      0.130982  \n",
       "3      0.007092  \n",
       "4      0.022817  \n",
       "..          ...  \n",
       "70     0.047644  \n",
       "71  7994.824659  \n",
       "72  3762.311267  \n",
       "73     3.186281  \n",
       "74     0.174993  \n",
       "\n",
       "[75 rows x 5 columns]"
      ]
     },
     "execution_count": 12,
     "metadata": {},
     "output_type": "execute_result"
    }
   ],
   "source": [
    "rivm_recipe['flow'] = rivm_recipe['flow'].str.split('*').str[0]\n",
    "rivm_recipe['flow'] = rivm_recipe['flow'].str.lower()\n",
    "rivm_recipe"
   ]
  },
  {
   "cell_type": "markdown",
   "id": "999385f0",
   "metadata": {},
   "source": [
    "### 3. final calculation, pair-wise comparison, corr. matrix"
   ]
  },
  {
   "cell_type": "code",
   "execution_count": 13,
   "id": "26b400d6",
   "metadata": {},
   "outputs": [],
   "source": [
    "# create 6 empty dict: dict_SPvsRIVM; dict_SPvsBW2; dict_SPvsopenLCA; dict_openLCAvsBW2; dict_openLCAvsRIVM; dict_BW2vsRIVM\n",
    "# each dict with five keys and null values (to be assigned later)\n",
    "for name in pairwise_name:\n",
    "    #print(name)\n",
    "    keys = [name+\"_commonEF_sumtable\", name+\"_commonEF_list\", name + \"_result_diffEFs\", name + \"_result_corr\" ]\n",
    "    globals()['dict_%s' % name] = dict.fromkeys(keys, None)"
   ]
  },
  {
   "cell_type": "code",
   "execution_count": 15,
   "id": "09215f4d",
   "metadata": {},
   "outputs": [
    {
     "name": "stdout",
     "output_type": "stream",
     "text": [
      "Detailed differences won't be printed out, to print, add input argument: to_print = 'yes'.  \n",
      "N of common EFs to be used is: 62\n"
     ]
    }
   ],
   "source": [
    "k_list = list(dict_SPvsRIVM)\n",
    "dict_SPvsRIVM[k_list[0]], dict_SPvsRIVM[k_list[1]] = res_compare_included_EF(SP_recipe, \"flow\", rivm_recipe,  \"flow\", to_print = \"no\" )\n",
    "if len(dict_SPvsRIVM[k_list[1]] ) == 0: \n",
    "    dict_SPvsRIVM[k_list[2]] = pd.DataFrame ({'SP_value': np.NaN , 'RIVM_value': np.NaN }, index=[0])\n",
    "else:\n",
    "    dict_SPvsRIVM[k_list[2]] = pd.DataFrame (\n",
    "        {'SP_value': final_EF_combined(SP_recipe, \"flow\", \"value\", rivm_recipe, \"flow\", \"value\", dict_SPvsRIVM[k_list[1]])[0] , \n",
    "         'RIVM_value': final_EF_combined(SP_recipe, \"flow\", \"value\", rivm_recipe, \"flow\", \"value\", dict_SPvsRIVM[k_list[1]])[1] }, \n",
    "        index = dict_SPvsRIVM[k_list[1]]\n",
    "    )"
   ]
  },
  {
   "cell_type": "code",
   "execution_count": 16,
   "id": "de3c326e",
   "metadata": {},
   "outputs": [
    {
     "name": "stdout",
     "output_type": "stream",
     "text": [
      "Detailed differences won't be printed out, to print, add input argument: to_print = 'yes'.  \n",
      "N of common EFs to be used is: 0\n"
     ]
    }
   ],
   "source": [
    "k_list = list(dict_SPvsBW2)\n",
    "dict_SPvsBW2[k_list[0]],dict_SPvsBW2[k_list[1]] = res_compare_included_EF(SP_recipe, \"flow\", bw_recipe,  \"flow\", to_print = \"no\" )\n",
    "if len(dict_SPvsBW2[k_list[1]] ) == 0: \n",
    "    dict_SPvsBW2[k_list[2]] = pd.DataFrame ({'SP_value': np.NaN , 'BW2_value': np.NaN }, index=[0])\n",
    "else:\n",
    "    dict_SPvsBW2[k_list[2]] = pd.DataFrame (\n",
    "        {'SP_value': final_EF_combined(SP_recipe, \"flow\", \"value\", bw_recipe, \"flow\", \"value\", dict_SPvsBW2[k_list[1]])[0] , \n",
    "         'BW2_value': final_EF_combined(SP_recipe, \"flow\", \"value\", bw_recipe, \"flow\", \"value\", dict_SPvsBW2[k_list[1]])[1] }, \n",
    "        index = dict_SPvsBW2[k_list[1]]\n",
    "    )"
   ]
  },
  {
   "cell_type": "code",
   "execution_count": 17,
   "id": "4e6b5703",
   "metadata": {},
   "outputs": [
    {
     "name": "stdout",
     "output_type": "stream",
     "text": [
      "Detailed differences won't be printed out, to print, add input argument: to_print = 'yes'.  \n",
      "N of common EFs to be used is: 143\n"
     ]
    }
   ],
   "source": [
    "k_list = list(dict_SPvsopenLCA)\n",
    "dict_SPvsopenLCA[k_list[0]],dict_SPvsopenLCA[k_list[1]] = res_compare_included_EF(SP_recipe, \"flow\", olca_recipe,  \"flow\", to_print = \"no\" )\n",
    "if len(dict_SPvsopenLCA[k_list[1]] ) == 0: \n",
    "    dict_SPvsopenLCA[k_list[2]] = pd.DataFrame ({'SP_value': np.NaN , 'olca_value': np.NaN }, index=[0])\n",
    "else:\n",
    "    dict_SPvsopenLCA[k_list[2]] = pd.DataFrame (\n",
    "        {'SP_value': final_EF_combined(SP_recipe, \"flow\", \"value\", olca_recipe, \"flow\", \"value\", dict_SPvsopenLCA[k_list[1]])[0] , \n",
    "         'olca_value': final_EF_combined(SP_recipe, \"flow\", \"value\", olca_recipe, \"flow\", \"value\", dict_SPvsopenLCA[k_list[1]])[1] },\n",
    "        index = dict_SPvsopenLCA[k_list[1]]\n",
    "    )"
   ]
  },
  {
   "cell_type": "code",
   "execution_count": 18,
   "id": "50900101",
   "metadata": {},
   "outputs": [
    {
     "name": "stdout",
     "output_type": "stream",
     "text": [
      "Detailed differences won't be printed out, to print, add input argument: to_print = 'yes'.  \n",
      "N of common EFs to be used is: 124\n",
      "Different value for a same flow: f77aacc3-2c22-4bda-99ab-fe1110a1b891\n",
      "Different value for a same flow: 99c56f25-9ebb-4e6a-a3e2-e4dc61e9d697\n",
      "Different value for a same flow: f77aacc3-2c22-4bda-99ab-fe1110a1b891\n",
      "Different value for a same flow: 99c56f25-9ebb-4e6a-a3e2-e4dc61e9d697\n"
     ]
    }
   ],
   "source": [
    "k_list = list(dict_openLCAvsBW2)\n",
    "dict_openLCAvsBW2[k_list[0]],dict_openLCAvsBW2[k_list[1]] = res_compare_included_EF(olca_recipe, \"flow_uuid\", bw_recipe, \"flow_uuid\", to_print = \"no\" )\n",
    "\n",
    "if len(dict_openLCAvsBW2[k_list[1]] ) == 0: \n",
    "    dict_openLCAvsBW2[k_list[2]] = pd.DataFrame ({'olca_value': np.NaN , 'BW2_value': np.NaN }, index=[0])\n",
    "else:\n",
    "    dict_openLCAvsBW2[k_list[2]] = pd.DataFrame (\n",
    "        {'olca_value': final_EF_combined(olca_recipe, \"flow_uuid\", \"value\", bw_recipe, \"flow_uuid\", \"value\", \n",
    "                                       dict_openLCAvsBW2[k_list[1]])[0] , \n",
    "         'BW2_value': final_EF_combined(olca_recipe, \"flow_uuid\", \"value\", bw_recipe, \"flow_uuid\", \"value\",\n",
    "                                         dict_openLCAvsBW2[k_list[1]])[1] },\n",
    "        index =  dict_openLCAvsBW2[k_list[1]]\n",
    "    )"
   ]
  },
  {
   "cell_type": "code",
   "execution_count": 19,
   "id": "a45bcd5a",
   "metadata": {},
   "outputs": [
    {
     "name": "stdout",
     "output_type": "stream",
     "text": [
      "Detailed differences won't be printed out, to print, add input argument: to_print = 'yes'.  \n",
      "N of common EFs to be used is: 62\n"
     ]
    }
   ],
   "source": [
    "k_list = list(dict_openLCAvsRIVM)\n",
    "dict_openLCAvsRIVM[k_list[0]],dict_openLCAvsRIVM[k_list[1]] = res_compare_included_EF(olca_recipe, \"flow\", rivm_recipe, \"flow\", to_print = \"no\" )\n",
    "\n",
    "if len(dict_openLCAvsRIVM[k_list[1]] ) == 0: \n",
    "    dict_openLCAvsRIVM[k_list[2]] = pd.DataFrame ({'olca_value': np.NaN , 'RIVM_value': np.NaN }, index=[0])\n",
    "else:\n",
    "    dict_openLCAvsRIVM[k_list[2]] = pd.DataFrame (\n",
    "        {'olca_value': final_EF_combined(olca_recipe, \"flow\", \"value\", rivm_recipe, \"flow\", \"value\", \n",
    "                                       dict_openLCAvsRIVM[k_list[1]])[0] , \n",
    "         'BW2_value': final_EF_combined(olca_recipe, \"flow\", \"value\", rivm_recipe, \"flow\", \"value\",\n",
    "                                         dict_openLCAvsRIVM[k_list[1]])[1] },\n",
    "        index = dict_openLCAvsRIVM[k_list[1]]\n",
    "    )"
   ]
  },
  {
   "cell_type": "code",
   "execution_count": 20,
   "id": "44d68c4b",
   "metadata": {},
   "outputs": [
    {
     "name": "stdout",
     "output_type": "stream",
     "text": [
      "Detailed differences won't be printed out, to print, add input argument: to_print = 'yes'.  \n",
      "N of common EFs to be used is: 0\n"
     ]
    }
   ],
   "source": [
    "k_list = list(dict_BW2vsRIVM)\n",
    "dict_BW2vsRIVM[k_list[0]],dict_BW2vsRIVM[k_list[1]] = res_compare_included_EF(bw_recipe, \"flow\", rivm_recipe, \"flow\", to_print = \"no\" )\n",
    "if len(dict_BW2vsRIVM[k_list[1]] ) == 0: \n",
    "    dict_BW2vsRIVM[k_list[2]] = pd.DataFrame ({'BW2_value': np.NaN , 'RIVM_value': np.NaN }, index=[0])\n",
    "else:\n",
    "    dict_BW2vsRIVM[k_list[2]] = pd.DataFrame (\n",
    "        {'BW2_value': final_EF_combined(bw_recipe, \"flow\", \"value\", rivm_recipe, \"flow\", \"value\", \n",
    "                                       dict_BW2vsRIVM[k_list[1]])[0] , \n",
    "         'RIVM_value': final_EF_combined(bw_recipe, \"flow\", \"value\", rivm_recipe, \"flow\", \"value\",\n",
    "                                         dict_BW2vsRIVM[k_list[1]])[1] },\n",
    "        index = dict_BW2vsRIVM[k_list[1]]\n",
    "    )"
   ]
  },
  {
   "cell_type": "code",
   "execution_count": 22,
   "id": "2b8881c4",
   "metadata": {},
   "outputs": [
    {
     "name": "stdout",
     "output_type": "stream",
     "text": [
      "            SP_value  RIVM_value\n",
      "SP_value         1.0         1.0\n",
      "RIVM_value       1.0         1.0\n",
      "           SP_value  BW2_value\n",
      "SP_value        NaN        NaN\n",
      "BW2_value       NaN        NaN\n",
      "            SP_value  olca_value\n",
      "SP_value         1.0         1.0\n",
      "olca_value       1.0         1.0\n",
      "            olca_value  BW2_value\n",
      "olca_value         1.0        1.0\n",
      "BW2_value          1.0        1.0\n",
      "            olca_value  BW2_value\n",
      "olca_value         1.0        1.0\n",
      "BW2_value          1.0        1.0\n",
      "            BW2_value  RIVM_value\n",
      "BW2_value         NaN         NaN\n",
      "RIVM_value        NaN         NaN\n"
     ]
    }
   ],
   "source": [
    "for name in pairwise_name:\n",
    "    new_df = globals()['dict_%s' % name][name + \"_result_diffEFs\"]\n",
    "    try:\n",
    "        new_df_corr = new_df.corr()\n",
    "    except: \n",
    "        error\n",
    "    print(new_df_corr)\n",
    "    globals()['dict_%s' % name][name + \"_result_corr\"] = new_df_corr"
   ]
  },
  {
   "cell_type": "code",
   "execution_count": 23,
   "id": "97441792",
   "metadata": {},
   "outputs": [],
   "source": [
    "# saving each dict_ to a single worksheet, different rows , # saving to sub-folder \"results/Resources_IC/\"\n",
    "\n",
    "if not os.path.exists(\"results/Resources_IC\"):\n",
    "    os.makedirs(\"results/Resources_IC\")\n",
    "\n",
    "filename = lcia_name + \"_pairwise_comp_result.xlsx\"\n",
    "writer = pd.ExcelWriter(\"results/Resources_IC/\" + filename, engine='xlsxwriter')\n",
    "\n",
    "for name in pairwise_name:\n",
    "    sum_table = globals()['dict_%s' % name][name + \"_commonEF_sumtable\"]\n",
    "    new_df = globals()['dict_%s' % name][name + \"_result_diffEFs\"]\n",
    "    new_df_corr = globals()['dict_%s' % name][name + \"_result_corr\"]\n",
    "\n",
    "    sum_table.to_excel(writer,sheet_name=name,startrow=0 , startcol=0)   # write first  (3rows)\n",
    "    new_df_corr.to_excel(writer,sheet_name=name,startrow=5 , startcol=0) # write next   (3rows)\n",
    "    new_df.to_excel(writer,sheet_name=name,startrow=10 , startcol=0)     # finally, write the resulting EFs \n",
    "     \n",
    "writer.save()"
   ]
  },
  {
   "cell_type": "code",
   "execution_count": null,
   "id": "f5609f61",
   "metadata": {},
   "outputs": [],
   "source": []
  }
 ],
 "metadata": {
  "kernelspec": {
   "display_name": "Python 3 (ipykernel)",
   "language": "python",
   "name": "python3"
  },
  "language_info": {
   "codemirror_mode": {
    "name": "ipython",
    "version": 3
   },
   "file_extension": ".py",
   "mimetype": "text/x-python",
   "name": "python",
   "nbconvert_exporter": "python",
   "pygments_lexer": "ipython3",
   "version": "3.9.7"
  }
 },
 "nbformat": 4,
 "nbformat_minor": 5
}
