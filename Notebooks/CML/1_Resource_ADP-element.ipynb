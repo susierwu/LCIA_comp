{
 "cells": [
  {
   "cell_type": "code",
   "execution_count": 1,
   "id": "d12203ea",
   "metadata": {},
   "outputs": [],
   "source": [
    "import pickle\n",
    "import pandas as pd\n",
    "import os           \n",
    "import numpy as np\n",
    "import re\n",
    "import itertools\n",
    "import plotly.express as px\n",
    "#import brightway2 as bw \n",
    "import random \n",
    "import string"
   ]
  },
  {
   "cell_type": "code",
   "execution_count": 2,
   "id": "a06b632b",
   "metadata": {},
   "outputs": [],
   "source": [
    "import sys\n",
    "sys.path.append('../../Module')  #two levels up & then down to Module folder\n",
    "from common_mod import *\n",
    "from mod_resIC import *"
   ]
  },
  {
   "cell_type": "code",
   "execution_count": 3,
   "id": "134ea096",
   "metadata": {},
   "outputs": [],
   "source": [
    "LCIAname = [\"CML\", \"SP\", \"openLCA\", \"BW2\"]  #source LCIA name \n",
    "lcia_name = \"CML_Abiotic depletion (element)\"            # name will be used when saving data/plots\n",
    "SP_name = \"Abiotic depletion\"\n",
    "cml_col_name = \"ADPelement_kgSb\"\n",
    "cml_col_keep = [2,14,15,16,17] # these are \"unit\",'cas_number','flow'... to keep for each IC, will append cml_col_name later\n",
    "olca_filepathname = \"../../Data_rawCFs/olca_CML_ADP_Sb_saved.dat\"\n",
    "bw2_filepathname =  \"../../Data_rawCFs/BW2_CML2001_depletion of abiotic resources.dat\"\n",
    "#used in final calculation to create dict names\n",
    "pairwise_name = [\"SPvsCML\", \"SPvsBW2\", \"SPvsopenLCA\", \"openLCAvsBW2\", \"openLCAvsCML\", \"BW2vsCML\"]"
   ]
  },
  {
   "cell_type": "markdown",
   "id": "a5821e26",
   "metadata": {},
   "source": [
    "<h3> read in raw cleaned-up CML and select ADP (element) cols </h3>"
   ]
  },
  {
   "cell_type": "code",
   "execution_count": 4,
   "id": "65c2cb6c",
   "metadata": {
    "scrolled": false
   },
   "outputs": [
    {
     "data": {
      "text/plain": [
       "Index(['Unnamed: 0', 'Substance', 'unit', 'ADPelement_kgSb', 'ADPfossil_MJ',\n",
       "       'GWP_kgCO2', 'ODP_kgCFC-11', 'HTP_kg1,4DCB', 'FAETP_kg1,4DCB',\n",
       "       'MAETP_kg1,4DCB', 'TETP_kg1,4DCB', 'POFP_kgEthylene', 'AP_kgSO2',\n",
       "       'EP_kgPO4', 'cas_number', 'flow', 'subcategory', 'category'],\n",
       "      dtype='object')"
      ]
     },
     "execution_count": 4,
     "metadata": {},
     "output_type": "execute_result"
    }
   ],
   "source": [
    "cml = pd.read_excel(\"CML_cleaned_11IC.xlsx\" )  #header=[1,2,3]\n",
    "cml.columns"
   ]
  },
  {
   "cell_type": "code",
   "execution_count": 5,
   "id": "354bc93a",
   "metadata": {
    "scrolled": true
   },
   "outputs": [
    {
     "data": {
      "text/plain": [
       "[2, 14, 15, 16, 17, 3]"
      ]
     },
     "execution_count": 5,
     "metadata": {},
     "output_type": "execute_result"
    }
   ],
   "source": [
    "cml_col_keep.append(cml.columns.get_loc(cml_col_name) )\n",
    "cml_col_keep"
   ]
  },
  {
   "cell_type": "code",
   "execution_count": 6,
   "id": "0f398ef2",
   "metadata": {},
   "outputs": [
    {
     "name": "stdout",
     "output_type": "stream",
     "text": [
      "1961\n",
      "49\n"
     ]
    }
   ],
   "source": [
    "cml_raw = cml.iloc[: , cml_col_keep]\n",
    "print(len(cml_raw))\n",
    "cml_raw = cml_raw.dropna(subset=[cml_col_name])  #drop all na value for the IC\n",
    "print(len(cml_raw))\n",
    "cml_raw = cml_raw.rename(columns={cml_col_name:\"value\"  })\n",
    "cml_raw = cml_raw.rename(str.lower, axis='columns')\n",
    "#cml_raw.head()"
   ]
  },
  {
   "cell_type": "code",
   "execution_count": 7,
   "id": "607397a1",
   "metadata": {},
   "outputs": [
    {
     "data": {
      "text/html": [
       "<div>\n",
       "<style scoped>\n",
       "    .dataframe tbody tr th:only-of-type {\n",
       "        vertical-align: middle;\n",
       "    }\n",
       "\n",
       "    .dataframe tbody tr th {\n",
       "        vertical-align: top;\n",
       "    }\n",
       "\n",
       "    .dataframe thead th {\n",
       "        text-align: right;\n",
       "    }\n",
       "</style>\n",
       "<table border=\"1\" class=\"dataframe\">\n",
       "  <thead>\n",
       "    <tr style=\"text-align: right;\">\n",
       "      <th></th>\n",
       "      <th>unit</th>\n",
       "      <th>cas_number</th>\n",
       "      <th>flow</th>\n",
       "      <th>subcategory</th>\n",
       "      <th>category</th>\n",
       "      <th>value</th>\n",
       "    </tr>\n",
       "  </thead>\n",
       "  <tbody>\n",
       "    <tr>\n",
       "      <th>1</th>\n",
       "      <td>kg</td>\n",
       "      <td>007429-90-5</td>\n",
       "      <td>aluminium</td>\n",
       "      <td>res_landscape_resources</td>\n",
       "      <td>resourcesIC</td>\n",
       "      <td>1.094332e-09</td>\n",
       "    </tr>\n",
       "    <tr>\n",
       "      <th>2</th>\n",
       "      <td>kg</td>\n",
       "      <td>007440-36-0</td>\n",
       "      <td>antimony</td>\n",
       "      <td>res_landscape_resources</td>\n",
       "      <td>resourcesIC</td>\n",
       "      <td>1.000000e+00</td>\n",
       "    </tr>\n",
       "    <tr>\n",
       "      <th>4</th>\n",
       "      <td>kg</td>\n",
       "      <td>007440-38-2</td>\n",
       "      <td>arsenic (as)</td>\n",
       "      <td>res_landscape_resources</td>\n",
       "      <td>resourcesIC</td>\n",
       "      <td>2.974487e-03</td>\n",
       "    </tr>\n",
       "    <tr>\n",
       "      <th>5</th>\n",
       "      <td>kg</td>\n",
       "      <td>007440-39-3</td>\n",
       "      <td>barium</td>\n",
       "      <td>res_landscape_resources</td>\n",
       "      <td>resourcesIC</td>\n",
       "      <td>6.042037e-06</td>\n",
       "    </tr>\n",
       "    <tr>\n",
       "      <th>6</th>\n",
       "      <td>kg</td>\n",
       "      <td>007440-41-7</td>\n",
       "      <td>beryllium</td>\n",
       "      <td>res_landscape_resources</td>\n",
       "      <td>resourcesIC</td>\n",
       "      <td>1.259024e-05</td>\n",
       "    </tr>\n",
       "  </tbody>\n",
       "</table>\n",
       "</div>"
      ],
      "text/plain": [
       "  unit   cas_number          flow              subcategory     category  \\\n",
       "1   kg  007429-90-5    aluminium   res_landscape_resources  resourcesIC   \n",
       "2   kg  007440-36-0     antimony   res_landscape_resources  resourcesIC   \n",
       "4   kg  007440-38-2  arsenic (as)  res_landscape_resources  resourcesIC   \n",
       "5   kg  007440-39-3       barium   res_landscape_resources  resourcesIC   \n",
       "6   kg  007440-41-7    beryllium   res_landscape_resources  resourcesIC   \n",
       "\n",
       "          value  \n",
       "1  1.094332e-09  \n",
       "2  1.000000e+00  \n",
       "4  2.974487e-03  \n",
       "5  6.042037e-06  \n",
       "6  1.259024e-05  "
      ]
     },
     "execution_count": 7,
     "metadata": {},
     "output_type": "execute_result"
    }
   ],
   "source": [
    "cml_raw['flow'] = cml_raw['flow'].str.lower()\n",
    "cml_raw.head()"
   ]
  },
  {
   "cell_type": "markdown",
   "id": "5027c030",
   "metadata": {},
   "source": [
    "<h3> read in raw SP </h3>"
   ]
  },
  {
   "cell_type": "code",
   "execution_count": 8,
   "id": "037c1ef6",
   "metadata": {},
   "outputs": [
    {
     "name": "stdout",
     "output_type": "stream",
     "text": [
      "108\n"
     ]
    }
   ],
   "source": [
    "SP_cml = pd.read_excel(\"../../Data_rawCFs/SP_CML-IA.xlsx\", sheet_name=SP_name, \n",
    "                                  header=[0], converters={'CAS':str})\n",
    "\n",
    "print(len(SP_cml))\n",
    "SP_cml = SP_cml.rename(columns={\"Compartment\": \"category\", \"Subcompartment\": \"subcategory\", \n",
    "                               \"Substance\": \"flow\", \"Factor\":\"value\", \"CAS\": \"cas_number\" })\n",
    "SP_cml = SP_cml.rename(str.lower, axis='columns')"
   ]
  },
  {
   "cell_type": "code",
   "execution_count": 9,
   "id": "3095b655",
   "metadata": {},
   "outputs": [
    {
     "data": {
      "text/html": [
       "<div>\n",
       "<style scoped>\n",
       "    .dataframe tbody tr th:only-of-type {\n",
       "        vertical-align: middle;\n",
       "    }\n",
       "\n",
       "    .dataframe tbody tr th {\n",
       "        vertical-align: top;\n",
       "    }\n",
       "\n",
       "    .dataframe thead th {\n",
       "        text-align: right;\n",
       "    }\n",
       "</style>\n",
       "<table border=\"1\" class=\"dataframe\">\n",
       "  <thead>\n",
       "    <tr style=\"text-align: right;\">\n",
       "      <th></th>\n",
       "      <th>category</th>\n",
       "      <th>subcategory</th>\n",
       "      <th>flow</th>\n",
       "      <th>cas_number</th>\n",
       "      <th>value</th>\n",
       "      <th>unit</th>\n",
       "    </tr>\n",
       "  </thead>\n",
       "  <tbody>\n",
       "    <tr>\n",
       "      <th>0</th>\n",
       "      <td>Raw</td>\n",
       "      <td>(unspecified)</td>\n",
       "      <td>aluminium</td>\n",
       "      <td>007429-90-5</td>\n",
       "      <td>1.090000e-09</td>\n",
       "      <td>kg Sb eq / kg</td>\n",
       "    </tr>\n",
       "    <tr>\n",
       "      <th>1</th>\n",
       "      <td>Raw</td>\n",
       "      <td>(unspecified)</td>\n",
       "      <td>antimony</td>\n",
       "      <td>007440-36-0</td>\n",
       "      <td>1.000000e+00</td>\n",
       "      <td>kg Sb eq / kg</td>\n",
       "    </tr>\n",
       "    <tr>\n",
       "      <th>2</th>\n",
       "      <td>Raw</td>\n",
       "      <td>(unspecified)</td>\n",
       "      <td>arsenic</td>\n",
       "      <td>007440-38-2</td>\n",
       "      <td>2.970000e-03</td>\n",
       "      <td>kg Sb eq / kg</td>\n",
       "    </tr>\n",
       "    <tr>\n",
       "      <th>3</th>\n",
       "      <td>Raw</td>\n",
       "      <td>(unspecified)</td>\n",
       "      <td>barium</td>\n",
       "      <td>007440-39-3</td>\n",
       "      <td>6.040000e-06</td>\n",
       "      <td>kg Sb eq / kg</td>\n",
       "    </tr>\n",
       "    <tr>\n",
       "      <th>4</th>\n",
       "      <td>Raw</td>\n",
       "      <td>(unspecified)</td>\n",
       "      <td>beryllium</td>\n",
       "      <td>007440-41-7</td>\n",
       "      <td>1.260000e-05</td>\n",
       "      <td>kg Sb eq / kg</td>\n",
       "    </tr>\n",
       "  </tbody>\n",
       "</table>\n",
       "</div>"
      ],
      "text/plain": [
       "  category    subcategory       flow   cas_number         value           unit\n",
       "0      Raw  (unspecified)  aluminium  007429-90-5  1.090000e-09  kg Sb eq / kg\n",
       "1      Raw  (unspecified)   antimony  007440-36-0  1.000000e+00  kg Sb eq / kg\n",
       "2      Raw  (unspecified)    arsenic  007440-38-2  2.970000e-03  kg Sb eq / kg\n",
       "3      Raw  (unspecified)     barium  007440-39-3  6.040000e-06  kg Sb eq / kg\n",
       "4      Raw  (unspecified)  beryllium  007440-41-7  1.260000e-05  kg Sb eq / kg"
      ]
     },
     "execution_count": 9,
     "metadata": {},
     "output_type": "execute_result"
    }
   ],
   "source": [
    "SP_cml['flow'] = SP_cml['flow'].str.lower()\n",
    "SP_cml.head()"
   ]
  },
  {
   "cell_type": "markdown",
   "id": "a4e58a2e",
   "metadata": {},
   "source": [
    "<h3> read in raw openLCA dat </h3>"
   ]
  },
  {
   "cell_type": "code",
   "execution_count": 10,
   "id": "6bf6dcd7",
   "metadata": {},
   "outputs": [
    {
     "data": {
      "text/html": [
       "<div>\n",
       "<style scoped>\n",
       "    .dataframe tbody tr th:only-of-type {\n",
       "        vertical-align: middle;\n",
       "    }\n",
       "\n",
       "    .dataframe tbody tr th {\n",
       "        vertical-align: top;\n",
       "    }\n",
       "\n",
       "    .dataframe thead th {\n",
       "        text-align: right;\n",
       "    }\n",
       "</style>\n",
       "<table border=\"1\" class=\"dataframe\">\n",
       "  <thead>\n",
       "    <tr style=\"text-align: right;\">\n",
       "      <th></th>\n",
       "      <th>impact_method</th>\n",
       "      <th>impact_category_uuid</th>\n",
       "      <th>impact_category</th>\n",
       "      <th>reference_unit</th>\n",
       "      <th>flow_uuid</th>\n",
       "      <th>flow</th>\n",
       "      <th>cas_number</th>\n",
       "      <th>subcategory</th>\n",
       "      <th>category</th>\n",
       "      <th>unit</th>\n",
       "      <th>value</th>\n",
       "    </tr>\n",
       "  </thead>\n",
       "  <tbody>\n",
       "    <tr>\n",
       "      <th>0</th>\n",
       "      <td>CML-IA baseline</td>\n",
       "      <td>d098dc03-4caa-3c76-84df-bdd28659d40f</td>\n",
       "      <td>Abiotic depletion</td>\n",
       "      <td>kg Sb eq</td>\n",
       "      <td>a55ba777-c1ec-338a-9482-fc6e006a56de</td>\n",
       "      <td>platinum, pt 2.5e-4%, pd 7.3e-4%, rh 2.0e-5%, ...</td>\n",
       "      <td>007440-06-4</td>\n",
       "      <td>in ground</td>\n",
       "      <td>Resource</td>\n",
       "      <td>kg</td>\n",
       "      <td>2.22000</td>\n",
       "    </tr>\n",
       "    <tr>\n",
       "      <th>1</th>\n",
       "      <td>CML-IA baseline</td>\n",
       "      <td>d098dc03-4caa-3c76-84df-bdd28659d40f</td>\n",
       "      <td>Abiotic depletion</td>\n",
       "      <td>kg Sb eq</td>\n",
       "      <td>e16fd15c-0ebc-55ba-8d3b-9704f13663cb</td>\n",
       "      <td>arsenic, in ground</td>\n",
       "      <td>007440-38-2</td>\n",
       "      <td>in ground</td>\n",
       "      <td>Resource</td>\n",
       "      <td>kg</td>\n",
       "      <td>0.00297</td>\n",
       "    </tr>\n",
       "    <tr>\n",
       "      <th>2</th>\n",
       "      <td>CML-IA baseline</td>\n",
       "      <td>d098dc03-4caa-3c76-84df-bdd28659d40f</td>\n",
       "      <td>Abiotic depletion</td>\n",
       "      <td>kg Sb eq</td>\n",
       "      <td>2d65a3f7-2a10-4a10-ac9e-a0cc7cd57979</td>\n",
       "      <td>gold, au 2.1e-4%, ag 2.1e-4%, in ore</td>\n",
       "      <td>007440-57-5</td>\n",
       "      <td>in ground</td>\n",
       "      <td>Resource</td>\n",
       "      <td>kg</td>\n",
       "      <td>52.00000</td>\n",
       "    </tr>\n",
       "    <tr>\n",
       "      <th>3</th>\n",
       "      <td>CML-IA baseline</td>\n",
       "      <td>d098dc03-4caa-3c76-84df-bdd28659d40f</td>\n",
       "      <td>Abiotic depletion</td>\n",
       "      <td>kg Sb eq</td>\n",
       "      <td>4b8ac2cb-3fa6-4047-a9ab-183d9e63ccac</td>\n",
       "      <td>pd, pd 2.0e-4%, pt 4.8e-4%, rh 2.4e-5%, ni 3.7...</td>\n",
       "      <td>NaN</td>\n",
       "      <td>in ground</td>\n",
       "      <td>Resource</td>\n",
       "      <td>kg</td>\n",
       "      <td>0.57100</td>\n",
       "    </tr>\n",
       "    <tr>\n",
       "      <th>4</th>\n",
       "      <td>CML-IA baseline</td>\n",
       "      <td>d098dc03-4caa-3c76-84df-bdd28659d40f</td>\n",
       "      <td>Abiotic depletion</td>\n",
       "      <td>kg Sb eq</td>\n",
       "      <td>d13b2665-505d-49e2-8edd-dc966b0342af</td>\n",
       "      <td>platinum, in ground</td>\n",
       "      <td>NaN</td>\n",
       "      <td>in ground</td>\n",
       "      <td>Resource</td>\n",
       "      <td>kg</td>\n",
       "      <td>2.22000</td>\n",
       "    </tr>\n",
       "  </tbody>\n",
       "</table>\n",
       "</div>"
      ],
      "text/plain": [
       "     impact_method                  impact_category_uuid    impact_category  \\\n",
       "0  CML-IA baseline  d098dc03-4caa-3c76-84df-bdd28659d40f  Abiotic depletion   \n",
       "1  CML-IA baseline  d098dc03-4caa-3c76-84df-bdd28659d40f  Abiotic depletion   \n",
       "2  CML-IA baseline  d098dc03-4caa-3c76-84df-bdd28659d40f  Abiotic depletion   \n",
       "3  CML-IA baseline  d098dc03-4caa-3c76-84df-bdd28659d40f  Abiotic depletion   \n",
       "4  CML-IA baseline  d098dc03-4caa-3c76-84df-bdd28659d40f  Abiotic depletion   \n",
       "\n",
       "  reference_unit                             flow_uuid  \\\n",
       "0       kg Sb eq  a55ba777-c1ec-338a-9482-fc6e006a56de   \n",
       "1       kg Sb eq  e16fd15c-0ebc-55ba-8d3b-9704f13663cb   \n",
       "2       kg Sb eq  2d65a3f7-2a10-4a10-ac9e-a0cc7cd57979   \n",
       "3       kg Sb eq  4b8ac2cb-3fa6-4047-a9ab-183d9e63ccac   \n",
       "4       kg Sb eq  d13b2665-505d-49e2-8edd-dc966b0342af   \n",
       "\n",
       "                                                flow   cas_number subcategory  \\\n",
       "0  platinum, pt 2.5e-4%, pd 7.3e-4%, rh 2.0e-5%, ...  007440-06-4   in ground   \n",
       "1                                 arsenic, in ground  007440-38-2   in ground   \n",
       "2               gold, au 2.1e-4%, ag 2.1e-4%, in ore  007440-57-5   in ground   \n",
       "3  pd, pd 2.0e-4%, pt 4.8e-4%, rh 2.4e-5%, ni 3.7...          NaN   in ground   \n",
       "4                                platinum, in ground          NaN   in ground   \n",
       "\n",
       "   category unit     value  \n",
       "0  Resource   kg   2.22000  \n",
       "1  Resource   kg   0.00297  \n",
       "2  Resource   kg  52.00000  \n",
       "3  Resource   kg   0.57100  \n",
       "4  Resource   kg   2.22000  "
      ]
     },
     "execution_count": 10,
     "metadata": {},
     "output_type": "execute_result"
    }
   ],
   "source": [
    "olca_cml = unpickle_data(olca_filepathname)\n",
    "olca_cml = olca_cml.rename(str.lower, axis='columns')\n",
    "olca_cml['flow'] = olca_cml['flow'].str.lower()\n",
    "olca_cml.head()"
   ]
  },
  {
   "cell_type": "markdown",
   "id": "69d711bc",
   "metadata": {},
   "source": [
    "<h3> read in BW2 </h3>"
   ]
  },
  {
   "cell_type": "code",
   "execution_count": 11,
   "id": "2412131b",
   "metadata": {
    "scrolled": false
   },
   "outputs": [
    {
     "name": "stdout",
     "output_type": "stream",
     "text": [
      "158\n"
     ]
    },
    {
     "data": {
      "text/html": [
       "<div>\n",
       "<style scoped>\n",
       "    .dataframe tbody tr th:only-of-type {\n",
       "        vertical-align: middle;\n",
       "    }\n",
       "\n",
       "    .dataframe tbody tr th {\n",
       "        vertical-align: top;\n",
       "    }\n",
       "\n",
       "    .dataframe thead th {\n",
       "        text-align: right;\n",
       "    }\n",
       "</style>\n",
       "<table border=\"1\" class=\"dataframe\">\n",
       "  <thead>\n",
       "    <tr style=\"text-align: right;\">\n",
       "      <th></th>\n",
       "      <th>cas_number</th>\n",
       "      <th>flow</th>\n",
       "      <th>flow_uuid</th>\n",
       "      <th>type</th>\n",
       "      <th>category</th>\n",
       "      <th>subcategory</th>\n",
       "      <th>unit</th>\n",
       "      <th>value</th>\n",
       "    </tr>\n",
       "  </thead>\n",
       "  <tbody>\n",
       "    <tr>\n",
       "      <th>0</th>\n",
       "      <td>007440-36-0</td>\n",
       "      <td>antimony, in ground</td>\n",
       "      <td>47262180-8308-5d4c-9332-c77617e032ef</td>\n",
       "      <td>natural resource</td>\n",
       "      <td>natural resource</td>\n",
       "      <td>in ground</td>\n",
       "      <td>kilogram</td>\n",
       "      <td>7.790800e-01</td>\n",
       "    </tr>\n",
       "    <tr>\n",
       "      <th>1</th>\n",
       "      <td>7440-39-3</td>\n",
       "      <td>barium, in ground</td>\n",
       "      <td>240177d8-6f3b-43f5-8d1e-0c18114dfa02</td>\n",
       "      <td>natural resource</td>\n",
       "      <td>natural resource</td>\n",
       "      <td>in ground</td>\n",
       "      <td>kilogram</td>\n",
       "      <td>4.908800e-05</td>\n",
       "    </tr>\n",
       "    <tr>\n",
       "      <th>2</th>\n",
       "      <td>007726-95-6</td>\n",
       "      <td>bromine, in water</td>\n",
       "      <td>45d6f26b-596b-5182-8c08-d6d975ff4efe</td>\n",
       "      <td>natural resource</td>\n",
       "      <td>natural resource</td>\n",
       "      <td>in water</td>\n",
       "      <td>kilogram</td>\n",
       "      <td>6.673200e-03</td>\n",
       "    </tr>\n",
       "    <tr>\n",
       "      <th>3</th>\n",
       "      <td>7440-43-9</td>\n",
       "      <td>cadmium, in ground</td>\n",
       "      <td>bf377e4f-3a95-4ce2-a9ba-66ee31f00f60</td>\n",
       "      <td>natural resource</td>\n",
       "      <td>natural resource</td>\n",
       "      <td>in ground</td>\n",
       "      <td>kilogram</td>\n",
       "      <td>3.300800e-01</td>\n",
       "    </tr>\n",
       "    <tr>\n",
       "      <th>4</th>\n",
       "      <td>007440-45-1</td>\n",
       "      <td>cerium, in ground</td>\n",
       "      <td>4057f8b4-f20a-59c9-9bb7-fdeaf5ad106d</td>\n",
       "      <td>natural resource</td>\n",
       "      <td>natural resource</td>\n",
       "      <td>in ground</td>\n",
       "      <td>kilogram</td>\n",
       "      <td>5.320000e-09</td>\n",
       "    </tr>\n",
       "  </tbody>\n",
       "</table>\n",
       "</div>"
      ],
      "text/plain": [
       "    cas_number                 flow                             flow_uuid  \\\n",
       "0  007440-36-0  antimony, in ground  47262180-8308-5d4c-9332-c77617e032ef   \n",
       "1    7440-39-3    barium, in ground  240177d8-6f3b-43f5-8d1e-0c18114dfa02   \n",
       "2  007726-95-6    bromine, in water  45d6f26b-596b-5182-8c08-d6d975ff4efe   \n",
       "3    7440-43-9   cadmium, in ground  bf377e4f-3a95-4ce2-a9ba-66ee31f00f60   \n",
       "4  007440-45-1    cerium, in ground  4057f8b4-f20a-59c9-9bb7-fdeaf5ad106d   \n",
       "\n",
       "               type          category subcategory      unit         value  \n",
       "0  natural resource  natural resource   in ground  kilogram  7.790800e-01  \n",
       "1  natural resource  natural resource   in ground  kilogram  4.908800e-05  \n",
       "2  natural resource  natural resource    in water  kilogram  6.673200e-03  \n",
       "3  natural resource  natural resource   in ground  kilogram  3.300800e-01  \n",
       "4  natural resource  natural resource   in ground  kilogram  5.320000e-09  "
      ]
     },
     "execution_count": 11,
     "metadata": {},
     "output_type": "execute_result"
    }
   ],
   "source": [
    "bw_cml = unpickle_data(bw2_filepathname)\n",
    "print(len(bw_cml))\n",
    "bw_cml['flow'] = bw_cml['flow'].str.lower()\n",
    "bw_cml.head()"
   ]
  },
  {
   "cell_type": "markdown",
   "id": "b429705a",
   "metadata": {},
   "source": [
    "### 1. after preparing the data, see different emission compartments by diff. source, need to convert to common_catg"
   ]
  },
  {
   "cell_type": "code",
   "execution_count": 12,
   "id": "9d1dfaf7",
   "metadata": {},
   "outputs": [],
   "source": [
    "all_raw_LCIAdf = [cml_raw, SP_cml, olca_cml, bw_cml]"
   ]
  },
  {
   "cell_type": "code",
   "execution_count": 13,
   "id": "cf058d46",
   "metadata": {},
   "outputs": [],
   "source": [
    "uniq_catg_all_raw_LCIAdf = []\n",
    "for lcia in all_raw_LCIAdf: \n",
    "    uniq_catg_all_raw_LCIAdf.append( uniq_catg(lcia))"
   ]
  },
  {
   "cell_type": "code",
   "execution_count": 14,
   "id": "4df978d2",
   "metadata": {},
   "outputs": [
    {
     "name": "stdout",
     "output_type": "stream",
     "text": [
      "[1, 1, 3, 3]\n"
     ]
    }
   ],
   "source": [
    "#uniq_catg_all_raw_LCIAdf\n",
    "print([uniq_catg_all_raw_LCIAdf[i][0] for i in range(len(uniq_catg_all_raw_LCIAdf))])"
   ]
  },
  {
   "cell_type": "markdown",
   "id": "7f87fc96",
   "metadata": {},
   "source": [
    "<h3> 2. unlike emission-type IC, for resources, no \"common_category\" will be added </h3>\n",
    "\n",
    "<h4> <font color = 'red'> for the same one flow, it has same CF value regardless of its compartment (except for fresh water/seawater) </font> </h4>\n",
    "\n",
    "using res_check_EF_value (df, df_EF_name_col, df_EF_value_col, EF_list):  #df_EF_col_name is \"flow\"   "
   ]
  },
  {
   "cell_type": "markdown",
   "id": "999385f0",
   "metadata": {},
   "source": [
    "### 3. final calculation, pair-wise comparison, corr. matrix\n",
    "\n",
    "<h4> <font color = 'red'> for raw CML, it uses diff. naming rules, unlike all other sources, no same flow name found for CML vs. other LCIA sources </font> </h4>\n"
   ]
  },
  {
   "cell_type": "code",
   "execution_count": 15,
   "id": "52ca2488",
   "metadata": {},
   "outputs": [],
   "source": [
    "# create 6 empty dict: dict_SPvsRIVM; dict_SPvsBW2; dict_SPvsopenLCA; dict_openLCAvsBW2; dict_openLCAvsRIVM; dict_BW2vsRIVM\n",
    "# each dict with four keys and null values (to be assigned later)\n",
    "for name in pairwise_name:\n",
    "    #print(name)\n",
    "    keys = [name+\"_commonEF_sumtable\", name+\"_commonEF_list\", name + \"_result_diffEFs\", name + \"_result_corr\" ]\n",
    "    globals()['dict_%s' % name] = dict.fromkeys(keys, None)"
   ]
  },
  {
   "cell_type": "code",
   "execution_count": 16,
   "id": "0ca78622",
   "metadata": {},
   "outputs": [
    {
     "name": "stdout",
     "output_type": "stream",
     "text": [
      "Detailed differences won't be printed out, to print, add input argument: to_print = 'yes'.  \n",
      "N of common EFs to be used is: 0\n"
     ]
    }
   ],
   "source": [
    "k_list = list(dict_SPvsCML)\n",
    "dict_SPvsCML[k_list[0]], dict_SPvsCML[k_list[1]] = res_compare_included_EF(SP_cml, \"flow\", cml_raw,  \"flow\", to_print = \"no\" )\n",
    "if len(dict_SPvsCML[k_list[1]] ) == 0: \n",
    "    dict_SPvsCML[k_list[2]] = pd.DataFrame ({'SP_value': np.NaN , 'CML_value': np.NaN }, index=[0])\n",
    "else:\n",
    "    dict_SPvsCML[k_list[2]] = pd.DataFrame (\n",
    "        {'SP_value': final_EF_combined(SP_cml, \"flow\", \"value\", cml_raw, \"flow\", \"value\", dict_SPvsCML[k_list[1]])[0] , \n",
    "         'CML_value': final_EF_combined(SP_cml, \"flow\", \"value\", cml_raw, \"flow\", \"value\", dict_SPvsCML[k_list[1]])[1] }, \n",
    "        index = dict_SPvsCML[k_list[1]]\n",
    "    )"
   ]
  },
  {
   "cell_type": "code",
   "execution_count": 17,
   "id": "3ce0651c",
   "metadata": {},
   "outputs": [
    {
     "name": "stdout",
     "output_type": "stream",
     "text": [
      "Detailed differences won't be printed out, to print, add input argument: to_print = 'yes'.  \n",
      "N of common EFs to be used is: 0\n"
     ]
    }
   ],
   "source": [
    "k_list = list(dict_SPvsBW2)\n",
    "dict_SPvsBW2[k_list[0]],dict_SPvsBW2[k_list[1]] = res_compare_included_EF(SP_cml, \"flow\", bw_cml,  \"flow\", to_print = \"no\" )\n",
    "if len(dict_SPvsBW2[k_list[1]] ) == 0: \n",
    "    dict_SPvsBW2[k_list[2]] = pd.DataFrame ({'SP_value': np.NaN , 'BW2_value': np.NaN }, index=[0])\n",
    "else:\n",
    "    dict_SPvsBW2[k_list[2]] = pd.DataFrame (\n",
    "        {'SP_value': final_EF_combined(SP_cml, \"flow\", \"value\", bw_cml, \"flow\", \"value\", dict_SPvsBW2[k_list[1]])[0] , \n",
    "         'BW2_value': final_EF_combined(SP_cml, \"flow\", \"value\", bw_cml, \"flow\", \"value\", dict_SPvsBW2[k_list[1]])[1] }, \n",
    "        index = dict_SPvsBW2[k_list[1]]\n",
    "    )"
   ]
  },
  {
   "cell_type": "code",
   "execution_count": 18,
   "id": "b22f745d",
   "metadata": {},
   "outputs": [
    {
     "name": "stdout",
     "output_type": "stream",
     "text": [
      "Detailed differences won't be printed out, to print, add input argument: to_print = 'yes'.  \n",
      "N of common EFs to be used is: 108\n"
     ]
    }
   ],
   "source": [
    "k_list = list(dict_SPvsopenLCA)\n",
    "dict_SPvsopenLCA[k_list[0]],dict_SPvsopenLCA[k_list[1]] = res_compare_included_EF(SP_cml, \"flow\", olca_cml,  \"flow\", to_print = \"no\" )\n",
    "if len(dict_SPvsopenLCA[k_list[1]] ) == 0: \n",
    "    dict_SPvsopenLCA[k_list[2]] = pd.DataFrame ({'SP_value': np.NaN , 'olca_value': np.NaN }, index=[0])\n",
    "else:\n",
    "    dict_SPvsopenLCA[k_list[2]] = pd.DataFrame (\n",
    "        {'SP_value': final_EF_combined(SP_cml, \"flow\", \"value\", olca_cml, \"flow\", \"value\", dict_SPvsopenLCA[k_list[1]])[0] , \n",
    "         'olca_value': final_EF_combined(SP_cml, \"flow\", \"value\", olca_cml, \"flow\", \"value\", dict_SPvsopenLCA[k_list[1]])[1] },\n",
    "        index = dict_SPvsopenLCA[k_list[1]]\n",
    "    )"
   ]
  },
  {
   "cell_type": "code",
   "execution_count": 19,
   "id": "febd61bf",
   "metadata": {},
   "outputs": [
    {
     "name": "stdout",
     "output_type": "stream",
     "text": [
      "Detailed differences won't be printed out, to print, add input argument: to_print = 'yes'.  \n",
      "N of common EFs to be used is: 94\n"
     ]
    }
   ],
   "source": [
    "k_list = list(dict_openLCAvsBW2)\n",
    "dict_openLCAvsBW2[k_list[0]],dict_openLCAvsBW2[k_list[1]] = res_compare_included_EF(olca_cml, \"flow_uuid\", bw_cml, \"flow_uuid\", to_print = \"no\" )\n",
    "\n",
    "if len(dict_openLCAvsBW2[k_list[1]] ) == 0: \n",
    "    dict_openLCAvsBW2[k_list[2]] = pd.DataFrame ({'olca_value': np.NaN , 'BW2_value': np.NaN }, index=[0])\n",
    "else:\n",
    "    dict_openLCAvsBW2[k_list[2]] = pd.DataFrame (\n",
    "        {'olca_value': final_EF_combined(olca_cml, \"flow_uuid\", \"value\", bw_cml, \"flow_uuid\", \"value\", \n",
    "                                       dict_openLCAvsBW2[k_list[1]])[0] , \n",
    "         'BW2_value': final_EF_combined(olca_cml, \"flow_uuid\", \"value\", bw_cml, \"flow_uuid\", \"value\",\n",
    "                                         dict_openLCAvsBW2[k_list[1]])[1] },\n",
    "        index =  dict_openLCAvsBW2[k_list[1]]\n",
    "    )"
   ]
  },
  {
   "cell_type": "code",
   "execution_count": 20,
   "id": "5c557625",
   "metadata": {},
   "outputs": [
    {
     "name": "stdout",
     "output_type": "stream",
     "text": [
      "Detailed differences won't be printed out, to print, add input argument: to_print = 'yes'.  \n",
      "N of common EFs to be used is: 0\n"
     ]
    }
   ],
   "source": [
    "k_list = list(dict_openLCAvsCML)\n",
    "dict_openLCAvsCML[k_list[0]],dict_openLCAvsCML[k_list[1]] = res_compare_included_EF(olca_cml, \"flow\", cml_raw, \"flow\", to_print = \"no\" )\n",
    "\n",
    "if len(dict_openLCAvsCML[k_list[1]] ) == 0: \n",
    "    dict_openLCAvsCML[k_list[2]] = pd.DataFrame ({'olca_value': np.NaN , 'CML_value': np.NaN }, index=[0])\n",
    "else:\n",
    "    dict_openLCAvsCML[k_list[2]] = pd.DataFrame (\n",
    "        {'olca_value': final_EF_combined(olca_cml, \"flow\", \"value\", cml_raw, \"flow\", \"value\", \n",
    "                                       dict_openLCAvsCML[k_list[1]])[0] , \n",
    "         'CML_value': final_EF_combined(olca_cml, \"flow\", \"value\", cml_raw, \"flow\", \"value\",\n",
    "                                         dict_openLCAvsCML[k_list[1]])[1] },\n",
    "        index = dict_openLCAvsCML[k_list[1]]\n",
    "    )"
   ]
  },
  {
   "cell_type": "code",
   "execution_count": 21,
   "id": "9010a78b",
   "metadata": {},
   "outputs": [
    {
     "name": "stdout",
     "output_type": "stream",
     "text": [
      "Detailed differences won't be printed out, to print, add input argument: to_print = 'yes'.  \n",
      "N of common EFs to be used is: 0\n"
     ]
    }
   ],
   "source": [
    "k_list = list(dict_BW2vsCML)\n",
    "dict_BW2vsCML[k_list[0]],dict_BW2vsCML[k_list[1]] = res_compare_included_EF(bw_cml, \"flow\", cml_raw, \"flow\", to_print = \"no\" )\n",
    "if len(dict_BW2vsCML[k_list[1]] ) == 0: \n",
    "    dict_BW2vsCML[k_list[2]] = pd.DataFrame ({'BW2_value': np.NaN , 'CML_value': np.NaN }, index=[0])\n",
    "else:\n",
    "    dict_BW2vsRIVM[k_list[2]] = pd.DataFrame (\n",
    "        {'BW2_value': final_EF_combined(bw_cml, \"flow\", \"value\", cml_raw, \"flow\", \"value\", \n",
    "                                       dict_BW2vsCML[k_list[1]])[0] , \n",
    "         'CML_value': final_EF_combined(bw_cml, \"flow\", \"value\", cml_raw, \"flow\", \"value\",\n",
    "                                         dict_BW2vsCML[k_list[1]])[1] },\n",
    "        index = dict_BW2vsCML[k_list[1]]\n",
    "    )"
   ]
  },
  {
   "cell_type": "markdown",
   "id": "2e61eda2",
   "metadata": {},
   "source": [
    "<h4>  Assign values to final key for each dict: result_corr_coeff </h4>\n",
    "\n",
    "Note: for the 3rd key of each dict, _result_diffEFs: unlike emission types of IC, it's not the EFs with diff. CF values. It's all combined common EFs used for pair-wise comp."
   ]
  },
  {
   "cell_type": "code",
   "execution_count": 22,
   "id": "299de566",
   "metadata": {},
   "outputs": [],
   "source": [
    "for name in pairwise_name:\n",
    "    new_df = globals()['dict_%s' % name][name + \"_result_diffEFs\"]\n",
    "    try:\n",
    "        new_df_corr = new_df.corr()\n",
    "    except: \n",
    "        error\n",
    "    globals()['dict_%s' % name][name + \"_result_corr\"] = new_df_corr"
   ]
  },
  {
   "cell_type": "code",
   "execution_count": 23,
   "id": "8aa8c3aa",
   "metadata": {},
   "outputs": [],
   "source": [
    "# saving each dict_ to a single worksheet, different rows , # saving to sub-folder \"results/Resources_IC/\"\n",
    "\n",
    "if not os.path.exists(\"results/Resources_IC\"):\n",
    "    os.makedirs(\"results/Resources_IC\")\n",
    "\n",
    "filename = lcia_name + \"_pairwise_comp_result.xlsx\"\n",
    "writer = pd.ExcelWriter(\"results/Resources_IC/\" + filename, engine='xlsxwriter')\n",
    "\n",
    "for name in pairwise_name:\n",
    "    sum_table = globals()['dict_%s' % name][name + \"_commonEF_sumtable\"]\n",
    "    new_df = globals()['dict_%s' % name][name + \"_result_diffEFs\"]\n",
    "    new_df_corr = globals()['dict_%s' % name][name + \"_result_corr\"]\n",
    "\n",
    "    sum_table.to_excel(writer,sheet_name=name,startrow=0 , startcol=0)   # write first  (3rows)\n",
    "    new_df_corr.to_excel(writer,sheet_name=name,startrow=5 , startcol=0) # write next   (3rows)\n",
    "    new_df.to_excel(writer,sheet_name=name,startrow=10 , startcol=0)     # finally, write the resulting EFs \n",
    "     \n",
    "writer.save()"
   ]
  },
  {
   "cell_type": "code",
   "execution_count": 24,
   "id": "ce6fabad",
   "metadata": {},
   "outputs": [
    {
     "name": "stdout",
     "output_type": "stream",
     "text": [
      "   SP_value  CML_value\n",
      "0       NaN        NaN\n",
      "   SP_value  BW2_value\n",
      "0       NaN        NaN\n",
      "                                                        SP_value  olca_value\n",
      "molybdenum, 0.11% in sulfide, mo 0.41% and cu 0...  1.780000e-02     0.01780\n",
      "barium                                              6.040000e-06     0.00001\n",
      "copper                                              1.370000e-03     0.00137\n",
      "manganese                                           2.540000e-06     0.00000\n",
      "tantalum                                            4.060000e-05     0.00004\n",
      "...                                                          ...         ...\n",
      "aluminium                                           1.090000e-09     0.00000\n",
      "copper, 0.52% in sulfide, cu 0.27% and mo 8.2e-...  1.370000e-03     0.00137\n",
      "vanadium                                            7.700000e-07     0.00000\n",
      "yttrium                                             5.690000e-07     0.00000\n",
      "uranium, 2291 gj per kg                             1.400000e-03     0.00140\n",
      "\n",
      "[108 rows x 2 columns]\n",
      "                                      olca_value     BW2_value\n",
      "974213ef-1ba0-40e5-bc7b-52ef099e9e09     0.00007  1.075100e-04\n",
      "be73218b-18af-492e-96e6-addd309d1e32     0.00054  9.922900e-04\n",
      "2ba5e39b-adb6-4767-a51d-90c1cf32fe98     0.00140  2.868400e-03\n",
      "ef6dd09f-bddc-49b4-a207-dbaec2f07bb5     0.00044  8.582500e-04\n",
      "36a3d172-7373-507f-85bd-12b8ba31a6d4     0.02500  4.270900e-02\n",
      "...                                          ...           ...\n",
      "e2c5109f-9a68-4828-b824-eb2193864803     0.00000  1.027000e-07\n",
      "2f033407-6060-4e1e-868c-9f362d10fdb2     0.00000  2.638600e-08\n",
      "7aaf1a4e-f72f-5dc6-b999-de4e99948eb8     0.00689  9.030800e-03\n",
      "eda28c96-8899-4d84-bf18-35c3f1de518e     0.01780  3.166500e-02\n",
      "fbcb9c7a-eea7-4694-ba6c-568e01d28883     0.00634  1.352100e-02\n",
      "\n",
      "[94 rows x 2 columns]\n",
      "   olca_value  CML_value\n",
      "0         NaN        NaN\n",
      "   BW2_value  CML_value\n",
      "0        NaN        NaN\n"
     ]
    }
   ],
   "source": [
    "for name in pairwise_name:\n",
    "    name1, name2 = name.split(\"vs\",1)[0], name.split(\"vs\",1)[1]\n",
    "    diff_EF = globals()['dict_%s' % name][name + \"_result_diffEFs\"]\n",
    "    print(diff_EF)"
   ]
  },
  {
   "cell_type": "code",
   "execution_count": null,
   "id": "1339cee3",
   "metadata": {},
   "outputs": [],
   "source": []
  }
 ],
 "metadata": {
  "kernelspec": {
   "display_name": "Python 3 (ipykernel)",
   "language": "python",
   "name": "python3"
  },
  "language_info": {
   "codemirror_mode": {
    "name": "ipython",
    "version": 3
   },
   "file_extension": ".py",
   "mimetype": "text/x-python",
   "name": "python",
   "nbconvert_exporter": "python",
   "pygments_lexer": "ipython3",
   "version": "3.9.7"
  }
 },
 "nbformat": 4,
 "nbformat_minor": 5
}
