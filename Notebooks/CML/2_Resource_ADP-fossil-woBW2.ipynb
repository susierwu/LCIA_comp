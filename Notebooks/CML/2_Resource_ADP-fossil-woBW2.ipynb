{
 "cells": [
  {
   "cell_type": "code",
   "execution_count": 1,
   "id": "d12203ea",
   "metadata": {},
   "outputs": [],
   "source": [
    "import pickle\n",
    "import pandas as pd\n",
    "import os           \n",
    "import numpy as np\n",
    "import re\n",
    "import itertools\n",
    "import plotly.express as px\n",
    "#import brightway2 as bw \n",
    "import random \n",
    "import string"
   ]
  },
  {
   "cell_type": "code",
   "execution_count": 2,
   "id": "a06b632b",
   "metadata": {},
   "outputs": [],
   "source": [
    "import sys\n",
    "sys.path.append('../../Module')  #two levels up & then down to Module folder\n",
    "from common_mod import *\n",
    "from mod_resIC import *"
   ]
  },
  {
   "cell_type": "markdown",
   "id": "a5821e26",
   "metadata": {},
   "source": [
    "<h3> BW2 CML 2001 does not have ADP (fossil) IC, only comp. 3 sources </h3>"
   ]
  },
  {
   "cell_type": "code",
   "execution_count": 3,
   "id": "134ea096",
   "metadata": {},
   "outputs": [],
   "source": [
    "LCIAname = [\"CML\", \"SP\", \"openLCA\"]  #source LCIA name \n",
    "lcia_name = \"CML_Abiotic depletion (fossil)\"            # name will be used when saving data/plots\n",
    "SP_name = \"Abiotic depletion (fossil)\"\n",
    "cml_col_name = \"ADPfossil_MJ\"\n",
    "cml_col_keep = [2,14,15,16,17] # these are \"unit\",'cas_number','flow'... to keep for each IC, will append cml_col_name later\n",
    "olca_filepathname = \"../../Data_rawCFs/olca_CML_ADP_fossil_saved.dat\"\n",
    "#bw2_filepathname =  \"../../Data_rawCFs/ \"\n",
    "#used in final calculation to create dict names\n",
    "pairwise_name = [\"SPvsCML\", \"SPvsopenLCA\",  \"openLCAvsCML\"]"
   ]
  },
  {
   "cell_type": "markdown",
   "id": "17cdbb83",
   "metadata": {},
   "source": [
    "<h3> read in raw cleaned-up CML and select ADP (fossil) col </h3>"
   ]
  },
  {
   "cell_type": "code",
   "execution_count": 4,
   "id": "65c2cb6c",
   "metadata": {
    "scrolled": false
   },
   "outputs": [
    {
     "data": {
      "text/plain": [
       "Index(['Unnamed: 0', 'Substance', 'unit', 'ADPelement_kgSb', 'ADPfossil_MJ',\n",
       "       'GWP_kgCO2', 'ODP_kgCFC-11', 'HTP_kg1,4DCB', 'FAETP_kg1,4DCB',\n",
       "       'MAETP_kg1,4DCB', 'TETP_kg1,4DCB', 'POFP_kgEthylene', 'AP_kgSO2',\n",
       "       'EP_kgPO4', 'cas_number', 'flow', 'subcategory', 'category'],\n",
       "      dtype='object')"
      ]
     },
     "execution_count": 4,
     "metadata": {},
     "output_type": "execute_result"
    }
   ],
   "source": [
    "cml = pd.read_excel(\"CML_cleaned_11IC.xlsx\" )  #header=[1,2,3]\n",
    "cml.columns"
   ]
  },
  {
   "cell_type": "code",
   "execution_count": 5,
   "id": "354bc93a",
   "metadata": {
    "scrolled": true
   },
   "outputs": [
    {
     "data": {
      "text/plain": [
       "[2, 14, 15, 16, 17, 4]"
      ]
     },
     "execution_count": 5,
     "metadata": {},
     "output_type": "execute_result"
    }
   ],
   "source": [
    "cml_col_keep.append(cml.columns.get_loc(cml_col_name) )\n",
    "cml_col_keep"
   ]
  },
  {
   "cell_type": "code",
   "execution_count": 6,
   "id": "0f398ef2",
   "metadata": {},
   "outputs": [
    {
     "name": "stdout",
     "output_type": "stream",
     "text": [
      "1961\n",
      "9\n"
     ]
    }
   ],
   "source": [
    "cml_raw = cml.iloc[: , cml_col_keep]\n",
    "print(len(cml_raw))\n",
    "cml_raw = cml_raw.dropna(subset=[cml_col_name])  #drop all na value for the IC\n",
    "print(len(cml_raw))\n",
    "cml_raw = cml_raw.rename(columns={cml_col_name:\"value\"  })\n",
    "cml_raw = cml_raw.rename(str.lower, axis='columns')\n",
    "#cml_raw.head()"
   ]
  },
  {
   "cell_type": "code",
   "execution_count": 7,
   "id": "607397a1",
   "metadata": {},
   "outputs": [
    {
     "data": {
      "text/html": [
       "<div>\n",
       "<style scoped>\n",
       "    .dataframe tbody tr th:only-of-type {\n",
       "        vertical-align: middle;\n",
       "    }\n",
       "\n",
       "    .dataframe tbody tr th {\n",
       "        vertical-align: top;\n",
       "    }\n",
       "\n",
       "    .dataframe thead th {\n",
       "        text-align: right;\n",
       "    }\n",
       "</style>\n",
       "<table border=\"1\" class=\"dataframe\">\n",
       "  <thead>\n",
       "    <tr style=\"text-align: right;\">\n",
       "      <th></th>\n",
       "      <th>unit</th>\n",
       "      <th>cas_number</th>\n",
       "      <th>flow</th>\n",
       "      <th>subcategory</th>\n",
       "      <th>category</th>\n",
       "      <th>value</th>\n",
       "    </tr>\n",
       "  </thead>\n",
       "  <tbody>\n",
       "    <tr>\n",
       "      <th>84</th>\n",
       "      <td>kg</td>\n",
       "      <td>coal hard</td>\n",
       "      <td>coal hard</td>\n",
       "      <td>res_landscape_resources</td>\n",
       "      <td>resourcesIC</td>\n",
       "      <td>27.91</td>\n",
       "    </tr>\n",
       "    <tr>\n",
       "      <th>85</th>\n",
       "      <td>kg</td>\n",
       "      <td>coal soft</td>\n",
       "      <td>coal soft, lignite</td>\n",
       "      <td>res_landscape_resources</td>\n",
       "      <td>resourcesIC</td>\n",
       "      <td>13.96</td>\n",
       "    </tr>\n",
       "    <tr>\n",
       "      <th>86</th>\n",
       "      <td>m3</td>\n",
       "      <td>008006-14-2</td>\n",
       "      <td>natural gas</td>\n",
       "      <td>res_landscape_resources</td>\n",
       "      <td>resourcesIC</td>\n",
       "      <td>38.84</td>\n",
       "    </tr>\n",
       "    <tr>\n",
       "      <th>87</th>\n",
       "      <td>kg</td>\n",
       "      <td>008012-95-1</td>\n",
       "      <td>oil crude</td>\n",
       "      <td>res_landscape_resources</td>\n",
       "      <td>resourcesIC</td>\n",
       "      <td>41.87</td>\n",
       "    </tr>\n",
       "    <tr>\n",
       "      <th>88</th>\n",
       "      <td>MJ</td>\n",
       "      <td>fossil- f-u</td>\n",
       "      <td>fossil fuel</td>\n",
       "      <td>res_landscape_resources</td>\n",
       "      <td>resourcesIC</td>\n",
       "      <td>1.00</td>\n",
       "    </tr>\n",
       "    <tr>\n",
       "      <th>89</th>\n",
       "      <td>MJ</td>\n",
       "      <td>coal hard</td>\n",
       "      <td>coal hard</td>\n",
       "      <td>res_landscape_resources</td>\n",
       "      <td>resourcesIC</td>\n",
       "      <td>1.00</td>\n",
       "    </tr>\n",
       "    <tr>\n",
       "      <th>90</th>\n",
       "      <td>MJ</td>\n",
       "      <td>coal soft</td>\n",
       "      <td>coal soft, lignite</td>\n",
       "      <td>res_landscape_resources</td>\n",
       "      <td>resourcesIC</td>\n",
       "      <td>1.00</td>\n",
       "    </tr>\n",
       "    <tr>\n",
       "      <th>91</th>\n",
       "      <td>MJ</td>\n",
       "      <td>008006-14-2</td>\n",
       "      <td>natural gas</td>\n",
       "      <td>res_landscape_resources</td>\n",
       "      <td>resourcesIC</td>\n",
       "      <td>1.00</td>\n",
       "    </tr>\n",
       "    <tr>\n",
       "      <th>92</th>\n",
       "      <td>MJ</td>\n",
       "      <td>008012-95-1</td>\n",
       "      <td>oil crude</td>\n",
       "      <td>res_landscape_resources</td>\n",
       "      <td>resourcesIC</td>\n",
       "      <td>1.00</td>\n",
       "    </tr>\n",
       "  </tbody>\n",
       "</table>\n",
       "</div>"
      ],
      "text/plain": [
       "   unit   cas_number                 flow              subcategory  \\\n",
       "84   kg    coal hard           coal hard   res_landscape_resources   \n",
       "85   kg    coal soft  coal soft, lignite   res_landscape_resources   \n",
       "86   m3  008006-14-2         natural gas   res_landscape_resources   \n",
       "87   kg  008012-95-1           oil crude   res_landscape_resources   \n",
       "88   MJ  fossil- f-u          fossil fuel  res_landscape_resources   \n",
       "89   MJ    coal hard           coal hard   res_landscape_resources   \n",
       "90   MJ    coal soft  coal soft, lignite   res_landscape_resources   \n",
       "91   MJ  008006-14-2         natural gas   res_landscape_resources   \n",
       "92   MJ  008012-95-1           oil crude   res_landscape_resources   \n",
       "\n",
       "       category  value  \n",
       "84  resourcesIC  27.91  \n",
       "85  resourcesIC  13.96  \n",
       "86  resourcesIC  38.84  \n",
       "87  resourcesIC  41.87  \n",
       "88  resourcesIC   1.00  \n",
       "89  resourcesIC   1.00  \n",
       "90  resourcesIC   1.00  \n",
       "91  resourcesIC   1.00  \n",
       "92  resourcesIC   1.00  "
      ]
     },
     "execution_count": 7,
     "metadata": {},
     "output_type": "execute_result"
    }
   ],
   "source": [
    "cml_raw['flow'] = cml_raw['flow'].str.lower()\n",
    "cml_raw"
   ]
  },
  {
   "cell_type": "markdown",
   "id": "ada760de",
   "metadata": {},
   "source": [
    "<font color = 'red'> 9 flows for raw CML, diff. naming from other LCIA sources, can't be renamed consistently  </font> "
   ]
  },
  {
   "cell_type": "markdown",
   "id": "5027c030",
   "metadata": {},
   "source": [
    "<h3> read in raw SP </h3>"
   ]
  },
  {
   "cell_type": "code",
   "execution_count": 8,
   "id": "037c1ef6",
   "metadata": {},
   "outputs": [
    {
     "name": "stdout",
     "output_type": "stream",
     "text": [
      "37\n"
     ]
    }
   ],
   "source": [
    "SP_cml = pd.read_excel(\"../../Data_rawCFs/SP_CML-IA.xlsx\", sheet_name=SP_name, \n",
    "                                  header=[0], converters={'CAS':str})\n",
    "\n",
    "print(len(SP_cml))\n",
    "SP_cml = SP_cml.rename(columns={\"Compartment\": \"category\", \"Subcompartment\": \"subcategory\", \n",
    "                               \"Substance\": \"flow\", \"Factor\":\"value\", \"CAS\": \"cas_number\" })\n",
    "SP_cml = SP_cml.rename(str.lower, axis='columns')"
   ]
  },
  {
   "cell_type": "code",
   "execution_count": 9,
   "id": "3095b655",
   "metadata": {},
   "outputs": [
    {
     "data": {
      "text/html": [
       "<div>\n",
       "<style scoped>\n",
       "    .dataframe tbody tr th:only-of-type {\n",
       "        vertical-align: middle;\n",
       "    }\n",
       "\n",
       "    .dataframe tbody tr th {\n",
       "        vertical-align: top;\n",
       "    }\n",
       "\n",
       "    .dataframe thead th {\n",
       "        text-align: right;\n",
       "    }\n",
       "</style>\n",
       "<table border=\"1\" class=\"dataframe\">\n",
       "  <thead>\n",
       "    <tr style=\"text-align: right;\">\n",
       "      <th></th>\n",
       "      <th>category</th>\n",
       "      <th>subcategory</th>\n",
       "      <th>flow</th>\n",
       "      <th>cas_number</th>\n",
       "      <th>value</th>\n",
       "      <th>unit</th>\n",
       "    </tr>\n",
       "  </thead>\n",
       "  <tbody>\n",
       "    <tr>\n",
       "      <th>0</th>\n",
       "      <td>Raw</td>\n",
       "      <td>(unspecified)</td>\n",
       "      <td>coal, 18 mj per kg</td>\n",
       "      <td>NaN</td>\n",
       "      <td>18.00</td>\n",
       "      <td>MJ / kg</td>\n",
       "    </tr>\n",
       "    <tr>\n",
       "      <th>1</th>\n",
       "      <td>Raw</td>\n",
       "      <td>(unspecified)</td>\n",
       "      <td>coal, 26.4 mj per kg</td>\n",
       "      <td>NaN</td>\n",
       "      <td>26.40</td>\n",
       "      <td>MJ / kg</td>\n",
       "    </tr>\n",
       "    <tr>\n",
       "      <th>2</th>\n",
       "      <td>Raw</td>\n",
       "      <td>(unspecified)</td>\n",
       "      <td>coal, 29.3 mj per kg</td>\n",
       "      <td>NaN</td>\n",
       "      <td>29.30</td>\n",
       "      <td>MJ / kg</td>\n",
       "    </tr>\n",
       "    <tr>\n",
       "      <th>3</th>\n",
       "      <td>Raw</td>\n",
       "      <td>(unspecified)</td>\n",
       "      <td>coal, bituminous, 24.8 mj per kg</td>\n",
       "      <td>NaN</td>\n",
       "      <td>24.80</td>\n",
       "      <td>MJ / kg</td>\n",
       "    </tr>\n",
       "    <tr>\n",
       "      <th>4</th>\n",
       "      <td>Raw</td>\n",
       "      <td>(unspecified)</td>\n",
       "      <td>coal, brown</td>\n",
       "      <td>NaN</td>\n",
       "      <td>8.75</td>\n",
       "      <td>MJ / kg</td>\n",
       "    </tr>\n",
       "  </tbody>\n",
       "</table>\n",
       "</div>"
      ],
      "text/plain": [
       "  category    subcategory                              flow cas_number  value  \\\n",
       "0      Raw  (unspecified)                coal, 18 mj per kg        NaN  18.00   \n",
       "1      Raw  (unspecified)              coal, 26.4 mj per kg        NaN  26.40   \n",
       "2      Raw  (unspecified)              coal, 29.3 mj per kg        NaN  29.30   \n",
       "3      Raw  (unspecified)  coal, bituminous, 24.8 mj per kg        NaN  24.80   \n",
       "4      Raw  (unspecified)                       coal, brown        NaN   8.75   \n",
       "\n",
       "      unit  \n",
       "0  MJ / kg  \n",
       "1  MJ / kg  \n",
       "2  MJ / kg  \n",
       "3  MJ / kg  \n",
       "4  MJ / kg  "
      ]
     },
     "execution_count": 9,
     "metadata": {},
     "output_type": "execute_result"
    }
   ],
   "source": [
    "SP_cml['flow'] = SP_cml['flow'].str.lower()\n",
    "SP_cml.head()"
   ]
  },
  {
   "cell_type": "code",
   "execution_count": 10,
   "id": "aaf010d2",
   "metadata": {},
   "outputs": [
    {
     "name": "stdout",
     "output_type": "stream",
     "text": [
      "coal, 18 mj per kg\n",
      "coal, 26.4 mj per kg\n",
      "coal, 29.3 mj per kg\n",
      "coal, bituminous, 24.8 mj per kg\n",
      "coal, brown\n",
      "coal, brown, 10 mj per kg\n",
      "coal, brown, 8 mj per kg\n",
      "coal, feedstock, 26.4 mj per kg\n",
      "coal, hard\n",
      "coal, hard, 30.7 mj per kg\n",
      "energy, from coal\n",
      "energy, from coal, brown\n",
      "energy, from gas, natural\n",
      "energy, from oil\n",
      "energy, from sulfur\n",
      "energy, unspecified\n",
      "gas, mine, off-gas, process, coal mining/kg\n",
      "gas, mine, off-gas, process, coal mining/m3\n",
      "gas, natural, 30.3 mj per kg\n",
      "gas, natural, 35 mj per m3\n",
      "gas, natural, 36.6 mj per m3\n",
      "gas, natural, 46.8 mj per kg\n",
      "gas, natural, feedstock, 35 mj per m3\n",
      "gas, natural, feedstock, 46.8 mj per kg\n",
      "gas, natural/kg\n",
      "gas, natural/m3\n",
      "gas, off-gas, oil production\n",
      "gas, petroleum, 35 mj per m3\n",
      "methane\n",
      "oil, crude\n",
      "oil, crude, 38400 mj per m3\n",
      "oil, crude, 41 mj per kg\n",
      "oil, crude, 42 mj per kg\n",
      "oil, crude, 42.6 mj per kg\n",
      "oil, crude, 42.7 mj per kg\n",
      "oil, crude, feedstock, 41 mj per kg\n",
      "oil, crude, feedstock, 42 mj per kg\n"
     ]
    }
   ],
   "source": [
    "for x in SP_cml['flow']: print(x)"
   ]
  },
  {
   "cell_type": "markdown",
   "id": "a4e58a2e",
   "metadata": {},
   "source": [
    "<h3> read in raw openLCA dat </h3>"
   ]
  },
  {
   "cell_type": "code",
   "execution_count": 11,
   "id": "6bf6dcd7",
   "metadata": {},
   "outputs": [
    {
     "data": {
      "text/html": [
       "<div>\n",
       "<style scoped>\n",
       "    .dataframe tbody tr th:only-of-type {\n",
       "        vertical-align: middle;\n",
       "    }\n",
       "\n",
       "    .dataframe tbody tr th {\n",
       "        vertical-align: top;\n",
       "    }\n",
       "\n",
       "    .dataframe thead th {\n",
       "        text-align: right;\n",
       "    }\n",
       "</style>\n",
       "<table border=\"1\" class=\"dataframe\">\n",
       "  <thead>\n",
       "    <tr style=\"text-align: right;\">\n",
       "      <th></th>\n",
       "      <th>impact_method</th>\n",
       "      <th>impact_category_uuid</th>\n",
       "      <th>impact_category</th>\n",
       "      <th>reference_unit</th>\n",
       "      <th>flow_uuid</th>\n",
       "      <th>flow</th>\n",
       "      <th>cas_number</th>\n",
       "      <th>subcategory</th>\n",
       "      <th>category</th>\n",
       "      <th>unit</th>\n",
       "      <th>value</th>\n",
       "    </tr>\n",
       "  </thead>\n",
       "  <tbody>\n",
       "    <tr>\n",
       "      <th>0</th>\n",
       "      <td>CML-IA baseline</td>\n",
       "      <td>a30f30eb-d5ff-3051-80f2-2f789db52886</td>\n",
       "      <td>Abiotic depletion (fossil fuels)</td>\n",
       "      <td>MJ</td>\n",
       "      <td>ed5c032f-fb99-3e66-a590-0c007326efa5</td>\n",
       "      <td>gas, off-gas, oil production</td>\n",
       "      <td>NaN</td>\n",
       "      <td>in ground</td>\n",
       "      <td>Resource</td>\n",
       "      <td>m3</td>\n",
       "      <td>35.85</td>\n",
       "    </tr>\n",
       "    <tr>\n",
       "      <th>1</th>\n",
       "      <td>CML-IA baseline</td>\n",
       "      <td>a30f30eb-d5ff-3051-80f2-2f789db52886</td>\n",
       "      <td>Abiotic depletion (fossil fuels)</td>\n",
       "      <td>MJ</td>\n",
       "      <td>7ae371b0-8532-11e0-9d78-0800200c9a66</td>\n",
       "      <td>coal, hard, 30.7 mj per kg, in ground</td>\n",
       "      <td>NaN</td>\n",
       "      <td>in ground</td>\n",
       "      <td>Resource</td>\n",
       "      <td>kg</td>\n",
       "      <td>30.7</td>\n",
       "    </tr>\n",
       "    <tr>\n",
       "      <th>2</th>\n",
       "      <td>CML-IA baseline</td>\n",
       "      <td>a30f30eb-d5ff-3051-80f2-2f789db52886</td>\n",
       "      <td>Abiotic depletion (fossil fuels)</td>\n",
       "      <td>MJ</td>\n",
       "      <td>71e1cd1c-c0f1-35dd-b0d8-fbc23850d056</td>\n",
       "      <td>coal, brown, 8 mj per kg, in ground</td>\n",
       "      <td>NaN</td>\n",
       "      <td>in ground</td>\n",
       "      <td>Resource</td>\n",
       "      <td>kg</td>\n",
       "      <td>8</td>\n",
       "    </tr>\n",
       "    <tr>\n",
       "      <th>3</th>\n",
       "      <td>CML-IA baseline</td>\n",
       "      <td>a30f30eb-d5ff-3051-80f2-2f789db52886</td>\n",
       "      <td>Abiotic depletion (fossil fuels)</td>\n",
       "      <td>MJ</td>\n",
       "      <td>5df3c6a9-a888-4b5d-9a94-f3f610d38756</td>\n",
       "      <td>gas, natural, feedstock, 35 mj per m3</td>\n",
       "      <td>008006-14-2</td>\n",
       "      <td>in ground</td>\n",
       "      <td>Resource</td>\n",
       "      <td>m3</td>\n",
       "      <td>35</td>\n",
       "    </tr>\n",
       "    <tr>\n",
       "      <th>4</th>\n",
       "      <td>CML-IA baseline</td>\n",
       "      <td>a30f30eb-d5ff-3051-80f2-2f789db52886</td>\n",
       "      <td>Abiotic depletion (fossil fuels)</td>\n",
       "      <td>MJ</td>\n",
       "      <td>3ed5f377-344f-423a-b5ec-9a9a1162b944</td>\n",
       "      <td>gas, mine, off-gas, process, coal mining</td>\n",
       "      <td>NaN</td>\n",
       "      <td>in ground</td>\n",
       "      <td>Resource</td>\n",
       "      <td>m3</td>\n",
       "      <td>35.85</td>\n",
       "    </tr>\n",
       "  </tbody>\n",
       "</table>\n",
       "</div>"
      ],
      "text/plain": [
       "     impact_method                  impact_category_uuid  \\\n",
       "0  CML-IA baseline  a30f30eb-d5ff-3051-80f2-2f789db52886   \n",
       "1  CML-IA baseline  a30f30eb-d5ff-3051-80f2-2f789db52886   \n",
       "2  CML-IA baseline  a30f30eb-d5ff-3051-80f2-2f789db52886   \n",
       "3  CML-IA baseline  a30f30eb-d5ff-3051-80f2-2f789db52886   \n",
       "4  CML-IA baseline  a30f30eb-d5ff-3051-80f2-2f789db52886   \n",
       "\n",
       "                    impact_category reference_unit  \\\n",
       "0  Abiotic depletion (fossil fuels)             MJ   \n",
       "1  Abiotic depletion (fossil fuels)             MJ   \n",
       "2  Abiotic depletion (fossil fuels)             MJ   \n",
       "3  Abiotic depletion (fossil fuels)             MJ   \n",
       "4  Abiotic depletion (fossil fuels)             MJ   \n",
       "\n",
       "                              flow_uuid  \\\n",
       "0  ed5c032f-fb99-3e66-a590-0c007326efa5   \n",
       "1  7ae371b0-8532-11e0-9d78-0800200c9a66   \n",
       "2  71e1cd1c-c0f1-35dd-b0d8-fbc23850d056   \n",
       "3  5df3c6a9-a888-4b5d-9a94-f3f610d38756   \n",
       "4  3ed5f377-344f-423a-b5ec-9a9a1162b944   \n",
       "\n",
       "                                       flow   cas_number subcategory  \\\n",
       "0              gas, off-gas, oil production          NaN   in ground   \n",
       "1     coal, hard, 30.7 mj per kg, in ground          NaN   in ground   \n",
       "2       coal, brown, 8 mj per kg, in ground          NaN   in ground   \n",
       "3     gas, natural, feedstock, 35 mj per m3  008006-14-2   in ground   \n",
       "4  gas, mine, off-gas, process, coal mining          NaN   in ground   \n",
       "\n",
       "   category unit  value  \n",
       "0  Resource   m3  35.85  \n",
       "1  Resource   kg   30.7  \n",
       "2  Resource   kg      8  \n",
       "3  Resource   m3     35  \n",
       "4  Resource   m3  35.85  "
      ]
     },
     "execution_count": 11,
     "metadata": {},
     "output_type": "execute_result"
    }
   ],
   "source": [
    "olca_cml = unpickle_data(olca_filepathname)\n",
    "olca_cml = olca_cml.rename(str.lower, axis='columns')\n",
    "olca_cml['flow'] = olca_cml['flow'].str.lower()\n",
    "olca_cml.head()"
   ]
  },
  {
   "cell_type": "markdown",
   "id": "7f87fc96",
   "metadata": {},
   "source": [
    "<h3> unlike emission-type IC, for resources, no \"common_category\" will be added </h3>\n",
    "\n",
    "<h4> <font color = 'red'> for the same one flow, it typically has same CF value regardless of its compartment (except for fresh water/seawater) </font> </h4>\n",
    "\n",
    "using res_check_EF_value (df, df_EF_name_col, df_EF_value_col, EF_list):  #df_EF_col_name is \"flow\"   "
   ]
  },
  {
   "cell_type": "markdown",
   "id": "999385f0",
   "metadata": {},
   "source": [
    "### final calculation, pair-wise comparison, corr. matrix\n",
    "\n",
    "<h4> <font color = 'red'> for raw CML, it uses diff. naming from all other sources, no same flow name found for CML vs. other LCIA sources </font> </h4>\n"
   ]
  },
  {
   "cell_type": "code",
   "execution_count": 12,
   "id": "52ca2488",
   "metadata": {},
   "outputs": [],
   "source": [
    "# create 6 empty dict: dict_SPvsRIVM; dict_SPvsBW2; dict_SPvsopenLCA; dict_openLCAvsBW2; dict_openLCAvsRIVM; dict_BW2vsRIVM\n",
    "# each dict with four keys and null values (to be assigned later)\n",
    "for name in pairwise_name:\n",
    "    #print(name)\n",
    "    keys = [name+\"_commonEF_sumtable\", name+\"_commonEF_list\", name + \"_result_diffEFs\", name + \"_result_corr\" ]\n",
    "    globals()['dict_%s' % name] = dict.fromkeys(keys, None)"
   ]
  },
  {
   "cell_type": "code",
   "execution_count": 13,
   "id": "0ca78622",
   "metadata": {},
   "outputs": [
    {
     "name": "stdout",
     "output_type": "stream",
     "text": [
      "EF in A but not in B: ['oil, crude', 'coal, 18 mj per kg', 'energy, from sulfur', 'gas, natural, feedstock, 46.8 mj per kg', 'energy, from coal', 'coal, brown, 8 mj per kg', 'gas, natural, feedstock, 35 mj per m3', 'gas, mine, off-gas, process, coal mining/m3', 'oil, crude, 38400 mj per m3', 'oil, crude, 42 mj per kg', 'gas, natural/kg', 'energy, from gas, natural', 'coal, brown, 10 mj per kg', 'coal, hard, 30.7 mj per kg', 'gas, natural, 30.3 mj per kg', 'coal, brown', 'coal, bituminous, 24.8 mj per kg', 'oil, crude, feedstock, 41 mj per kg', 'energy, unspecified', 'coal, hard', 'gas, natural, 36.6 mj per m3', 'gas, natural/m3', 'gas, off-gas, oil production', 'gas, petroleum, 35 mj per m3', 'coal, feedstock, 26.4 mj per kg', 'gas, mine, off-gas, process, coal mining/kg', 'coal, 29.3 mj per kg', 'oil, crude, 42.7 mj per kg', 'energy, from coal, brown', 'coal, 26.4 mj per kg', 'gas, natural, 46.8 mj per kg', 'oil, crude, 41 mj per kg', 'oil, crude, 42.6 mj per kg', 'energy, from oil', 'methane', 'oil, crude, feedstock, 42 mj per kg', 'gas, natural, 35 mj per m3']\n",
      "EF in B but not in A: ['natural gas ', 'fossil fuel', 'oil crude ', 'coal hard ', 'coal soft, lignite ']\n",
      "N of common EFs to be used is: 0\n"
     ]
    }
   ],
   "source": [
    "k_list = list(dict_SPvsCML)\n",
    "dict_SPvsCML[k_list[0]], dict_SPvsCML[k_list[1]] = res_compare_included_EF(SP_cml, \"flow\", cml_raw,  \"flow\", to_print = \"yes\" )\n",
    "if len(dict_SPvsCML[k_list[1]] ) == 0: \n",
    "    dict_SPvsCML[k_list[2]] = pd.DataFrame ({'SP_value': np.NaN , 'CML_value': np.NaN }, index=[0])\n",
    "else:\n",
    "    dict_SPvsCML[k_list[2]] = pd.DataFrame (\n",
    "        {'SP_value': final_EF_combined(SP_cml, \"flow\", \"value\", cml_raw, \"flow\", \"value\", dict_SPvsCML[k_list[1]])[0] , \n",
    "         'CML_value': final_EF_combined(SP_cml, \"flow\", \"value\", cml_raw, \"flow\", \"value\", dict_SPvsCML[k_list[1]])[1] }, \n",
    "        index = dict_SPvsCML[k_list[1]]\n",
    "    )"
   ]
  },
  {
   "cell_type": "code",
   "execution_count": 14,
   "id": "b22f745d",
   "metadata": {},
   "outputs": [
    {
     "name": "stdout",
     "output_type": "stream",
     "text": [
      "EF in A but not in B: []\n",
      "EF in B but not in A: ['oil, crude, feedstock, 41 mj per kg, in ground', 'coal, 18 mj per kg, in ground', 'oil, crude, in ground', 'coal, hard, unspecified, in ground', 'oil, crude, feedstock, 42 mj per kg, in ground', 'coal, brown, 8 mj per kg, in ground', 'oil, crude, 41 mj per kg, in ground', 'coal, feedstock, 26.4 mj per kg, in ground', 'gas, mine, off-gas, process, coal mining', 'oil, crude, 42.6 mj per kg, in ground', 'gas, natural, in ground', 'coal, brown, in ground', 'oil, crude, 38400 mj per m3, in ground', 'gas, petroleum, 35 mj per m3, in ground', 'coal, brown, 10 mj per kg, in ground', 'gas, off-gas, oil production, in ground', 'coal, hard, 30.7 mj per kg, in ground', 'coal, hard, unspecified']\n",
      "N of common EFs to be used is: 37\n"
     ]
    }
   ],
   "source": [
    "k_list = list(dict_SPvsopenLCA)\n",
    "dict_SPvsopenLCA[k_list[0]],dict_SPvsopenLCA[k_list[1]] = res_compare_included_EF(SP_cml, \"flow\", olca_cml,  \"flow\", to_print = \"yes\" )\n",
    "if len(dict_SPvsopenLCA[k_list[1]] ) == 0: \n",
    "    dict_SPvsopenLCA[k_list[2]] = pd.DataFrame ({'SP_value': np.NaN , 'olca_value': np.NaN }, index=[0])\n",
    "else:\n",
    "    dict_SPvsopenLCA[k_list[2]] = pd.DataFrame (\n",
    "        {'SP_value': final_EF_combined(SP_cml, \"flow\", \"value\", olca_cml, \"flow\", \"value\", dict_SPvsopenLCA[k_list[1]])[0] , \n",
    "         'olca_value': final_EF_combined(SP_cml, \"flow\", \"value\", olca_cml, \"flow\", \"value\", dict_SPvsopenLCA[k_list[1]])[1] },\n",
    "        index = dict_SPvsopenLCA[k_list[1]]\n",
    "    )"
   ]
  },
  {
   "cell_type": "code",
   "execution_count": 15,
   "id": "5c557625",
   "metadata": {},
   "outputs": [
    {
     "name": "stdout",
     "output_type": "stream",
     "text": [
      "Detailed differences won't be printed out, to print, add input argument: to_print = 'yes'.  \n",
      "N of common EFs to be used is: 0\n"
     ]
    }
   ],
   "source": [
    "k_list = list(dict_openLCAvsCML)\n",
    "dict_openLCAvsCML[k_list[0]],dict_openLCAvsCML[k_list[1]] = res_compare_included_EF(olca_cml, \"flow\", cml_raw, \"flow\", to_print = \"no\" )\n",
    "\n",
    "if len(dict_openLCAvsCML[k_list[1]] ) == 0: \n",
    "    dict_openLCAvsCML[k_list[2]] = pd.DataFrame ({'olca_value': np.NaN , 'CML_value': np.NaN }, index=[0])\n",
    "else:\n",
    "    dict_openLCAvsCML[k_list[2]] = pd.DataFrame (\n",
    "        {'olca_value': final_EF_combined(olca_cml, \"flow\", \"value\", cml_raw, \"flow\", \"value\", \n",
    "                                       dict_openLCAvsCML[k_list[1]])[0] , \n",
    "         'CML_value': final_EF_combined(olca_cml, \"flow\", \"value\", cml_raw, \"flow\", \"value\",\n",
    "                                         dict_openLCAvsCML[k_list[1]])[1] },\n",
    "        index = dict_openLCAvsCML[k_list[1]]\n",
    "    )"
   ]
  },
  {
   "cell_type": "markdown",
   "id": "2e61eda2",
   "metadata": {},
   "source": [
    "<h4> Assign values to final key for each dict: result_corr_coeff  </h4>\n"
   ]
  },
  {
   "cell_type": "code",
   "execution_count": 16,
   "id": "299de566",
   "metadata": {},
   "outputs": [],
   "source": [
    "for name in pairwise_name:\n",
    "    new_df = globals()['dict_%s' % name][name + \"_result_diffEFs\"]\n",
    "    try:\n",
    "        new_df_corr = new_df.corr()\n",
    "    except: \n",
    "        error\n",
    "    globals()['dict_%s' % name][name + \"_result_corr\"] = new_df_corr"
   ]
  },
  {
   "cell_type": "code",
   "execution_count": 17,
   "id": "8aa8c3aa",
   "metadata": {},
   "outputs": [],
   "source": [
    "# saving each dict_ to a single worksheet, different rows , # saving to sub-folder \"results/Resources_IC/\"\n",
    "\n",
    "if not os.path.exists(\"results/Resources_IC\"):\n",
    "    os.makedirs(\"results/Resources_IC\")\n",
    "\n",
    "filename = lcia_name + \"_pairwise_comp_result.xlsx\"\n",
    "writer = pd.ExcelWriter(\"results/Resources_IC/\" + filename, engine='xlsxwriter')\n",
    "\n",
    "for name in pairwise_name:\n",
    "    sum_table = globals()['dict_%s' % name][name + \"_commonEF_sumtable\"]\n",
    "    new_df = globals()['dict_%s' % name][name + \"_result_diffEFs\"]\n",
    "    new_df_corr = globals()['dict_%s' % name][name + \"_result_corr\"]\n",
    "\n",
    "    sum_table.to_excel(writer,sheet_name=name,startrow=0 , startcol=0)   # write first  (3rows)\n",
    "    new_df_corr.to_excel(writer,sheet_name=name,startrow=5 , startcol=0) # write next   (3rows)\n",
    "    new_df.to_excel(writer,sheet_name=name,startrow=10 , startcol=0)     # finally, write the resulting EFs \n",
    "     \n",
    "writer.save()"
   ]
  },
  {
   "cell_type": "code",
   "execution_count": 18,
   "id": "ce6fabad",
   "metadata": {},
   "outputs": [
    {
     "name": "stdout",
     "output_type": "stream",
     "text": [
      "   SP_value  CML_value\n",
      "0       NaN        NaN\n",
      "                                             SP_value  olca_value\n",
      "oil, crude                                      43.20       43.20\n",
      "coal, 18 mj per kg                              18.00       18.00\n",
      "energy, from sulfur                              1.00        1.00\n",
      "gas, natural, feedstock, 46.8 mj per kg         46.80       46.80\n",
      "energy, from coal                                1.00        1.00\n",
      "coal, brown, 8 mj per kg                         8.00        8.00\n",
      "gas, natural, feedstock, 35 mj per m3           35.00       35.00\n",
      "gas, mine, off-gas, process, coal mining/m3     35.85       35.85\n",
      "oil, crude, 38400 mj per m3                  38400.00    38400.00\n",
      "oil, crude, 42 mj per kg                        42.00       42.00\n",
      "gas, natural/kg                                 43.15       43.15\n",
      "energy, from gas, natural                        1.00        1.00\n",
      "coal, brown, 10 mj per kg                       10.00       10.00\n",
      "coal, hard, 30.7 mj per kg                      30.70       30.70\n",
      "gas, natural, 30.3 mj per kg                    30.30       30.30\n",
      "coal, brown                                      8.75        8.75\n",
      "coal, bituminous, 24.8 mj per kg                24.80       24.80\n",
      "oil, crude, feedstock, 41 mj per kg             41.00       41.00\n",
      "energy, unspecified                              1.00        1.00\n",
      "coal, hard                                      18.16       18.16\n",
      "gas, natural, 36.6 mj per m3                    36.60       36.60\n",
      "gas, natural/m3                                 34.50       34.50\n",
      "gas, off-gas, oil production                    35.85       35.85\n",
      "gas, petroleum, 35 mj per m3                    35.00       35.00\n",
      "coal, feedstock, 26.4 mj per kg                 26.40       26.40\n",
      "gas, mine, off-gas, process, coal mining/kg     44.86       44.86\n",
      "coal, 29.3 mj per kg                            29.30       29.30\n",
      "oil, crude, 42.7 mj per kg                      42.70       42.70\n",
      "energy, from coal, brown                         1.00        1.00\n",
      "coal, 26.4 mj per kg                            26.40       26.40\n",
      "gas, natural, 46.8 mj per kg                    46.80       46.80\n",
      "oil, crude, 41 mj per kg                        41.00       41.00\n",
      "oil, crude, 42.6 mj per kg                      42.60       42.60\n",
      "energy, from oil                                 1.00        1.00\n",
      "methane                                         50.00       50.00\n",
      "oil, crude, feedstock, 42 mj per kg             42.00       42.00\n",
      "gas, natural, 35 mj per m3                      35.00       35.00\n",
      "   olca_value  CML_value\n",
      "0         NaN        NaN\n"
     ]
    }
   ],
   "source": [
    "for name in pairwise_name:\n",
    "    name1, name2 = name.split(\"vs\",1)[0], name.split(\"vs\",1)[1]\n",
    "    diff_EF = globals()['dict_%s' % name][name + \"_result_diffEFs\"]\n",
    "    print(diff_EF)"
   ]
  },
  {
   "cell_type": "code",
   "execution_count": null,
   "id": "6c38bc43",
   "metadata": {},
   "outputs": [],
   "source": []
  },
  {
   "cell_type": "code",
   "execution_count": null,
   "id": "1339cee3",
   "metadata": {},
   "outputs": [],
   "source": []
  }
 ],
 "metadata": {
  "kernelspec": {
   "display_name": "Python 3 (ipykernel)",
   "language": "python",
   "name": "python3"
  },
  "language_info": {
   "codemirror_mode": {
    "name": "ipython",
    "version": 3
   },
   "file_extension": ".py",
   "mimetype": "text/x-python",
   "name": "python",
   "nbconvert_exporter": "python",
   "pygments_lexer": "ipython3",
   "version": "3.9.7"
  }
 },
 "nbformat": 4,
 "nbformat_minor": 5
}
